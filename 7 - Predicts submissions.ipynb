{
 "cells": [
  {
   "cell_type": "markdown",
   "metadata": {},
   "source": [
    "# Booking.com WSDM WebTour 2021 Challenge demo"
   ]
  },
  {
   "cell_type": "code",
   "execution_count": 88,
   "metadata": {},
   "outputs": [],
   "source": [
    "#imports\n",
    "import pandas as pd\n",
    "import numpy as np\n",
    "from datetime import datetime\n",
    "from statistics import mode\n",
    "import matplotlib.pyplot as plt\n",
    "import pickle\n",
    "from collections import Counter\n",
    "from tensorflow.keras.preprocessing import sequence\n",
    "from scipy import stats"
   ]
  },
  {
   "cell_type": "markdown",
   "metadata": {},
   "source": [
    "### Load testset"
   ]
  },
  {
   "cell_type": "code",
   "execution_count": 89,
   "metadata": {},
   "outputs": [],
   "source": [
    "test_set = pd.read_csv('booking_test_set.csv')"
   ]
  },
  {
   "cell_type": "code",
   "execution_count": 90,
   "metadata": {},
   "outputs": [],
   "source": [
    "t = test_set.groupby(\"utrip_id\").apply(np.array)"
   ]
  },
  {
   "cell_type": "code",
   "execution_count": 91,
   "metadata": {},
   "outputs": [],
   "source": [
    "lens = [len(i) for i in t]"
   ]
  },
  {
   "cell_type": "code",
   "execution_count": 92,
   "metadata": {},
   "outputs": [
    {
     "data": {
      "text/plain": [
       "(4, 44)"
      ]
     },
     "execution_count": 92,
     "metadata": {},
     "output_type": "execute_result"
    }
   ],
   "source": [
    "np.min(lens), np.max(lens)"
   ]
  },
  {
   "cell_type": "code",
   "execution_count": 93,
   "metadata": {},
   "outputs": [],
   "source": [
    "with open(\"Preprocessing_encoders.pkl\", \"rb\") as f:\n",
    "    encode_cities, encode_devices, encode_affiliate_id, encode_hotel_country, encode_booker_country = pickle.load(f)"
   ]
  },
  {
   "cell_type": "code",
   "execution_count": 94,
   "metadata": {},
   "outputs": [],
   "source": [
    "with open(\"normalized_values.pkl\", \"rb\") as f:\n",
    "    normalized_values = pickle.load(f)"
   ]
  },
  {
   "cell_type": "code",
   "execution_count": 95,
   "metadata": {},
   "outputs": [],
   "source": [
    "def get_season(date):\n",
    "    if date < spring_start:\n",
    "        # 0 for winter\n",
    "        return 0\n",
    "    if date < summer_start:\n",
    "        # 1 for spring\n",
    "        return 1\n",
    "    if date < autumn_start:\n",
    "        # 2 for summer\n",
    "        return 2\n",
    "    if date < winter_start2:\n",
    "        # 3 for autumn\n",
    "        return 3\n",
    "    #else: it is the start of 2017, hence winter\n",
    "    return 0\n",
    "\n",
    "#define seasons key dates\n",
    "winter_start = datetime.strptime(\"2015-12-21\", \"%Y-%m-%d\")\n",
    "spring_start = datetime.strptime(\"2016-03-20\", \"%Y-%m-%d\")\n",
    "summer_start = datetime.strptime(\"2016-06-20\", \"%Y-%m-%d\")\n",
    "autumn_start = datetime.strptime(\"2016-09-22\", \"%Y-%m-%d\")\n",
    "winter_start2 = datetime.strptime(\"2016-12-21\", \"%Y-%m-%d\")"
   ]
  },
  {
   "cell_type": "code",
   "execution_count": 96,
   "metadata": {},
   "outputs": [],
   "source": [
    "def apply_preprocessing(test_set, datetime_format=\"%Y-%m-%d\", target=\"?\", n_values=normalized_values,\n",
    "                       skip_duplicates=True):\n",
    "    \n",
    "    df = test_set.copy()\n",
    "    \n",
    "    #Transform dates into datetime format\n",
    "    df.checkin = df.checkin.apply(lambda x: datetime.strptime(x, datetime_format))\n",
    "    df.checkout = df.checkout.apply(lambda x: datetime.strptime(x, datetime_format))\n",
    "    \n",
    "    #sort\n",
    "    df.sort_values([\"utrip_id\", \"checkin\"], inplace=True)\n",
    "    \n",
    "    \n",
    "    #New column: how much days spent in the hotel\n",
    "    df[\"days_in_hotel\"] = df[[\"checkin\", \"checkout\"]].apply(lambda x: (x[1] - x[0]).days, axis=1)\n",
    "    \n",
    "    #get current season when checking in or checking out\n",
    "    df[\"checkin_season\"] = df.checkin.apply(get_season)\n",
    "    df[\"checkout_season\"] = df.checkout.apply(get_season)\n",
    "    \n",
    "    df[\"month_reservation\"] = df.checkin.apply(lambda x: x.month)\n",
    "    \n",
    "    #Let's deal with trip with consecutive cities\n",
    "    df[\"is_new_trip\"] = df[[\"utrip_id\"]].shift() != df[[\"utrip_id\"]]\n",
    "    df[\"is_new_city\"] = df[[\"city_id\"]].shift() != df[[\"city_id\"]]\n",
    "    #When it is both not a new trip, and not a new city, it means it is a consecutive city reservation within a trip\n",
    "    df[\"is_consecutive_res\"] = (df.is_new_city == False) & (df.is_new_trip == False)\n",
    "    \n",
    "    #remove consecutive reservations\n",
    "    if skip_duplicates:\n",
    "        df = df.loc[np.invert(df.is_consecutive_res)]\n",
    "    \n",
    "    col_to_drop = [\"checkin\",\"checkout\", \"checkout_season\", \"is_consecutive_res\", \n",
    "               \"is_new_city\", \"is_new_trip\", \"row_num\", \"total_rows\", \"user_id\"]\n",
    "    \n",
    "    df.drop(col_to_drop, axis=1, inplace=True)\n",
    "    \n",
    "    \n",
    "    \n",
    "    #Retrieve trips info\n",
    "    df.set_index(\"utrip_id\", inplace=True)\n",
    "    \n",
    "    #encode city_id and hotel country\n",
    "    mask = df['city_id'] != target\n",
    "    df.loc[mask, 'city_id'] = encode_cities.transform(df.loc[mask, 'city_id'])\n",
    "    df.loc[mask, 'hotel_country'] = encode_hotel_country.transform(df.loc[mask, \"hotel_country\"])\n",
    "    \n",
    "    #encode the rest of data\n",
    "    df.device_class = encode_devices.transform(df.device_class)\n",
    "    #df.affiliate_id = encode_affiliate_id.transform(df.affiliate_id)\n",
    "    df.booker_country = encode_booker_country.transform(df.booker_country)\n",
    "    \n",
    "    ordered_col = ['city_id','device_class','affiliate_id',\n",
    "                   'booker_country','hotel_country', \"days_in_hotel\",\n",
    "                   'checkin_season','month_reservation']\n",
    "    df = df[ordered_col]\n",
    "    #Scale\n",
    "    for col in df.columns[1:]:\n",
    "        # not hotel country\n",
    "        if col == \"hotel_country\":\n",
    "            continue\n",
    "        min_value, max_value = normalized_values[col]\n",
    "        df[col] = (df[col]  - min_value) / (max_value - min_value)\n",
    "    \n",
    "    #Normalize hotel country col\n",
    "    min_value, max_value = normalized_values[\"hotel_country\"]\n",
    "    df.loc[mask, \"hotel_country\"] = (df.loc[mask, \"hotel_country\"] - min_value) / (max_value - min_value)\n",
    "    \n",
    "\n",
    "    #Retrieve trips info\n",
    "    trips = df.groupby(\"utrip_id\").apply(np.array)\n",
    "    index = trips.groupby(\"utrip_id\").apply(np.array).index\n",
    "    \n",
    "    cities_sequences = []\n",
    "    trip_info = []\n",
    "    lst_indexes = []\n",
    "    for i, trip in enumerate(trips):\n",
    "        if len(trip) == 1:\n",
    "            print(\"Not a trip\")\n",
    "            continue\n",
    "        #save index\n",
    "        lst_indexes.append((index[i]))\n",
    "        cities_sequence = np.array(trip[:-1,0], dtype=\"int32\")\n",
    "        last_device = trip[-1,1]\n",
    "        last_booker = trip[-1,3]\n",
    "        last_num_days = trip[-1, 5]\n",
    "        month_res = trip[-1,7]\n",
    "        \n",
    "        trip_information = [last_device, last_booker, last_num_days, month_res]\n",
    "        \n",
    "        #Save all\n",
    "        cities_sequences.append(cities_sequence)\n",
    "        trip_info.append(trip_information)\n",
    "    \n",
    "    \n",
    "    return cities_sequences, trip_info, lst_indexes"
   ]
  },
  {
   "cell_type": "code",
   "execution_count": 97,
   "metadata": {},
   "outputs": [],
   "source": [
    "X_trip, X_info, index = apply_preprocessing(test_set, datetime_format=\"%Y-%m-%d\", target=0, skip_duplicates=False)"
   ]
  },
  {
   "cell_type": "markdown",
   "metadata": {},
   "source": [
    "Save it"
   ]
  },
  {
   "cell_type": "code",
   "execution_count": 11,
   "metadata": {},
   "outputs": [
    {
     "name": "stderr",
     "output_type": "stream",
     "text": [
      "/home/clementmg/.local/lib/python3.8/site-packages/numpy/core/_asarray.py:136: VisibleDeprecationWarning: Creating an ndarray from ragged nested sequences (which is a list-or-tuple of lists-or-tuples-or ndarrays with different lengths or shapes) is deprecated. If you meant to do this, you must specify 'dtype=object' when creating the ndarray\n",
      "  return array(a, dtype, copy=False, order=order, subok=True)\n"
     ]
    }
   ],
   "source": [
    "from numpy import savez_compressed, load\n",
    "savez_compressed(\"eval_trip.npz\", X_trip)\n",
    "savez_compressed(\"eval_info.npz\", X_info)\n",
    "savez_compressed(\"eval_index.npz\", index)"
   ]
  },
  {
   "cell_type": "code",
   "execution_count": 98,
   "metadata": {},
   "outputs": [],
   "source": [
    "from tensorflow.keras.models import load_model\n",
    "import tensorflow.keras.backend as K\n",
    "model = load_model(\"final_model.hdf5\")"
   ]
  },
  {
   "cell_type": "code",
   "execution_count": 99,
   "metadata": {},
   "outputs": [],
   "source": [
    "import random\n",
    "from numpy import savez_compressed, load\n",
    "\n",
    "def predictions_generator(filename1, filename2, batch_size=512):\n",
    "    #initiate a batch count for each size of trips\n",
    "    batch_count = {k: 0 for k in range(50)}\n",
    "    inputs = {k: [] for k in range(50)}\n",
    "    while True:\n",
    "        #load files\n",
    "        trip_sequences = load(filename1, allow_pickle=True)[\"arr_0\"]\n",
    "        trip_infos = load(filename2, allow_pickle=True)[\"arr_0\"]\n",
    "        \n",
    "        for i in range(len(trip_sequences)):\n",
    "        \n",
    "            #consider trip i\n",
    "            trip_sequence = trip_sequences[i]\n",
    "            trip_info = trip_infos[i]\n",
    "            len_trip = len(trip_sequence)\n",
    "            \n",
    "            #add info to corresponding  size\n",
    "            inputs[len_trip].append([trip_sequence, trip_info])\n",
    "            batch_count[len_trip] += 1\n",
    "            \n",
    "            if batch_count[len_trip] == batch_size:\n",
    "                X_trip = np.array([t[0] for t in inputs[len_trip]], dtype=\"int32\")\n",
    "                X_info = np.array([t[1] for t in inputs[len_trip]], dtype=\"float32\")\n",
    "                #yield the data to feed the \n",
    "                yield [X_trip, X_info]\n",
    "                inputs[len_trip] = []\n",
    "                batch_count[len_trip] = 0\n",
    "               \n",
    "            \n",
    "\n",
    "index = load(\"eval_index.npz\", allow_pickle=True)[\"arr_0\"]"
   ]
  },
  {
   "cell_type": "code",
   "execution_count": 111,
   "metadata": {},
   "outputs": [],
   "source": [
    "batch_size = 1\n",
    "pred_generator = predictions_generator(\"eval_trip.npz\", \"eval_info.npz\",\n",
    "                                        batch_size=batch_size)\n"
   ]
  },
  {
   "cell_type": "code",
   "execution_count": 153,
   "metadata": {},
   "outputs": [],
   "source": [
    "X_trip_reshaped = [np.array(t).reshape(1,len(t)) for t in X_trip]\n",
    "X_info_reshaped = [np.array(t).reshape(1,4) for t in X_info]"
   ]
  },
  {
   "cell_type": "code",
   "execution_count": 166,
   "metadata": {},
   "outputs": [
    {
     "data": {
      "text/plain": [
       "29730"
      ]
     },
     "execution_count": 166,
     "metadata": {},
     "output_type": "execute_result"
    }
   ],
   "source": [
    "model.predict([X_trip_reshaped[100], X_info_reshaped[100]]).argmax()"
   ]
  },
  {
   "cell_type": "code",
   "execution_count": 204,
   "metadata": {},
   "outputs": [],
   "source": [
    "s = select_highly_consecutive_cities()"
   ]
  },
  {
   "cell_type": "code",
   "execution_count": 206,
   "metadata": {},
   "outputs": [
    {
     "data": {
      "text/plain": [
       "array([33371, 24864,  3469], dtype=int32)"
      ]
     },
     "execution_count": 206,
     "metadata": {},
     "output_type": "execute_result"
    }
   ],
   "source": [
    "X_trip[i]"
   ]
  },
  {
   "cell_type": "code",
   "execution_count": 211,
   "metadata": {},
   "outputs": [
    {
     "data": {
      "text/plain": [
       "array([[24864,  3469,  2255, 17743]])"
      ]
     },
     "execution_count": 211,
     "metadata": {},
     "output_type": "execute_result"
    }
   ],
   "source": [
    "line = model.predict([X_trip_reshaped[0], X_info_reshaped[0]])\n",
    "sorted_preds2 = line.argsort()[:, -4:]\n",
    "sorted_preds2"
   ]
  },
  {
   "cell_type": "markdown",
   "metadata": {},
   "source": [
    "Predict line by line the test set"
   ]
  },
  {
   "cell_type": "code",
   "execution_count": 221,
   "metadata": {},
   "outputs": [
    {
     "name": "stdout",
     "output_type": "stream",
     "text": [
      "1000\n",
      "2000\n",
      "3000\n",
      "4000\n",
      "5000\n",
      "6000\n",
      "7000\n",
      "8000\n",
      "9000\n",
      "10000\n",
      "11000\n",
      "12000\n",
      "13000\n",
      "14000\n",
      "15000\n",
      "16000\n",
      "17000\n",
      "18000\n",
      "19000\n",
      "20000\n",
      "21000\n",
      "22000\n",
      "23000\n",
      "24000\n",
      "25000\n",
      "26000\n",
      "27000\n",
      "28000\n",
      "29000\n",
      "30000\n",
      "31000\n",
      "32000\n",
      "33000\n",
      "34000\n",
      "35000\n",
      "36000\n",
      "37000\n",
      "38000\n",
      "39000\n",
      "40000\n",
      "41000\n",
      "42000\n",
      "43000\n",
      "44000\n",
      "45000\n",
      "46000\n",
      "47000\n",
      "48000\n",
      "49000\n",
      "50000\n",
      "51000\n",
      "52000\n",
      "53000\n",
      "54000\n",
      "55000\n",
      "56000\n",
      "57000\n",
      "58000\n",
      "59000\n",
      "60000\n",
      "61000\n",
      "62000\n",
      "63000\n",
      "64000\n",
      "65000\n",
      "66000\n",
      "67000\n",
      "68000\n",
      "69000\n",
      "70000\n"
     ]
    }
   ],
   "source": [
    "line = model.predict([X_trip_reshaped[0], X_info_reshaped[0]])\n",
    "sorted_preds = line.argsort()[:, -4:]\n",
    "for i in range(1, len(index)):\n",
    "    if i % 1000 == 0:\n",
    "        print(i)\n",
    "    line = model.predict([X_trip_reshaped[i], X_info_reshaped[i]])\n",
    "    preds = line.argsort()[:, -4:]\n",
    "    sorted_preds = np.concatenate([sorted_preds, preds], axis=0)"
   ]
  },
  {
   "cell_type": "code",
   "execution_count": 223,
   "metadata": {},
   "outputs": [
    {
     "data": {
      "text/plain": [
       "(70662, 4)"
      ]
     },
     "execution_count": 223,
     "metadata": {},
     "output_type": "execute_result"
    }
   ],
   "source": [
    "sorted_preds.shape"
   ]
  },
  {
   "cell_type": "code",
   "execution_count": 225,
   "metadata": {},
   "outputs": [],
   "source": [
    "pd.DataFrame(sorted_preds).to_csv(\"preds.csv\")"
   ]
  },
  {
   "cell_type": "code",
   "execution_count": 228,
   "metadata": {},
   "outputs": [],
   "source": [
    "df = pd.DataFrame(sorted_preds)"
   ]
  },
  {
   "cell_type": "code",
   "execution_count": 231,
   "metadata": {},
   "outputs": [],
   "source": [
    "df[4] = [trip[-1] for trip in X_trip]"
   ]
  },
  {
   "cell_type": "code",
   "execution_count": 233,
   "metadata": {},
   "outputs": [],
   "source": [
    "s = select_highly_consecutive_cities()"
   ]
  },
  {
   "cell_type": "code",
   "execution_count": 234,
   "metadata": {},
   "outputs": [],
   "source": [
    "res_df = df"
   ]
  },
  {
   "cell_type": "code",
   "execution_count": 235,
   "metadata": {},
   "outputs": [],
   "source": [
    "res_df[0] = res_df.apply(lambda x: int(adapt_4th_pred(x, s)), axis=1)"
   ]
  },
  {
   "cell_type": "code",
   "execution_count": 243,
   "metadata": {},
   "outputs": [],
   "source": [
    "res_df.drop(4, inplace=True, axis=1)"
   ]
  },
  {
   "cell_type": "code",
   "execution_count": 244,
   "metadata": {},
   "outputs": [],
   "source": [
    "for i in range(4):\n",
    "        res_df.iloc[:,i] = encode_cities.inverse_transform(res_df.iloc[:,i])"
   ]
  },
  {
   "cell_type": "code",
   "execution_count": 246,
   "metadata": {},
   "outputs": [],
   "source": [
    "res_df.columns=[\"city_id_1\",\"city_id_2\",\"city_id_3\",\"city_id_4\"]"
   ]
  },
  {
   "cell_type": "code",
   "execution_count": 249,
   "metadata": {},
   "outputs": [
    {
     "data": {
      "text/plain": [
       "city_id_1    30836\n",
       "city_id_2    13356\n",
       "city_id_3    64091\n",
       "city_id_4     2078\n",
       "Name: 23000, dtype: int64"
      ]
     },
     "execution_count": 249,
     "metadata": {},
     "output_type": "execute_result"
    }
   ],
   "source": [
    "res_df.iloc[23000]"
   ]
  },
  {
   "cell_type": "code",
   "execution_count": 253,
   "metadata": {},
   "outputs": [],
   "source": [
    "submission = pd.concat([pd.Series(index, name=\"utrip_id\"), res_df], axis=1)"
   ]
  },
  {
   "cell_type": "code",
   "execution_count": 257,
   "metadata": {},
   "outputs": [],
   "source": [
    "submission.to_csv('submission.csv', index=False)"
   ]
  },
  {
   "cell_type": "code",
   "execution_count": 259,
   "metadata": {},
   "outputs": [
    {
     "data": {
      "text/html": [
       "<div>\n",
       "<style scoped>\n",
       "    .dataframe tbody tr th:only-of-type {\n",
       "        vertical-align: middle;\n",
       "    }\n",
       "\n",
       "    .dataframe tbody tr th {\n",
       "        vertical-align: top;\n",
       "    }\n",
       "\n",
       "    .dataframe thead th {\n",
       "        text-align: right;\n",
       "    }\n",
       "</style>\n",
       "<table border=\"1\" class=\"dataframe\">\n",
       "  <thead>\n",
       "    <tr style=\"text-align: right;\">\n",
       "      <th></th>\n",
       "      <th>utrip_id</th>\n",
       "      <th>city_id_1</th>\n",
       "      <th>city_id_2</th>\n",
       "      <th>city_id_3</th>\n",
       "      <th>city_id_4</th>\n",
       "    </tr>\n",
       "  </thead>\n",
       "  <tbody>\n",
       "    <tr>\n",
       "      <th>0</th>\n",
       "      <td>1000066_2</td>\n",
       "      <td>41971</td>\n",
       "      <td>5797</td>\n",
       "      <td>3809</td>\n",
       "      <td>30018</td>\n",
       "    </tr>\n",
       "    <tr>\n",
       "      <th>1</th>\n",
       "      <td>1000270_1</td>\n",
       "      <td>41933</td>\n",
       "      <td>13278</td>\n",
       "      <td>4932</td>\n",
       "      <td>34707</td>\n",
       "    </tr>\n",
       "    <tr>\n",
       "      <th>2</th>\n",
       "      <td>1000441_1</td>\n",
       "      <td>42268</td>\n",
       "      <td>35160</td>\n",
       "      <td>13260</td>\n",
       "      <td>47759</td>\n",
       "    </tr>\n",
       "    <tr>\n",
       "      <th>3</th>\n",
       "      <td>100048_1</td>\n",
       "      <td>26235</td>\n",
       "      <td>65817</td>\n",
       "      <td>13150</td>\n",
       "      <td>45030</td>\n",
       "    </tr>\n",
       "    <tr>\n",
       "      <th>4</th>\n",
       "      <td>1000543_1</td>\n",
       "      <td>53859</td>\n",
       "      <td>25390</td>\n",
       "      <td>29770</td>\n",
       "      <td>52818</td>\n",
       "    </tr>\n",
       "    <tr>\n",
       "      <th>...</th>\n",
       "      <td>...</td>\n",
       "      <td>...</td>\n",
       "      <td>...</td>\n",
       "      <td>...</td>\n",
       "      <td>...</td>\n",
       "    </tr>\n",
       "    <tr>\n",
       "      <th>70657</th>\n",
       "      <td>999674_1</td>\n",
       "      <td>7244</td>\n",
       "      <td>16195</td>\n",
       "      <td>17960</td>\n",
       "      <td>51765</td>\n",
       "    </tr>\n",
       "    <tr>\n",
       "      <th>70658</th>\n",
       "      <td>999797_1</td>\n",
       "      <td>3665</td>\n",
       "      <td>8725</td>\n",
       "      <td>27115</td>\n",
       "      <td>48503</td>\n",
       "    </tr>\n",
       "    <tr>\n",
       "      <th>70659</th>\n",
       "      <td>999862_1</td>\n",
       "      <td>28154</td>\n",
       "      <td>49715</td>\n",
       "      <td>10191</td>\n",
       "      <td>49473</td>\n",
       "    </tr>\n",
       "    <tr>\n",
       "      <th>70660</th>\n",
       "      <td>999911_1</td>\n",
       "      <td>43329</td>\n",
       "      <td>48483</td>\n",
       "      <td>54389</td>\n",
       "      <td>5325</td>\n",
       "    </tr>\n",
       "    <tr>\n",
       "      <th>70661</th>\n",
       "      <td>999991_3</td>\n",
       "      <td>64876</td>\n",
       "      <td>62185</td>\n",
       "      <td>9608</td>\n",
       "      <td>58178</td>\n",
       "    </tr>\n",
       "  </tbody>\n",
       "</table>\n",
       "<p>70662 rows × 5 columns</p>\n",
       "</div>"
      ],
      "text/plain": [
       "        utrip_id  city_id_1  city_id_2  city_id_3  city_id_4\n",
       "0      1000066_2      41971       5797       3809      30018\n",
       "1      1000270_1      41933      13278       4932      34707\n",
       "2      1000441_1      42268      35160      13260      47759\n",
       "3       100048_1      26235      65817      13150      45030\n",
       "4      1000543_1      53859      25390      29770      52818\n",
       "...          ...        ...        ...        ...        ...\n",
       "70657   999674_1       7244      16195      17960      51765\n",
       "70658   999797_1       3665       8725      27115      48503\n",
       "70659   999862_1      28154      49715      10191      49473\n",
       "70660   999911_1      43329      48483      54389       5325\n",
       "70661   999991_3      64876      62185       9608      58178\n",
       "\n",
       "[70662 rows x 5 columns]"
      ]
     },
     "execution_count": 259,
     "metadata": {},
     "output_type": "execute_result"
    }
   ],
   "source": [
    "submission"
   ]
  },
  {
   "cell_type": "code",
   "execution_count": 101,
   "metadata": {},
   "outputs": [],
   "source": [
    "with open(\"consecutive_cities.pkl\", \"rb\") as f:\n",
    "    consec = pickle.load(f)"
   ]
  },
  {
   "cell_type": "code",
   "execution_count": 102,
   "metadata": {},
   "outputs": [],
   "source": [
    "def select_highly_consecutive_cities(threshold=0.06):\n",
    "    selected_cities = [city for city in consec.keys() if consec[city] > threshold]\n",
    "    s = encode_cities.transform(selected_cities) #encoded\n",
    "    return s"
   ]
  },
  {
   "cell_type": "code",
   "execution_count": 103,
   "metadata": {},
   "outputs": [],
   "source": [
    "#modify column 0\n",
    "def adapt_4th_pred(p, s):\n",
    "    last_pred = p[4]\n",
    "    #if not frequently followed by duplicate, do not consider it\n",
    "    if last_pred not in s:\n",
    "        #return 4th choice of model\n",
    "        return p[0]\n",
    "    #else\n",
    "    #if last pred already predicted\n",
    "    if last_pred in p[:4].values:\n",
    "        return p[0]\n",
    "    #else\n",
    "    return p[4]"
   ]
  },
  {
   "cell_type": "code",
   "execution_count": 104,
   "metadata": {},
   "outputs": [],
   "source": [
    "def predict_from_generator(generator, start, end, topn=4, to_pred=4000, use_last=False):\n",
    "    \n",
    "    preds = model.predict(generator, steps=to_pred, batch_size=1)\n",
    "    sorted_preds = np.array(preds).argsort(axis=1) #sort them along axis\n",
    "    res_df = pd.DataFrame(sorted_preds[:,-topn:]) #select topn\n",
    "    \n",
    "    if use_last:\n",
    "        s = select_highly_consecutive_cities()\n",
    "        last_cities = [trip[-1] for trip in X_info[start:end]]\n",
    "        #we use the last city as a prediction\n",
    "        res_df[topn] = last_cities\n",
    "        res_df[0] = res_df.apply(lambda x: int(adapt_4th_pred(x, s)), axis=1)\n",
    "        res_df.drop(topn, inplace=True, axis=1)\n",
    "\n",
    "    #inverse transform\n",
    "    for i in range(topn):\n",
    "        res_df.iloc[:,i] = encode_cities.inverse_transform(res_df.iloc[:,i])\n",
    "    \n",
    "    if topn == 4:\n",
    "        res_df.columns=[\"city_id_1\",\"city_id_2\",\"city_id_3\",\"city_id_4\"]\n",
    "    return res_df"
   ]
  },
  {
   "cell_type": "code",
   "execution_count": 105,
   "metadata": {},
   "outputs": [
    {
     "name": "stdout",
     "output_type": "stream",
     "text": [
      "0\n",
      "1\n",
      "2\n",
      "3\n",
      "4\n",
      "5\n",
      "6\n"
     ]
    }
   ],
   "source": [
    "for i in range(7):\n",
    "    start_index = 0 + (i * 10000)\n",
    "    end_index = start_index + 10000\n",
    "    if end_index == 70000:\n",
    "        end_index = len(index)\n",
    "    n_pred = end_index - start_index\n",
    "    res_df = predict_from_generator(pred_generator, use_last=True, to_pred=n_pred, \n",
    "                                    start=start_index, end=end_index)\n",
    "    submission = pd.concat([pd.Series(index[start_index:end_index], name=\"utrip_id\"), res_df], axis=1)\n",
    "    submission.to_csv('submission_'+str(end_index)+'.csv',index=False)\n",
    "    print(i)"
   ]
  },
  {
   "cell_type": "markdown",
   "metadata": {},
   "source": [
    "## Read submission file and ground truth"
   ]
  },
  {
   "cell_type": "code",
   "execution_count": 106,
   "metadata": {},
   "outputs": [],
   "source": [
    "ground_truth = pd.read_csv('sample_truth.csv', index_col =[0])\n",
    "submission = pd.read_csv('submission_10000.csv', index_col =[0])"
   ]
  },
  {
   "cell_type": "code",
   "execution_count": 87,
   "metadata": {
    "scrolled": true
   },
   "outputs": [
    {
     "data": {
      "text/html": [
       "<div>\n",
       "<style scoped>\n",
       "    .dataframe tbody tr th:only-of-type {\n",
       "        vertical-align: middle;\n",
       "    }\n",
       "\n",
       "    .dataframe tbody tr th {\n",
       "        vertical-align: top;\n",
       "    }\n",
       "\n",
       "    .dataframe thead th {\n",
       "        text-align: right;\n",
       "    }\n",
       "</style>\n",
       "<table border=\"1\" class=\"dataframe\">\n",
       "  <thead>\n",
       "    <tr style=\"text-align: right;\">\n",
       "      <th></th>\n",
       "      <th>city_id_1</th>\n",
       "      <th>city_id_2</th>\n",
       "      <th>city_id_3</th>\n",
       "      <th>city_id_4</th>\n",
       "    </tr>\n",
       "    <tr>\n",
       "      <th>utrip_id</th>\n",
       "      <th></th>\n",
       "      <th></th>\n",
       "      <th></th>\n",
       "      <th></th>\n",
       "    </tr>\n",
       "  </thead>\n",
       "  <tbody>\n",
       "    <tr>\n",
       "      <th>1000066_2</th>\n",
       "      <td>41971</td>\n",
       "      <td>5797</td>\n",
       "      <td>3809</td>\n",
       "      <td>30018</td>\n",
       "    </tr>\n",
       "    <tr>\n",
       "      <th>1000270_1</th>\n",
       "      <td>41933</td>\n",
       "      <td>13278</td>\n",
       "      <td>4932</td>\n",
       "      <td>34707</td>\n",
       "    </tr>\n",
       "    <tr>\n",
       "      <th>1000441_1</th>\n",
       "      <td>42268</td>\n",
       "      <td>35160</td>\n",
       "      <td>13260</td>\n",
       "      <td>47759</td>\n",
       "    </tr>\n",
       "    <tr>\n",
       "      <th>100048_1</th>\n",
       "      <td>21555</td>\n",
       "      <td>65817</td>\n",
       "      <td>13150</td>\n",
       "      <td>45030</td>\n",
       "    </tr>\n",
       "    <tr>\n",
       "      <th>1000543_1</th>\n",
       "      <td>53859</td>\n",
       "      <td>25390</td>\n",
       "      <td>29770</td>\n",
       "      <td>52818</td>\n",
       "    </tr>\n",
       "    <tr>\n",
       "      <th>...</th>\n",
       "      <td>...</td>\n",
       "      <td>...</td>\n",
       "      <td>...</td>\n",
       "      <td>...</td>\n",
       "    </tr>\n",
       "    <tr>\n",
       "      <th>1795472_1</th>\n",
       "      <td>37601</td>\n",
       "      <td>21929</td>\n",
       "      <td>55196</td>\n",
       "      <td>29770</td>\n",
       "    </tr>\n",
       "    <tr>\n",
       "      <th>1795500_1</th>\n",
       "      <td>38912</td>\n",
       "      <td>50957</td>\n",
       "      <td>17013</td>\n",
       "      <td>4932</td>\n",
       "    </tr>\n",
       "    <tr>\n",
       "      <th>1795500_2</th>\n",
       "      <td>64103</td>\n",
       "      <td>6306</td>\n",
       "      <td>6788</td>\n",
       "      <td>17127</td>\n",
       "    </tr>\n",
       "    <tr>\n",
       "      <th>1795603_1</th>\n",
       "      <td>26951</td>\n",
       "      <td>39820</td>\n",
       "      <td>16521</td>\n",
       "      <td>67353</td>\n",
       "    </tr>\n",
       "    <tr>\n",
       "      <th>1795653_1</th>\n",
       "      <td>26266</td>\n",
       "      <td>44374</td>\n",
       "      <td>40954</td>\n",
       "      <td>46633</td>\n",
       "    </tr>\n",
       "  </tbody>\n",
       "</table>\n",
       "<p>10000 rows × 4 columns</p>\n",
       "</div>"
      ],
      "text/plain": [
       "           city_id_1  city_id_2  city_id_3  city_id_4\n",
       "utrip_id                                             \n",
       "1000066_2      41971       5797       3809      30018\n",
       "1000270_1      41933      13278       4932      34707\n",
       "1000441_1      42268      35160      13260      47759\n",
       "100048_1       21555      65817      13150      45030\n",
       "1000543_1      53859      25390      29770      52818\n",
       "...              ...        ...        ...        ...\n",
       "1795472_1      37601      21929      55196      29770\n",
       "1795500_1      38912      50957      17013       4932\n",
       "1795500_2      64103       6306       6788      17127\n",
       "1795603_1      26951      39820      16521      67353\n",
       "1795653_1      26266      44374      40954      46633\n",
       "\n",
       "[10000 rows x 4 columns]"
      ]
     },
     "execution_count": 87,
     "metadata": {},
     "output_type": "execute_result"
    }
   ],
   "source": [
    "submission"
   ]
  },
  {
   "cell_type": "markdown",
   "metadata": {},
   "source": [
    "## Evaluate - use accuracy at 4 to evaluate the prediction"
   ]
  },
  {
   "cell_type": "code",
   "execution_count": 108,
   "metadata": {},
   "outputs": [],
   "source": [
    "def evaluate_accuracy_at_4(submission,ground_truth):\n",
    "    '''checks if the true city is within the four recommended cities'''\n",
    "    data_to_eval = submission.join(ground_truth,on='utrip_id')\n",
    "    hits = data_to_eval.apply(\n",
    "        lambda row: row['city_id'] in (row[['city_id_1', 'city_id_2', 'city_id_3', 'city_id_4']].values),\n",
    "            axis = 1)\n",
    "    return hits.mean()"
   ]
  },
  {
   "cell_type": "code",
   "execution_count": 109,
   "metadata": {},
   "outputs": [
    {
     "data": {
      "text/plain": [
       "0.0"
      ]
     },
     "execution_count": 109,
     "metadata": {},
     "output_type": "execute_result"
    }
   ],
   "source": [
    "evaluate_accuracy_at_4(submission,ground_truth)"
   ]
  },
  {
   "cell_type": "code",
   "execution_count": 110,
   "metadata": {},
   "outputs": [
    {
     "data": {
      "text/html": [
       "<div>\n",
       "<style scoped>\n",
       "    .dataframe tbody tr th:only-of-type {\n",
       "        vertical-align: middle;\n",
       "    }\n",
       "\n",
       "    .dataframe tbody tr th {\n",
       "        vertical-align: top;\n",
       "    }\n",
       "\n",
       "    .dataframe thead th {\n",
       "        text-align: right;\n",
       "    }\n",
       "</style>\n",
       "<table border=\"1\" class=\"dataframe\">\n",
       "  <thead>\n",
       "    <tr style=\"text-align: right;\">\n",
       "      <th></th>\n",
       "      <th>city_id</th>\n",
       "      <th>hotel_country</th>\n",
       "    </tr>\n",
       "    <tr>\n",
       "      <th>utrip_id</th>\n",
       "      <th></th>\n",
       "      <th></th>\n",
       "    </tr>\n",
       "  </thead>\n",
       "  <tbody>\n",
       "    <tr>\n",
       "      <th>1000066_5</th>\n",
       "      <td>41971</td>\n",
       "      <td>Urkesh</td>\n",
       "    </tr>\n",
       "    <tr>\n",
       "      <th>1000270_5</th>\n",
       "      <td>23921</td>\n",
       "      <td>Cobra Island</td>\n",
       "    </tr>\n",
       "    <tr>\n",
       "      <th>1000441_5</th>\n",
       "      <td>50457</td>\n",
       "      <td>Osterlich</td>\n",
       "    </tr>\n",
       "    <tr>\n",
       "      <th>100048_5</th>\n",
       "      <td>17013</td>\n",
       "      <td>Borginia</td>\n",
       "    </tr>\n",
       "  </tbody>\n",
       "</table>\n",
       "</div>"
      ],
      "text/plain": [
       "           city_id hotel_country\n",
       "utrip_id                        \n",
       "1000066_5    41971        Urkesh\n",
       "1000270_5    23921  Cobra Island\n",
       "1000441_5    50457     Osterlich\n",
       "100048_5     17013      Borginia"
      ]
     },
     "execution_count": 110,
     "metadata": {},
     "output_type": "execute_result"
    }
   ],
   "source": [
    "ground_truth"
   ]
  },
  {
   "cell_type": "code",
   "execution_count": null,
   "metadata": {},
   "outputs": [],
   "source": []
  }
 ],
 "metadata": {
  "kernelspec": {
   "display_name": "Python 3",
   "language": "python",
   "name": "python3"
  },
  "language_info": {
   "codemirror_mode": {
    "name": "ipython",
    "version": 3
   },
   "file_extension": ".py",
   "mimetype": "text/x-python",
   "name": "python",
   "nbconvert_exporter": "python",
   "pygments_lexer": "ipython3",
   "version": "3.8.5"
  }
 },
 "nbformat": 4,
 "nbformat_minor": 4
}
