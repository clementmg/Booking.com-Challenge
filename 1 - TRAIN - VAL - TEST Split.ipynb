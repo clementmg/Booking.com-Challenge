{
 "cells": [
  {
   "cell_type": "code",
   "execution_count": 1,
   "metadata": {},
   "outputs": [],
   "source": [
    "#imports\n",
    "import pandas as pd\n",
    "import numpy as np\n",
    "from datetime import datetime\n",
    "from statistics import mode\n",
    "import matplotlib.pyplot as plt\n",
    "import pickle\n",
    "from collections import Counter\n",
    "from scipy import stats"
   ]
  },
  {
   "cell_type": "code",
   "execution_count": 2,
   "metadata": {},
   "outputs": [],
   "source": [
    "import time\n",
    "import warnings\n",
    "warnings.filterwarnings(\"ignore\")"
   ]
  },
  {
   "cell_type": "code",
   "execution_count": 3,
   "metadata": {},
   "outputs": [],
   "source": [
    "#load data\n",
    "df = pd.read_csv(\"booking_train_set.csv\")"
   ]
  },
  {
   "cell_type": "code",
   "execution_count": 4,
   "metadata": {},
   "outputs": [
    {
     "data": {
      "text/html": [
       "<div>\n",
       "<style scoped>\n",
       "    .dataframe tbody tr th:only-of-type {\n",
       "        vertical-align: middle;\n",
       "    }\n",
       "\n",
       "    .dataframe tbody tr th {\n",
       "        vertical-align: top;\n",
       "    }\n",
       "\n",
       "    .dataframe thead th {\n",
       "        text-align: right;\n",
       "    }\n",
       "</style>\n",
       "<table border=\"1\" class=\"dataframe\">\n",
       "  <thead>\n",
       "    <tr style=\"text-align: right;\">\n",
       "      <th></th>\n",
       "      <th>Unnamed: 0</th>\n",
       "      <th>user_id</th>\n",
       "      <th>checkin</th>\n",
       "      <th>checkout</th>\n",
       "      <th>city_id</th>\n",
       "      <th>device_class</th>\n",
       "      <th>affiliate_id</th>\n",
       "      <th>booker_country</th>\n",
       "      <th>hotel_country</th>\n",
       "      <th>utrip_id</th>\n",
       "    </tr>\n",
       "  </thead>\n",
       "  <tbody>\n",
       "    <tr>\n",
       "      <th>0</th>\n",
       "      <td>0</td>\n",
       "      <td>1006220</td>\n",
       "      <td>2016-04-09</td>\n",
       "      <td>2016-04-11</td>\n",
       "      <td>31114</td>\n",
       "      <td>desktop</td>\n",
       "      <td>384</td>\n",
       "      <td>Gondal</td>\n",
       "      <td>Gondal</td>\n",
       "      <td>1006220_1</td>\n",
       "    </tr>\n",
       "    <tr>\n",
       "      <th>1</th>\n",
       "      <td>1</td>\n",
       "      <td>1006220</td>\n",
       "      <td>2016-04-11</td>\n",
       "      <td>2016-04-12</td>\n",
       "      <td>39641</td>\n",
       "      <td>desktop</td>\n",
       "      <td>384</td>\n",
       "      <td>Gondal</td>\n",
       "      <td>Gondal</td>\n",
       "      <td>1006220_1</td>\n",
       "    </tr>\n",
       "    <tr>\n",
       "      <th>2</th>\n",
       "      <td>2</td>\n",
       "      <td>1006220</td>\n",
       "      <td>2016-04-12</td>\n",
       "      <td>2016-04-16</td>\n",
       "      <td>20232</td>\n",
       "      <td>desktop</td>\n",
       "      <td>384</td>\n",
       "      <td>Gondal</td>\n",
       "      <td>Glubbdubdrib</td>\n",
       "      <td>1006220_1</td>\n",
       "    </tr>\n",
       "    <tr>\n",
       "      <th>3</th>\n",
       "      <td>3</td>\n",
       "      <td>1006220</td>\n",
       "      <td>2016-04-16</td>\n",
       "      <td>2016-04-17</td>\n",
       "      <td>24144</td>\n",
       "      <td>desktop</td>\n",
       "      <td>384</td>\n",
       "      <td>Gondal</td>\n",
       "      <td>Gondal</td>\n",
       "      <td>1006220_1</td>\n",
       "    </tr>\n",
       "    <tr>\n",
       "      <th>4</th>\n",
       "      <td>4</td>\n",
       "      <td>1010293</td>\n",
       "      <td>2016-07-09</td>\n",
       "      <td>2016-07-10</td>\n",
       "      <td>5325</td>\n",
       "      <td>mobile</td>\n",
       "      <td>359</td>\n",
       "      <td>The Devilfire Empire</td>\n",
       "      <td>Cobra Island</td>\n",
       "      <td>1010293_1</td>\n",
       "    </tr>\n",
       "  </tbody>\n",
       "</table>\n",
       "</div>"
      ],
      "text/plain": [
       "   Unnamed: 0  user_id     checkin    checkout  city_id device_class  \\\n",
       "0           0  1006220  2016-04-09  2016-04-11    31114      desktop   \n",
       "1           1  1006220  2016-04-11  2016-04-12    39641      desktop   \n",
       "2           2  1006220  2016-04-12  2016-04-16    20232      desktop   \n",
       "3           3  1006220  2016-04-16  2016-04-17    24144      desktop   \n",
       "4           4  1010293  2016-07-09  2016-07-10     5325       mobile   \n",
       "\n",
       "   affiliate_id        booker_country hotel_country   utrip_id  \n",
       "0           384                Gondal        Gondal  1006220_1  \n",
       "1           384                Gondal        Gondal  1006220_1  \n",
       "2           384                Gondal  Glubbdubdrib  1006220_1  \n",
       "3           384                Gondal        Gondal  1006220_1  \n",
       "4           359  The Devilfire Empire  Cobra Island  1010293_1  "
      ]
     },
     "execution_count": 4,
     "metadata": {},
     "output_type": "execute_result"
    }
   ],
   "source": [
    "df.head()"
   ]
  },
  {
   "cell_type": "code",
   "execution_count": 5,
   "metadata": {},
   "outputs": [],
   "source": [
    "#first columns is a loading mistake, second is irrelevant: we are evaluating trip's tendancies not user's\n",
    "df.drop(['Unnamed: 0', \"user_id\"], axis=1, inplace=True)"
   ]
  },
  {
   "cell_type": "code",
   "execution_count": 6,
   "metadata": {},
   "outputs": [],
   "source": [
    "#Build dict city id to country:\n",
    "city_to_country = {}\n",
    "lst_cities = df.groupby(\"city_id\").last().index\n",
    "lst_associated_countries = df.groupby(\"city_id\").last().hotel_country.values\n",
    "for i in range(len(lst_cities)):\n",
    "    city_to_country[lst_cities[i]] = lst_associated_countries[i]\n",
    "\n",
    "with open(\"city_to_country.pkl\", \"wb\") as f:\n",
    "    pickle.dump(city_to_country, f)"
   ]
  },
  {
   "cell_type": "code",
   "execution_count": 7,
   "metadata": {},
   "outputs": [
    {
     "name": "stdout",
     "output_type": "stream",
     "text": [
      "Number of reservations: 1166835\n"
     ]
    }
   ],
   "source": [
    "print(f\"Number of reservations: {df.shape[0]}\")"
   ]
  },
  {
   "cell_type": "code",
   "execution_count": 8,
   "metadata": {},
   "outputs": [],
   "source": [
    "trips = df.groupby(\"utrip_id\").city_id.apply(np.array)"
   ]
  },
  {
   "cell_type": "code",
   "execution_count": 9,
   "metadata": {},
   "outputs": [],
   "source": [
    "lens = [len(trip) for trip in trips]"
   ]
  },
  {
   "cell_type": "code",
   "execution_count": 10,
   "metadata": {},
   "outputs": [
    {
     "data": {
      "image/png": "[encoded data removed]",
      "text/plain": [
       "<Figure size 720x576 with 1 Axes>"
      ]
     },
     "metadata": {
      "needs_background": "light"
     },
     "output_type": "display_data"
    },
    {
     "name": "stdout",
     "output_type": "stream",
     "text": [
      "Most frequent size of a trip: 4\n",
      "Median size of a trip: 5.0\n",
      "Maximum size of a trip: 48\n",
      "Number of trips with size 1: 113\n"
     ]
    }
   ],
   "source": [
    "import seaborn as sns\n",
    "plt.figure(figsize=(10,8))\n",
    "\n",
    "sns.histplot(lens, bins=48)\n",
    "plt.title(\"Distribution of lengths of trips\")\n",
    "plt.xlabel(\"Number of reservations within the trip\")\n",
    "plt.show()\n",
    "\n",
    "print(f\"Most frequent size of a trip: {stats.mode(lens)[0][0]}\")\n",
    "print(f\"Median size of a trip: {np.median(lens)}\")\n",
    "print(f\"Maximum size of a trip: {np.max(lens)}\")\n",
    "print(f\"Number of trips with size 1: {(np.array(lens) == 1).sum()}\")"
   ]
  },
  {
   "cell_type": "code",
   "execution_count": 11,
   "metadata": {},
   "outputs": [
    {
     "name": "stdout",
     "output_type": "stream",
     "text": [
      "Number of different cities: 39901\n",
      "Number of different countries: 195\n",
      "Number of trips: 217686\n"
     ]
    }
   ],
   "source": [
    "print(f\"Number of different cities: {df.city_id.nunique()}\")\n",
    "print(f\"Number of different countries: {df.hotel_country.nunique()}\")\n",
    "print(f\"Number of trips: {df.utrip_id.nunique()}\")"
   ]
  },
  {
   "cell_type": "code",
   "execution_count": 12,
   "metadata": {},
   "outputs": [],
   "source": [
    "#let's count city_id\n",
    "countries_df = pd.DataFrame(df.groupby(\"hotel_country\").city_id.count())\n",
    "countries_df[\"unique_city_id\"] = df.groupby(\"hotel_country\").city_id.nunique()\n",
    "most_represented_countries = countries_df.sort_values(\"city_id\").city_id[-20:]"
   ]
  },
  {
   "cell_type": "code",
   "execution_count": 13,
   "metadata": {},
   "outputs": [
    {
     "name": "stdout",
     "output_type": "stream",
     "text": [
      "Median number of reservation in each country: 199.0\n",
      "40 countries have less than 10 reservations\n"
     ]
    }
   ],
   "source": [
    "print(f\"Median number of reservation in each country: {countries_df.city_id.median()}\")\n",
    "print(f\"{(countries_df.city_id < 10).sum()} countries have less than 10 reservations\")"
   ]
  },
  {
   "cell_type": "code",
   "execution_count": 14,
   "metadata": {},
   "outputs": [
    {
     "data": {
      "image/png": "[encoded data removed]",
      "text/plain": [
       "<Figure size 864x1008 with 1 Axes>"
      ]
     },
     "metadata": {
      "needs_background": "light"
     },
     "output_type": "display_data"
    }
   ],
   "source": [
    "import seaborn as sns\n",
    "plt.figure(figsize=(12,14))\n",
    "\n",
    "plt.subplot(2,1,1)\n",
    "plt.bar(most_represented_countries.index,most_represented_countries)\n",
    "plt.title(\"Countries with most reservations\")\n",
    "plt.xticks(rotation=50)\n",
    "\n",
    "plt.tight_layout()\n",
    "\n",
    "plt.show()"
   ]
  },
  {
   "cell_type": "code",
   "execution_count": 15,
   "metadata": {},
   "outputs": [],
   "source": [
    "vc = df.city_id.value_counts()\n",
    "\n",
    "def choose_threshold(n):\n",
    "    print(f\"By choosing this threshold of {n}, you keep {vc.loc[vc.values > n].shape[0]} cities, \\nwhich account for {np.round(vc.loc[vc.values > n].sum() / df.shape[0], 2)} reservations of the total\")\n",
    "    return vc.loc[vc.values > n].index"
   ]
  },
  {
   "cell_type": "code",
   "execution_count": 16,
   "metadata": {},
   "outputs": [
    {
     "name": "stdout",
     "output_type": "stream",
     "text": [
      "By choosing this threshold of 6, you keep 12345 cities, \n",
      "which account for 0.95 reservations of the total\n"
     ]
    }
   ],
   "source": [
    "cities_index = choose_threshold(6)"
   ]
  },
  {
   "cell_type": "markdown",
   "metadata": {},
   "source": [
    "Let's choose 6, in order to keep 95% of reservation but divides number of cities by more than 3"
   ]
  },
  {
   "cell_type": "code",
   "execution_count": 17,
   "metadata": {},
   "outputs": [],
   "source": [
    "filtered_df = df.loc[df.city_id.isin(cities_index)]"
   ]
  },
  {
   "cell_type": "code",
   "execution_count": 18,
   "metadata": {},
   "outputs": [
    {
     "name": "stdout",
     "output_type": "stream",
     "text": [
      "Number of different cities: 12345\n",
      "Number of different countries: 148\n",
      "Number of trips: 217411\n"
     ]
    }
   ],
   "source": [
    "print(f\"Number of different cities: {filtered_df.city_id.nunique()}\")\n",
    "print(f\"Number of different countries: {filtered_df.hotel_country.nunique()}\")\n",
    "print(f\"Number of trips: {filtered_df.utrip_id.nunique()}\")"
   ]
  },
  {
   "cell_type": "markdown",
   "metadata": {},
   "source": [
    "### Problem: By doing so we suppressed about 50 countries, with small amounts of reservations. We  eventually decide to keep them."
   ]
  },
  {
   "cell_type": "code",
   "execution_count": 19,
   "metadata": {},
   "outputs": [
    {
     "data": {
      "text/html": [
       "<div>\n",
       "<style scoped>\n",
       "    .dataframe tbody tr th:only-of-type {\n",
       "        vertical-align: middle;\n",
       "    }\n",
       "\n",
       "    .dataframe tbody tr th {\n",
       "        vertical-align: top;\n",
       "    }\n",
       "\n",
       "    .dataframe thead th {\n",
       "        text-align: right;\n",
       "    }\n",
       "</style>\n",
       "<table border=\"1\" class=\"dataframe\">\n",
       "  <thead>\n",
       "    <tr style=\"text-align: right;\">\n",
       "      <th></th>\n",
       "      <th>checkin</th>\n",
       "      <th>checkout</th>\n",
       "      <th>city_id</th>\n",
       "      <th>device_class</th>\n",
       "      <th>affiliate_id</th>\n",
       "      <th>booker_country</th>\n",
       "      <th>hotel_country</th>\n",
       "      <th>utrip_id</th>\n",
       "    </tr>\n",
       "  </thead>\n",
       "  <tbody>\n",
       "    <tr>\n",
       "      <th>0</th>\n",
       "      <td>2016-04-09</td>\n",
       "      <td>2016-04-11</td>\n",
       "      <td>31114</td>\n",
       "      <td>desktop</td>\n",
       "      <td>384</td>\n",
       "      <td>Gondal</td>\n",
       "      <td>Gondal</td>\n",
       "      <td>1006220_1</td>\n",
       "    </tr>\n",
       "    <tr>\n",
       "      <th>1</th>\n",
       "      <td>2016-04-11</td>\n",
       "      <td>2016-04-12</td>\n",
       "      <td>39641</td>\n",
       "      <td>desktop</td>\n",
       "      <td>384</td>\n",
       "      <td>Gondal</td>\n",
       "      <td>Gondal</td>\n",
       "      <td>1006220_1</td>\n",
       "    </tr>\n",
       "    <tr>\n",
       "      <th>2</th>\n",
       "      <td>2016-04-12</td>\n",
       "      <td>2016-04-16</td>\n",
       "      <td>20232</td>\n",
       "      <td>desktop</td>\n",
       "      <td>384</td>\n",
       "      <td>Gondal</td>\n",
       "      <td>Glubbdubdrib</td>\n",
       "      <td>1006220_1</td>\n",
       "    </tr>\n",
       "    <tr>\n",
       "      <th>3</th>\n",
       "      <td>2016-04-16</td>\n",
       "      <td>2016-04-17</td>\n",
       "      <td>24144</td>\n",
       "      <td>desktop</td>\n",
       "      <td>384</td>\n",
       "      <td>Gondal</td>\n",
       "      <td>Gondal</td>\n",
       "      <td>1006220_1</td>\n",
       "    </tr>\n",
       "    <tr>\n",
       "      <th>4</th>\n",
       "      <td>2016-07-09</td>\n",
       "      <td>2016-07-10</td>\n",
       "      <td>5325</td>\n",
       "      <td>mobile</td>\n",
       "      <td>359</td>\n",
       "      <td>The Devilfire Empire</td>\n",
       "      <td>Cobra Island</td>\n",
       "      <td>1010293_1</td>\n",
       "    </tr>\n",
       "  </tbody>\n",
       "</table>\n",
       "</div>"
      ],
      "text/plain": [
       "      checkin    checkout  city_id device_class  affiliate_id  \\\n",
       "0  2016-04-09  2016-04-11    31114      desktop           384   \n",
       "1  2016-04-11  2016-04-12    39641      desktop           384   \n",
       "2  2016-04-12  2016-04-16    20232      desktop           384   \n",
       "3  2016-04-16  2016-04-17    24144      desktop           384   \n",
       "4  2016-07-09  2016-07-10     5325       mobile           359   \n",
       "\n",
       "         booker_country hotel_country   utrip_id  \n",
       "0                Gondal        Gondal  1006220_1  \n",
       "1                Gondal        Gondal  1006220_1  \n",
       "2                Gondal  Glubbdubdrib  1006220_1  \n",
       "3                Gondal        Gondal  1006220_1  \n",
       "4  The Devilfire Empire  Cobra Island  1010293_1  "
      ]
     },
     "execution_count": 19,
     "metadata": {},
     "output_type": "execute_result"
    }
   ],
   "source": [
    "df.head()"
   ]
  },
  {
   "cell_type": "code",
   "execution_count": 20,
   "metadata": {},
   "outputs": [],
   "source": [
    "#fit our encoders on all data\n",
    "from sklearn.preprocessing import LabelEncoder\n",
    "encode_cities = LabelEncoder()\n",
    "encode_devices = LabelEncoder()\n",
    "encode_affiliate_id = LabelEncoder()\n",
    "encode_hotel_country = LabelEncoder()\n",
    "encode_booker_country = LabelEncoder()\n",
    "\n",
    "encode_cities.fit(df.city_id)\n",
    "encode_devices.fit(df.device_class)\n",
    "encode_affiliate_id.fit(df.affiliate_id)\n",
    "encode_hotel_country.fit(df.hotel_country)\n",
    "encode_booker_country.fit(df.booker_country)\n",
    "\n",
    "#Save those encoders for preprocessing test data\n",
    "\n",
    "with open(\"Preprocessing_encoders.pkl\", \"wb\") as f:\n",
    "    pickle.dump([encode_cities, encode_devices, encode_affiliate_id, \n",
    "                 encode_hotel_country, encode_booker_country], f)"
   ]
  },
  {
   "cell_type": "markdown",
   "metadata": {},
   "source": [
    "___________"
   ]
  },
  {
   "cell_type": "markdown",
   "metadata": {},
   "source": [
    "## Saving a test dataframe"
   ]
  },
  {
   "cell_type": "code",
   "execution_count": 21,
   "metadata": {},
   "outputs": [
    {
     "data": {
      "text/html": [
       "<div>\n",
       "<style scoped>\n",
       "    .dataframe tbody tr th:only-of-type {\n",
       "        vertical-align: middle;\n",
       "    }\n",
       "\n",
       "    .dataframe tbody tr th {\n",
       "        vertical-align: top;\n",
       "    }\n",
       "\n",
       "    .dataframe thead th {\n",
       "        text-align: right;\n",
       "    }\n",
       "</style>\n",
       "<table border=\"1\" class=\"dataframe\">\n",
       "  <thead>\n",
       "    <tr style=\"text-align: right;\">\n",
       "      <th></th>\n",
       "      <th>checkin</th>\n",
       "      <th>checkout</th>\n",
       "      <th>city_id</th>\n",
       "      <th>device_class</th>\n",
       "      <th>affiliate_id</th>\n",
       "      <th>booker_country</th>\n",
       "      <th>hotel_country</th>\n",
       "      <th>utrip_id</th>\n",
       "    </tr>\n",
       "  </thead>\n",
       "  <tbody>\n",
       "    <tr>\n",
       "      <th>0</th>\n",
       "      <td>2016-04-09</td>\n",
       "      <td>2016-04-11</td>\n",
       "      <td>31114</td>\n",
       "      <td>desktop</td>\n",
       "      <td>384</td>\n",
       "      <td>Gondal</td>\n",
       "      <td>Gondal</td>\n",
       "      <td>1006220_1</td>\n",
       "    </tr>\n",
       "    <tr>\n",
       "      <th>1</th>\n",
       "      <td>2016-04-11</td>\n",
       "      <td>2016-04-12</td>\n",
       "      <td>39641</td>\n",
       "      <td>desktop</td>\n",
       "      <td>384</td>\n",
       "      <td>Gondal</td>\n",
       "      <td>Gondal</td>\n",
       "      <td>1006220_1</td>\n",
       "    </tr>\n",
       "    <tr>\n",
       "      <th>2</th>\n",
       "      <td>2016-04-12</td>\n",
       "      <td>2016-04-16</td>\n",
       "      <td>20232</td>\n",
       "      <td>desktop</td>\n",
       "      <td>384</td>\n",
       "      <td>Gondal</td>\n",
       "      <td>Glubbdubdrib</td>\n",
       "      <td>1006220_1</td>\n",
       "    </tr>\n",
       "    <tr>\n",
       "      <th>3</th>\n",
       "      <td>2016-04-16</td>\n",
       "      <td>2016-04-17</td>\n",
       "      <td>24144</td>\n",
       "      <td>desktop</td>\n",
       "      <td>384</td>\n",
       "      <td>Gondal</td>\n",
       "      <td>Gondal</td>\n",
       "      <td>1006220_1</td>\n",
       "    </tr>\n",
       "    <tr>\n",
       "      <th>4</th>\n",
       "      <td>2016-07-09</td>\n",
       "      <td>2016-07-10</td>\n",
       "      <td>5325</td>\n",
       "      <td>mobile</td>\n",
       "      <td>359</td>\n",
       "      <td>The Devilfire Empire</td>\n",
       "      <td>Cobra Island</td>\n",
       "      <td>1010293_1</td>\n",
       "    </tr>\n",
       "  </tbody>\n",
       "</table>\n",
       "</div>"
      ],
      "text/plain": [
       "      checkin    checkout  city_id device_class  affiliate_id  \\\n",
       "0  2016-04-09  2016-04-11    31114      desktop           384   \n",
       "1  2016-04-11  2016-04-12    39641      desktop           384   \n",
       "2  2016-04-12  2016-04-16    20232      desktop           384   \n",
       "3  2016-04-16  2016-04-17    24144      desktop           384   \n",
       "4  2016-07-09  2016-07-10     5325       mobile           359   \n",
       "\n",
       "         booker_country hotel_country   utrip_id  \n",
       "0                Gondal        Gondal  1006220_1  \n",
       "1                Gondal        Gondal  1006220_1  \n",
       "2                Gondal  Glubbdubdrib  1006220_1  \n",
       "3                Gondal        Gondal  1006220_1  \n",
       "4  The Devilfire Empire  Cobra Island  1010293_1  "
      ]
     },
     "execution_count": 21,
     "metadata": {},
     "output_type": "execute_result"
    }
   ],
   "source": [
    "df.head()"
   ]
  },
  {
   "cell_type": "code",
   "execution_count": 22,
   "metadata": {},
   "outputs": [
    {
     "name": "stdout",
     "output_type": "stream",
     "text": [
      "There is 217686 different trips\n",
      "We will use 5% in our test set: 10884\n"
     ]
    }
   ],
   "source": [
    "import random\n",
    "random.seed(42)\n",
    "print(f\"There is {df.utrip_id.nunique()} different trips\")\n",
    "n_samples = int(np.round(df.utrip_id.nunique() * 0.05))\n",
    "print(f'We will use 5% in our test set: {n_samples}')\n",
    "\n",
    "\n",
    "test_index = random.sample(list(df.utrip_id.unique()), n_samples)"
   ]
  },
  {
   "cell_type": "code",
   "execution_count": 23,
   "metadata": {},
   "outputs": [],
   "source": [
    "#Split between test and train data\n",
    "test_set = df.loc[df.utrip_id.isin(test_index)]\n",
    "train_set = df.loc[np.invert(df.utrip_id.isin(test_index))]"
   ]
  },
  {
   "cell_type": "code",
   "execution_count": 24,
   "metadata": {},
   "outputs": [
    {
     "name": "stdout",
     "output_type": "stream",
     "text": [
      "We kept 39296 different cities in our train set\n"
     ]
    }
   ],
   "source": [
    "print(f\"We kept {train_set.city_id.nunique()} different cities in our train set\")"
   ]
  },
  {
   "cell_type": "code",
   "execution_count": 25,
   "metadata": {},
   "outputs": [],
   "source": [
    "#reset index\n",
    "test_set.reset_index(drop=True, inplace=True)"
   ]
  },
  {
   "cell_type": "code",
   "execution_count": 26,
   "metadata": {},
   "outputs": [],
   "source": [
    "## Let's hide targets of test set\n",
    "test_set[\"is_new_trip\"] = test_set[[\"utrip_id\"]].shift() != test_set[[\"utrip_id\"]]\n",
    "\n",
    "#Start of the trips - 1\n",
    "end_of_trips = np.array(test_set.loc[test_set.is_new_trip].index) - 1\n",
    "#We remove first element\n",
    "end_of_trips = end_of_trips[1:]\n",
    "#And add the last one\n",
    "end_of_trips = np.append(end_of_trips, test_set.index[-1])\n",
    "\n",
    "test_set[\"is_target\"] = test_set.index.isin(end_of_trips)"
   ]
  },
  {
   "cell_type": "code",
   "execution_count": 27,
   "metadata": {},
   "outputs": [
    {
     "data": {
      "text/html": [
       "<div>\n",
       "<style scoped>\n",
       "    .dataframe tbody tr th:only-of-type {\n",
       "        vertical-align: middle;\n",
       "    }\n",
       "\n",
       "    .dataframe tbody tr th {\n",
       "        vertical-align: top;\n",
       "    }\n",
       "\n",
       "    .dataframe thead th {\n",
       "        text-align: right;\n",
       "    }\n",
       "</style>\n",
       "<table border=\"1\" class=\"dataframe\">\n",
       "  <thead>\n",
       "    <tr style=\"text-align: right;\">\n",
       "      <th></th>\n",
       "      <th>utrip_id</th>\n",
       "      <th>hotel_country</th>\n",
       "      <th>city_id</th>\n",
       "    </tr>\n",
       "  </thead>\n",
       "  <tbody>\n",
       "    <tr>\n",
       "      <th>3</th>\n",
       "      <td>1174942_1</td>\n",
       "      <td>Santa Prisca</td>\n",
       "      <td>12308</td>\n",
       "    </tr>\n",
       "    <tr>\n",
       "      <th>8</th>\n",
       "      <td>1311136_1</td>\n",
       "      <td>Kangan</td>\n",
       "      <td>4202</td>\n",
       "    </tr>\n",
       "    <tr>\n",
       "      <th>12</th>\n",
       "      <td>1335169_1</td>\n",
       "      <td>Cobra Island</td>\n",
       "      <td>63977</td>\n",
       "    </tr>\n",
       "    <tr>\n",
       "      <th>16</th>\n",
       "      <td>133917_7</td>\n",
       "      <td>Gondal</td>\n",
       "      <td>6104</td>\n",
       "    </tr>\n",
       "    <tr>\n",
       "      <th>24</th>\n",
       "      <td>1450445_1</td>\n",
       "      <td>Glubbdubdrib</td>\n",
       "      <td>51291</td>\n",
       "    </tr>\n",
       "    <tr>\n",
       "      <th>...</th>\n",
       "      <td>...</td>\n",
       "      <td>...</td>\n",
       "      <td>...</td>\n",
       "    </tr>\n",
       "    <tr>\n",
       "      <th>58624</th>\n",
       "      <td>740769_1</td>\n",
       "      <td>Lilliput</td>\n",
       "      <td>46794</td>\n",
       "    </tr>\n",
       "    <tr>\n",
       "      <th>58629</th>\n",
       "      <td>895103_1</td>\n",
       "      <td>Bozatta</td>\n",
       "      <td>9161</td>\n",
       "    </tr>\n",
       "    <tr>\n",
       "      <th>58633</th>\n",
       "      <td>959109_1</td>\n",
       "      <td>Glubbdubdrib</td>\n",
       "      <td>19254</td>\n",
       "    </tr>\n",
       "    <tr>\n",
       "      <th>58645</th>\n",
       "      <td>965262_1</td>\n",
       "      <td>Osterlich</td>\n",
       "      <td>47759</td>\n",
       "    </tr>\n",
       "    <tr>\n",
       "      <th>58655</th>\n",
       "      <td>97967_1</td>\n",
       "      <td>Axphain</td>\n",
       "      <td>16612</td>\n",
       "    </tr>\n",
       "  </tbody>\n",
       "</table>\n",
       "<p>10884 rows × 3 columns</p>\n",
       "</div>"
      ],
      "text/plain": [
       "        utrip_id hotel_country  city_id\n",
       "3      1174942_1  Santa Prisca    12308\n",
       "8      1311136_1        Kangan     4202\n",
       "12     1335169_1  Cobra Island    63977\n",
       "16      133917_7        Gondal     6104\n",
       "24     1450445_1  Glubbdubdrib    51291\n",
       "...          ...           ...      ...\n",
       "58624   740769_1      Lilliput    46794\n",
       "58629   895103_1       Bozatta     9161\n",
       "58633   959109_1  Glubbdubdrib    19254\n",
       "58645   965262_1     Osterlich    47759\n",
       "58655    97967_1       Axphain    16612\n",
       "\n",
       "[10884 rows x 3 columns]"
      ]
     },
     "execution_count": 27,
     "metadata": {},
     "output_type": "execute_result"
    }
   ],
   "source": [
    "#Save targets\n",
    "y_test = test_set.loc[test_set.is_target][[\"utrip_id\", \"hotel_country\", \"city_id\"]]\n",
    "y_test"
   ]
  },
  {
   "cell_type": "code",
   "execution_count": 28,
   "metadata": {},
   "outputs": [],
   "source": [
    "#hide hotel country and city_id in test set df\n",
    "test_set.loc[test_set.is_target,'hotel_country']= \"?\"\n",
    "test_set.loc[test_set.is_target,'city_id']= \"?\""
   ]
  },
  {
   "cell_type": "code",
   "execution_count": 29,
   "metadata": {},
   "outputs": [
    {
     "data": {
      "text/html": [
       "<div>\n",
       "<style scoped>\n",
       "    .dataframe tbody tr th:only-of-type {\n",
       "        vertical-align: middle;\n",
       "    }\n",
       "\n",
       "    .dataframe tbody tr th {\n",
       "        vertical-align: top;\n",
       "    }\n",
       "\n",
       "    .dataframe thead th {\n",
       "        text-align: right;\n",
       "    }\n",
       "</style>\n",
       "<table border=\"1\" class=\"dataframe\">\n",
       "  <thead>\n",
       "    <tr style=\"text-align: right;\">\n",
       "      <th></th>\n",
       "      <th>checkin</th>\n",
       "      <th>checkout</th>\n",
       "      <th>city_id</th>\n",
       "      <th>device_class</th>\n",
       "      <th>affiliate_id</th>\n",
       "      <th>booker_country</th>\n",
       "      <th>hotel_country</th>\n",
       "      <th>utrip_id</th>\n",
       "      <th>is_new_trip</th>\n",
       "      <th>is_target</th>\n",
       "    </tr>\n",
       "  </thead>\n",
       "  <tbody>\n",
       "    <tr>\n",
       "      <th>0</th>\n",
       "      <td>2016-06-01</td>\n",
       "      <td>2016-06-03</td>\n",
       "      <td>20764</td>\n",
       "      <td>tablet</td>\n",
       "      <td>9452</td>\n",
       "      <td>Gondal</td>\n",
       "      <td>Santa Prisca</td>\n",
       "      <td>1174942_1</td>\n",
       "      <td>True</td>\n",
       "      <td>False</td>\n",
       "    </tr>\n",
       "    <tr>\n",
       "      <th>1</th>\n",
       "      <td>2016-06-03</td>\n",
       "      <td>2016-06-04</td>\n",
       "      <td>59001</td>\n",
       "      <td>tablet</td>\n",
       "      <td>9452</td>\n",
       "      <td>Gondal</td>\n",
       "      <td>Santa Prisca</td>\n",
       "      <td>1174942_1</td>\n",
       "      <td>False</td>\n",
       "      <td>False</td>\n",
       "    </tr>\n",
       "    <tr>\n",
       "      <th>2</th>\n",
       "      <td>2016-06-04</td>\n",
       "      <td>2016-06-07</td>\n",
       "      <td>15186</td>\n",
       "      <td>tablet</td>\n",
       "      <td>9452</td>\n",
       "      <td>Gondal</td>\n",
       "      <td>Santa Prisca</td>\n",
       "      <td>1174942_1</td>\n",
       "      <td>False</td>\n",
       "      <td>False</td>\n",
       "    </tr>\n",
       "    <tr>\n",
       "      <th>3</th>\n",
       "      <td>2016-06-07</td>\n",
       "      <td>2016-06-10</td>\n",
       "      <td>?</td>\n",
       "      <td>desktop</td>\n",
       "      <td>384</td>\n",
       "      <td>Gondal</td>\n",
       "      <td>?</td>\n",
       "      <td>1174942_1</td>\n",
       "      <td>False</td>\n",
       "      <td>True</td>\n",
       "    </tr>\n",
       "    <tr>\n",
       "      <th>4</th>\n",
       "      <td>2016-05-11</td>\n",
       "      <td>2016-05-13</td>\n",
       "      <td>60237</td>\n",
       "      <td>desktop</td>\n",
       "      <td>5755</td>\n",
       "      <td>Gondal</td>\n",
       "      <td>Kangan</td>\n",
       "      <td>1311136_1</td>\n",
       "      <td>True</td>\n",
       "      <td>False</td>\n",
       "    </tr>\n",
       "  </tbody>\n",
       "</table>\n",
       "</div>"
      ],
      "text/plain": [
       "      checkin    checkout city_id device_class  affiliate_id booker_country  \\\n",
       "0  2016-06-01  2016-06-03   20764       tablet          9452         Gondal   \n",
       "1  2016-06-03  2016-06-04   59001       tablet          9452         Gondal   \n",
       "2  2016-06-04  2016-06-07   15186       tablet          9452         Gondal   \n",
       "3  2016-06-07  2016-06-10       ?      desktop           384         Gondal   \n",
       "4  2016-05-11  2016-05-13   60237      desktop          5755         Gondal   \n",
       "\n",
       "  hotel_country   utrip_id  is_new_trip  is_target  \n",
       "0  Santa Prisca  1174942_1         True      False  \n",
       "1  Santa Prisca  1174942_1        False      False  \n",
       "2  Santa Prisca  1174942_1        False      False  \n",
       "3             ?  1174942_1        False       True  \n",
       "4        Kangan  1311136_1         True      False  "
      ]
     },
     "execution_count": 29,
     "metadata": {},
     "output_type": "execute_result"
    }
   ],
   "source": [
    "test_set.head()"
   ]
  },
  {
   "cell_type": "code",
   "execution_count": 30,
   "metadata": {},
   "outputs": [],
   "source": [
    "#Save test set for later\n",
    "with open(\"test_data.pkl\", \"wb\") as f:\n",
    "    pickle.dump([test_set, y_test], f)"
   ]
  },
  {
   "cell_type": "markdown",
   "metadata": {},
   "source": [
    "## Working on Train/Val data"
   ]
  },
  {
   "cell_type": "code",
   "execution_count": 31,
   "metadata": {},
   "outputs": [],
   "source": [
    "df = train_set"
   ]
  },
  {
   "cell_type": "code",
   "execution_count": 32,
   "metadata": {},
   "outputs": [
    {
     "data": {
      "text/html": [
       "<div>\n",
       "<style scoped>\n",
       "    .dataframe tbody tr th:only-of-type {\n",
       "        vertical-align: middle;\n",
       "    }\n",
       "\n",
       "    .dataframe tbody tr th {\n",
       "        vertical-align: top;\n",
       "    }\n",
       "\n",
       "    .dataframe thead th {\n",
       "        text-align: right;\n",
       "    }\n",
       "</style>\n",
       "<table border=\"1\" class=\"dataframe\">\n",
       "  <thead>\n",
       "    <tr style=\"text-align: right;\">\n",
       "      <th></th>\n",
       "      <th>checkin</th>\n",
       "      <th>checkout</th>\n",
       "      <th>city_id</th>\n",
       "      <th>device_class</th>\n",
       "      <th>affiliate_id</th>\n",
       "      <th>booker_country</th>\n",
       "      <th>hotel_country</th>\n",
       "      <th>utrip_id</th>\n",
       "    </tr>\n",
       "  </thead>\n",
       "  <tbody>\n",
       "    <tr>\n",
       "      <th>0</th>\n",
       "      <td>2016-04-09</td>\n",
       "      <td>2016-04-11</td>\n",
       "      <td>31114</td>\n",
       "      <td>desktop</td>\n",
       "      <td>384</td>\n",
       "      <td>Gondal</td>\n",
       "      <td>Gondal</td>\n",
       "      <td>1006220_1</td>\n",
       "    </tr>\n",
       "    <tr>\n",
       "      <th>1</th>\n",
       "      <td>2016-04-11</td>\n",
       "      <td>2016-04-12</td>\n",
       "      <td>39641</td>\n",
       "      <td>desktop</td>\n",
       "      <td>384</td>\n",
       "      <td>Gondal</td>\n",
       "      <td>Gondal</td>\n",
       "      <td>1006220_1</td>\n",
       "    </tr>\n",
       "    <tr>\n",
       "      <th>2</th>\n",
       "      <td>2016-04-12</td>\n",
       "      <td>2016-04-16</td>\n",
       "      <td>20232</td>\n",
       "      <td>desktop</td>\n",
       "      <td>384</td>\n",
       "      <td>Gondal</td>\n",
       "      <td>Glubbdubdrib</td>\n",
       "      <td>1006220_1</td>\n",
       "    </tr>\n",
       "  </tbody>\n",
       "</table>\n",
       "</div>"
      ],
      "text/plain": [
       "      checkin    checkout  city_id device_class  affiliate_id booker_country  \\\n",
       "0  2016-04-09  2016-04-11    31114      desktop           384         Gondal   \n",
       "1  2016-04-11  2016-04-12    39641      desktop           384         Gondal   \n",
       "2  2016-04-12  2016-04-16    20232      desktop           384         Gondal   \n",
       "\n",
       "  hotel_country   utrip_id  \n",
       "0        Gondal  1006220_1  \n",
       "1        Gondal  1006220_1  \n",
       "2  Glubbdubdrib  1006220_1  "
      ]
     },
     "execution_count": 32,
     "metadata": {},
     "output_type": "execute_result"
    }
   ],
   "source": [
    "df.head(3)"
   ]
  },
  {
   "cell_type": "markdown",
   "metadata": {},
   "source": [
    "Let's apply some preprocessing"
   ]
  },
  {
   "cell_type": "code",
   "execution_count": 33,
   "metadata": {},
   "outputs": [],
   "source": [
    "#Transform dates into datetime format\n",
    "df.checkin = df.checkin.apply(lambda x: datetime.strptime(x, \"%Y-%m-%d\"))\n",
    "df.checkout = df.checkout.apply(lambda x: datetime.strptime(x, \"%Y-%m-%d\"))"
   ]
  },
  {
   "cell_type": "code",
   "execution_count": 34,
   "metadata": {},
   "outputs": [],
   "source": [
    "#New column: how much days spent in the hotel\n",
    "df[\"days_in_hotel\"] = df[[\"checkin\", \"checkout\"]].apply(lambda x: (x[1] - x[0]).days, axis=1)"
   ]
  },
  {
   "cell_type": "code",
   "execution_count": 35,
   "metadata": {},
   "outputs": [
    {
     "data": {
      "text/plain": [
       "(Timestamp('2015-12-31 00:00:00'), Timestamp('2017-02-28 00:00:00'))"
      ]
     },
     "execution_count": 35,
     "metadata": {},
     "output_type": "execute_result"
    }
   ],
   "source": [
    "#Min and max dates\n",
    "df.checkin.min(), df.checkout.max()"
   ]
  },
  {
   "cell_type": "markdown",
   "metadata": {},
   "source": [
    "Everything takes place between those dates, we will add season shift dates"
   ]
  },
  {
   "cell_type": "code",
   "execution_count": 36,
   "metadata": {},
   "outputs": [],
   "source": [
    "#define seasons key dates\n",
    "winter_start = datetime.strptime(\"2015-12-21\", \"%Y-%m-%d\")\n",
    "spring_start = datetime.strptime(\"2016-03-20\", \"%Y-%m-%d\")\n",
    "summer_start = datetime.strptime(\"2016-06-20\", \"%Y-%m-%d\")\n",
    "autumn_start = datetime.strptime(\"2016-09-22\", \"%Y-%m-%d\")\n",
    "winter_start2 = datetime.strptime(\"2016-12-21\", \"%Y-%m-%d\")"
   ]
  },
  {
   "cell_type": "code",
   "execution_count": 37,
   "metadata": {},
   "outputs": [],
   "source": [
    "def get_season(date):\n",
    "    if date < spring_start:\n",
    "        # 0 for winter\n",
    "        return 0\n",
    "    if date < summer_start:\n",
    "        # 1 for spring\n",
    "        return 1\n",
    "    if date < autumn_start:\n",
    "        # 2 for summer\n",
    "        return 2\n",
    "    if date < winter_start2:\n",
    "        # 3 for autumn\n",
    "        return 3\n",
    "    #else: it is the start of 2017, hence winter\n",
    "    return 0"
   ]
  },
  {
   "cell_type": "code",
   "execution_count": 39,
   "metadata": {},
   "outputs": [],
   "source": [
    "#get current season when checking in or checking out\n",
    "df[\"checkin_season\"] = df.checkin.apply(get_season)\n",
    "df[\"checkout_season\"] = df.checkout.apply(get_season)"
   ]
  },
  {
   "cell_type": "code",
   "execution_count": 40,
   "metadata": {},
   "outputs": [],
   "source": [
    "df[\"month_reservation\"] = df.checkin.apply(lambda x: x.month)"
   ]
  },
  {
   "cell_type": "markdown",
   "metadata": {},
   "source": [
    "Let's inspect consecutive cities"
   ]
  },
  {
   "cell_type": "code",
   "execution_count": 42,
   "metadata": {},
   "outputs": [],
   "source": [
    "#Let's deal with trip with consecutive cities\n",
    "df[\"is_new_trip\"] = df[[\"utrip_id\"]].shift() != df[[\"utrip_id\"]]\n",
    "df[\"is_new_city\"] = df[[\"city_id\"]].shift() != df[[\"city_id\"]]"
   ]
  },
  {
   "cell_type": "code",
   "execution_count": 43,
   "metadata": {},
   "outputs": [],
   "source": [
    "#When it is both not a new trip, and not a new city, it means it is a consecutive city reservation within a trip\n",
    "df[\"is_consecutive_res\"] = (df.is_new_city == False) & (df.is_new_trip == False)"
   ]
  },
  {
   "cell_type": "code",
   "execution_count": 44,
   "metadata": {},
   "outputs": [
    {
     "name": "stdout",
     "output_type": "stream",
     "text": [
      "0.07 of reservations are made in the same city as before\n"
     ]
    }
   ],
   "source": [
    "print(f\"{np.round(df.is_consecutive_res.sum() / df.shape[0], 2)} of reservations are made in the same city as before\")"
   ]
  },
  {
   "cell_type": "code",
   "execution_count": 45,
   "metadata": {},
   "outputs": [],
   "source": [
    "consec = df.loc[df.is_consecutive_res].city_id.value_counts().to_dict()\n",
    "total_count = df.city_id.value_counts().to_dict()"
   ]
  },
  {
   "cell_type": "code",
   "execution_count": 46,
   "metadata": {},
   "outputs": [],
   "source": [
    "for city in consec.keys():\n",
    "    consec[city] = consec[city] / total_count[city]"
   ]
  },
  {
   "cell_type": "code",
   "execution_count": 47,
   "metadata": {},
   "outputs": [],
   "source": [
    "with open(\"consecutive_cities.pkl\", \"wb\") as f:\n",
    "    pickle.dump(consec, f)"
   ]
  },
  {
   "cell_type": "markdown",
   "metadata": {},
   "source": [
    "We decide to remove them"
   ]
  },
  {
   "cell_type": "code",
   "execution_count": 48,
   "metadata": {},
   "outputs": [],
   "source": [
    "#remove consecutive reservations\n",
    "filtered_df = df.loc[np.invert(df.is_consecutive_res)]"
   ]
  },
  {
   "cell_type": "code",
   "execution_count": 50,
   "metadata": {},
   "outputs": [],
   "source": [
    "col_to_drop = [\"checkin\",\"checkout\", \"checkout_season\", \"is_consecutive_res\", \n",
    "                \"is_new_city\", \"is_new_trip\"]\n",
    "\n",
    "filtered_df.drop(col_to_drop, axis=1, inplace=True)"
   ]
  },
  {
   "cell_type": "markdown",
   "metadata": {},
   "source": [
    "Now, we need to encode most of our data"
   ]
  },
  {
   "cell_type": "code",
   "execution_count": 51,
   "metadata": {},
   "outputs": [],
   "source": [
    "filtered_df.city_id = encode_cities.transform(filtered_df.city_id)\n",
    "filtered_df.device_class = encode_devices.transform(filtered_df.device_class)\n",
    "filtered_df.affiliate_id = encode_affiliate_id.transform(filtered_df.affiliate_id)\n",
    "filtered_df.hotel_country = encode_hotel_country.transform(filtered_df.hotel_country)\n",
    "filtered_df.booker_country = encode_booker_country.transform(filtered_df.booker_country)"
   ]
  },
  {
   "cell_type": "code",
   "execution_count": 52,
   "metadata": {},
   "outputs": [
    {
     "data": {
      "text/html": [
       "<div>\n",
       "<style scoped>\n",
       "    .dataframe tbody tr th:only-of-type {\n",
       "        vertical-align: middle;\n",
       "    }\n",
       "\n",
       "    .dataframe tbody tr th {\n",
       "        vertical-align: top;\n",
       "    }\n",
       "\n",
       "    .dataframe thead th {\n",
       "        text-align: right;\n",
       "    }\n",
       "</style>\n",
       "<table border=\"1\" class=\"dataframe\">\n",
       "  <thead>\n",
       "    <tr style=\"text-align: right;\">\n",
       "      <th></th>\n",
       "      <th>city_id</th>\n",
       "      <th>device_class</th>\n",
       "      <th>affiliate_id</th>\n",
       "      <th>booker_country</th>\n",
       "      <th>hotel_country</th>\n",
       "      <th>utrip_id</th>\n",
       "      <th>days_in_hotel</th>\n",
       "      <th>checkin_season</th>\n",
       "      <th>month_reservation</th>\n",
       "    </tr>\n",
       "  </thead>\n",
       "  <tbody>\n",
       "    <tr>\n",
       "      <th>0</th>\n",
       "      <td>18386</td>\n",
       "      <td>0</td>\n",
       "      <td>134</td>\n",
       "      <td>2</td>\n",
       "      <td>60</td>\n",
       "      <td>1006220_1</td>\n",
       "      <td>2</td>\n",
       "      <td>1</td>\n",
       "      <td>4</td>\n",
       "    </tr>\n",
       "    <tr>\n",
       "      <th>1</th>\n",
       "      <td>23415</td>\n",
       "      <td>0</td>\n",
       "      <td>134</td>\n",
       "      <td>2</td>\n",
       "      <td>60</td>\n",
       "      <td>1006220_1</td>\n",
       "      <td>1</td>\n",
       "      <td>1</td>\n",
       "      <td>4</td>\n",
       "    </tr>\n",
       "    <tr>\n",
       "      <th>2</th>\n",
       "      <td>11933</td>\n",
       "      <td>0</td>\n",
       "      <td>134</td>\n",
       "      <td>2</td>\n",
       "      <td>59</td>\n",
       "      <td>1006220_1</td>\n",
       "      <td>4</td>\n",
       "      <td>1</td>\n",
       "      <td>4</td>\n",
       "    </tr>\n",
       "    <tr>\n",
       "      <th>3</th>\n",
       "      <td>14304</td>\n",
       "      <td>0</td>\n",
       "      <td>134</td>\n",
       "      <td>2</td>\n",
       "      <td>60</td>\n",
       "      <td>1006220_1</td>\n",
       "      <td>1</td>\n",
       "      <td>1</td>\n",
       "      <td>4</td>\n",
       "    </tr>\n",
       "    <tr>\n",
       "      <th>4</th>\n",
       "      <td>3164</td>\n",
       "      <td>1</td>\n",
       "      <td>125</td>\n",
       "      <td>4</td>\n",
       "      <td>36</td>\n",
       "      <td>1010293_1</td>\n",
       "      <td>1</td>\n",
       "      <td>2</td>\n",
       "      <td>7</td>\n",
       "    </tr>\n",
       "  </tbody>\n",
       "</table>\n",
       "</div>"
      ],
      "text/plain": [
       "   city_id  device_class  affiliate_id  booker_country  hotel_country  \\\n",
       "0    18386             0           134               2             60   \n",
       "1    23415             0           134               2             60   \n",
       "2    11933             0           134               2             59   \n",
       "3    14304             0           134               2             60   \n",
       "4     3164             1           125               4             36   \n",
       "\n",
       "    utrip_id  days_in_hotel  checkin_season  month_reservation  \n",
       "0  1006220_1              2               1                  4  \n",
       "1  1006220_1              1               1                  4  \n",
       "2  1006220_1              4               1                  4  \n",
       "3  1006220_1              1               1                  4  \n",
       "4  1010293_1              1               2                  7  "
      ]
     },
     "execution_count": 52,
     "metadata": {},
     "output_type": "execute_result"
    }
   ],
   "source": [
    "filtered_df.head()"
   ]
  },
  {
   "cell_type": "code",
   "execution_count": 53,
   "metadata": {},
   "outputs": [],
   "source": [
    "#Save the preprocessed df\n",
    "with open(\"preprocessed_df.pkl\", \"wb\") as f:\n",
    "    pickle.dump(filtered_df, f)"
   ]
  },
  {
   "cell_type": "markdown",
   "metadata": {},
   "source": [
    "_____"
   ]
  },
  {
   "cell_type": "markdown",
   "metadata": {},
   "source": [
    "______________"
   ]
  }
 ],
 "metadata": {
  "kernelspec": {
   "display_name": "Python 3",
   "language": "python",
   "name": "python3"
  },
  "language_info": {
   "codemirror_mode": {
    "name": "ipython",
    "version": 3
   },
   "file_extension": ".py",
   "mimetype": "text/x-python",
   "name": "python",
   "nbconvert_exporter": "python",
   "pygments_lexer": "ipython3",
   "version": "3.8.5"
  }
 },
 "nbformat": 4,
 "nbformat_minor": 4
}
