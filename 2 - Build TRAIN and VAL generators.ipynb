{
 "cells": [
  {
   "cell_type": "code",
   "execution_count": 1,
   "metadata": {},
   "outputs": [],
   "source": [
    "#imports\n",
    "import pandas as pd\n",
    "import numpy as np\n",
    "from datetime import datetime\n",
    "from statistics import mode\n",
    "import matplotlib.pyplot as plt\n",
    "import pickle\n",
    "from collections import Counter\n",
    "from scipy import stats"
   ]
  },
  {
   "cell_type": "code",
   "execution_count": 2,
   "metadata": {},
   "outputs": [],
   "source": [
    "import time\n",
    "import warnings\n",
    "warnings.filterwarnings(\"ignore\")"
   ]
  },
  {
   "cell_type": "code",
   "execution_count": 3,
   "metadata": {},
   "outputs": [],
   "source": [
    "with open(\"preprocessed_df.pkl\", \"rb\") as f:\n",
    "    df = pickle.load(f)"
   ]
  },
  {
   "cell_type": "code",
   "execution_count": 4,
   "metadata": {},
   "outputs": [
    {
     "data": {
      "text/html": [
       "<div>\n",
       "<style scoped>\n",
       "    .dataframe tbody tr th:only-of-type {\n",
       "        vertical-align: middle;\n",
       "    }\n",
       "\n",
       "    .dataframe tbody tr th {\n",
       "        vertical-align: top;\n",
       "    }\n",
       "\n",
       "    .dataframe thead th {\n",
       "        text-align: right;\n",
       "    }\n",
       "</style>\n",
       "<table border=\"1\" class=\"dataframe\">\n",
       "  <thead>\n",
       "    <tr style=\"text-align: right;\">\n",
       "      <th></th>\n",
       "      <th>city_id</th>\n",
       "      <th>device_class</th>\n",
       "      <th>affiliate_id</th>\n",
       "      <th>booker_country</th>\n",
       "      <th>hotel_country</th>\n",
       "      <th>utrip_id</th>\n",
       "      <th>days_in_hotel</th>\n",
       "      <th>checkin_season</th>\n",
       "      <th>month_reservation</th>\n",
       "    </tr>\n",
       "  </thead>\n",
       "  <tbody>\n",
       "    <tr>\n",
       "      <th>0</th>\n",
       "      <td>18386</td>\n",
       "      <td>0</td>\n",
       "      <td>134</td>\n",
       "      <td>2</td>\n",
       "      <td>60</td>\n",
       "      <td>1006220_1</td>\n",
       "      <td>2</td>\n",
       "      <td>1</td>\n",
       "      <td>4</td>\n",
       "    </tr>\n",
       "    <tr>\n",
       "      <th>1</th>\n",
       "      <td>23415</td>\n",
       "      <td>0</td>\n",
       "      <td>134</td>\n",
       "      <td>2</td>\n",
       "      <td>60</td>\n",
       "      <td>1006220_1</td>\n",
       "      <td>1</td>\n",
       "      <td>1</td>\n",
       "      <td>4</td>\n",
       "    </tr>\n",
       "    <tr>\n",
       "      <th>2</th>\n",
       "      <td>11933</td>\n",
       "      <td>0</td>\n",
       "      <td>134</td>\n",
       "      <td>2</td>\n",
       "      <td>59</td>\n",
       "      <td>1006220_1</td>\n",
       "      <td>4</td>\n",
       "      <td>1</td>\n",
       "      <td>4</td>\n",
       "    </tr>\n",
       "    <tr>\n",
       "      <th>3</th>\n",
       "      <td>14304</td>\n",
       "      <td>0</td>\n",
       "      <td>134</td>\n",
       "      <td>2</td>\n",
       "      <td>60</td>\n",
       "      <td>1006220_1</td>\n",
       "      <td>1</td>\n",
       "      <td>1</td>\n",
       "      <td>4</td>\n",
       "    </tr>\n",
       "    <tr>\n",
       "      <th>4</th>\n",
       "      <td>3164</td>\n",
       "      <td>1</td>\n",
       "      <td>125</td>\n",
       "      <td>4</td>\n",
       "      <td>36</td>\n",
       "      <td>1010293_1</td>\n",
       "      <td>1</td>\n",
       "      <td>2</td>\n",
       "      <td>7</td>\n",
       "    </tr>\n",
       "  </tbody>\n",
       "</table>\n",
       "</div>"
      ],
      "text/plain": [
       "   city_id  device_class  affiliate_id  booker_country  hotel_country  \\\n",
       "0    18386             0           134               2             60   \n",
       "1    23415             0           134               2             60   \n",
       "2    11933             0           134               2             59   \n",
       "3    14304             0           134               2             60   \n",
       "4     3164             1           125               4             36   \n",
       "\n",
       "    utrip_id  days_in_hotel  checkin_season  month_reservation  \n",
       "0  1006220_1              2               1                  4  \n",
       "1  1006220_1              1               1                  4  \n",
       "2  1006220_1              4               1                  4  \n",
       "3  1006220_1              1               1                  4  \n",
       "4  1010293_1              1               2                  7  "
      ]
     },
     "execution_count": 4,
     "metadata": {},
     "output_type": "execute_result"
    }
   ],
   "source": [
    "df.head()"
   ]
  },
  {
   "cell_type": "code",
   "execution_count": 5,
   "metadata": {},
   "outputs": [],
   "source": [
    "#Now reset index with utrip id\n",
    "df.set_index(\"utrip_id\", inplace=True)"
   ]
  },
  {
   "cell_type": "markdown",
   "metadata": {},
   "source": [
    "## TRAIN / VAL split"
   ]
  },
  {
   "cell_type": "code",
   "execution_count": 6,
   "metadata": {},
   "outputs": [
    {
     "name": "stdout",
     "output_type": "stream",
     "text": [
      "There is 206802 different trips\n",
      "We will use 10% in our validation set: 20680\n"
     ]
    }
   ],
   "source": [
    "import random\n",
    "random.seed(10)\n",
    "print(f\"There is {df.index.nunique()} different trips\")\n",
    "n_samples = int(np.round(df.index.nunique() * 0.1))\n",
    "print(f'We will use 10% in our validation set: {n_samples}')\n",
    "\n",
    "\n",
    "val_index = random.sample(list(df.index.unique()), n_samples)"
   ]
  },
  {
   "cell_type": "code",
   "execution_count": 7,
   "metadata": {},
   "outputs": [],
   "source": [
    "#save it\n",
    "with open(\"val_index_split.pkl\", 'wb') as f:\n",
    "    pickle.dump(val_index, f)"
   ]
  },
  {
   "cell_type": "code",
   "execution_count": 8,
   "metadata": {},
   "outputs": [],
   "source": [
    "val_set = df.loc[df.index.isin(val_index)]\n",
    "train_set = df.loc[np.invert(df.index.isin(val_index))]\n",
    "\n",
    "#for simplification\n",
    "df = train_set"
   ]
  },
  {
   "cell_type": "code",
   "execution_count": 9,
   "metadata": {},
   "outputs": [],
   "source": [
    "#Normalize all columns except city_id\n",
    "normalized_values = {}\n",
    "\n",
    "#first, we retrieve them from train set\n",
    "for col in df.columns[1:]:\n",
    "    normalized_values[col] = (df[col].min(), df[col].max())\n",
    "    df[col] = (df[col] - df[col].min()) / (df[col].max() - df[col].min())\n",
    "\n",
    "    #We normalize our val set\n",
    "for col in val_set.columns[1:]:\n",
    "    min_value, max_value = normalized_values[col]\n",
    "    val_set[col] = (val_set[col]  - min_value) / (max_value - min_value)"
   ]
  },
  {
   "cell_type": "code",
   "execution_count": 10,
   "metadata": {},
   "outputs": [
    {
     "data": {
      "text/html": [
       "<div>\n",
       "<style scoped>\n",
       "    .dataframe tbody tr th:only-of-type {\n",
       "        vertical-align: middle;\n",
       "    }\n",
       "\n",
       "    .dataframe tbody tr th {\n",
       "        vertical-align: top;\n",
       "    }\n",
       "\n",
       "    .dataframe thead th {\n",
       "        text-align: right;\n",
       "    }\n",
       "</style>\n",
       "<table border=\"1\" class=\"dataframe\">\n",
       "  <thead>\n",
       "    <tr style=\"text-align: right;\">\n",
       "      <th></th>\n",
       "      <th>city_id</th>\n",
       "      <th>device_class</th>\n",
       "      <th>affiliate_id</th>\n",
       "      <th>booker_country</th>\n",
       "      <th>hotel_country</th>\n",
       "      <th>days_in_hotel</th>\n",
       "      <th>checkin_season</th>\n",
       "      <th>month_reservation</th>\n",
       "    </tr>\n",
       "    <tr>\n",
       "      <th>utrip_id</th>\n",
       "      <th></th>\n",
       "      <th></th>\n",
       "      <th></th>\n",
       "      <th></th>\n",
       "      <th></th>\n",
       "      <th></th>\n",
       "      <th></th>\n",
       "      <th></th>\n",
       "    </tr>\n",
       "  </thead>\n",
       "  <tbody>\n",
       "    <tr>\n",
       "      <th>1017326_1</th>\n",
       "      <td>1163</td>\n",
       "      <td>0.5</td>\n",
       "      <td>0.924377</td>\n",
       "      <td>0.50</td>\n",
       "      <td>0.407216</td>\n",
       "      <td>0.000000</td>\n",
       "      <td>0.333333</td>\n",
       "      <td>0.272727</td>\n",
       "    </tr>\n",
       "    <tr>\n",
       "      <th>1017326_1</th>\n",
       "      <td>2094</td>\n",
       "      <td>0.5</td>\n",
       "      <td>0.924377</td>\n",
       "      <td>0.50</td>\n",
       "      <td>0.407216</td>\n",
       "      <td>0.034483</td>\n",
       "      <td>0.333333</td>\n",
       "      <td>0.363636</td>\n",
       "    </tr>\n",
       "    <tr>\n",
       "      <th>1017326_1</th>\n",
       "      <td>32861</td>\n",
       "      <td>0.5</td>\n",
       "      <td>0.924377</td>\n",
       "      <td>0.50</td>\n",
       "      <td>0.407216</td>\n",
       "      <td>0.000000</td>\n",
       "      <td>0.333333</td>\n",
       "      <td>0.363636</td>\n",
       "    </tr>\n",
       "    <tr>\n",
       "      <th>1017326_1</th>\n",
       "      <td>3506</td>\n",
       "      <td>0.5</td>\n",
       "      <td>0.924377</td>\n",
       "      <td>0.50</td>\n",
       "      <td>0.407216</td>\n",
       "      <td>0.000000</td>\n",
       "      <td>0.333333</td>\n",
       "      <td>0.363636</td>\n",
       "    </tr>\n",
       "    <tr>\n",
       "      <th>106408_3</th>\n",
       "      <td>38342</td>\n",
       "      <td>0.0</td>\n",
       "      <td>0.924377</td>\n",
       "      <td>0.75</td>\n",
       "      <td>0.268041</td>\n",
       "      <td>0.103448</td>\n",
       "      <td>0.666667</td>\n",
       "      <td>0.636364</td>\n",
       "    </tr>\n",
       "    <tr>\n",
       "      <th>...</th>\n",
       "      <td>...</td>\n",
       "      <td>...</td>\n",
       "      <td>...</td>\n",
       "      <td>...</td>\n",
       "      <td>...</td>\n",
       "      <td>...</td>\n",
       "      <td>...</td>\n",
       "      <td>...</td>\n",
       "    </tr>\n",
       "    <tr>\n",
       "      <th>966493_1</th>\n",
       "      <td>10040</td>\n",
       "      <td>0.0</td>\n",
       "      <td>0.041193</td>\n",
       "      <td>0.50</td>\n",
       "      <td>0.108247</td>\n",
       "      <td>0.172414</td>\n",
       "      <td>0.333333</td>\n",
       "      <td>0.363636</td>\n",
       "    </tr>\n",
       "    <tr>\n",
       "      <th>966493_1</th>\n",
       "      <td>8241</td>\n",
       "      <td>0.0</td>\n",
       "      <td>0.785429</td>\n",
       "      <td>0.50</td>\n",
       "      <td>0.108247</td>\n",
       "      <td>0.000000</td>\n",
       "      <td>0.333333</td>\n",
       "      <td>0.363636</td>\n",
       "    </tr>\n",
       "    <tr>\n",
       "      <th>966493_1</th>\n",
       "      <td>35611</td>\n",
       "      <td>0.0</td>\n",
       "      <td>0.041193</td>\n",
       "      <td>0.50</td>\n",
       "      <td>0.108247</td>\n",
       "      <td>0.137931</td>\n",
       "      <td>0.333333</td>\n",
       "      <td>0.363636</td>\n",
       "    </tr>\n",
       "    <tr>\n",
       "      <th>966493_1</th>\n",
       "      <td>8674</td>\n",
       "      <td>0.0</td>\n",
       "      <td>0.041193</td>\n",
       "      <td>0.50</td>\n",
       "      <td>0.108247</td>\n",
       "      <td>0.034483</td>\n",
       "      <td>0.333333</td>\n",
       "      <td>0.363636</td>\n",
       "    </tr>\n",
       "    <tr>\n",
       "      <th>966493_1</th>\n",
       "      <td>10040</td>\n",
       "      <td>0.5</td>\n",
       "      <td>0.038426</td>\n",
       "      <td>0.50</td>\n",
       "      <td>0.108247</td>\n",
       "      <td>0.000000</td>\n",
       "      <td>0.333333</td>\n",
       "      <td>0.363636</td>\n",
       "    </tr>\n",
       "  </tbody>\n",
       "</table>\n",
       "<p>102690 rows × 8 columns</p>\n",
       "</div>"
      ],
      "text/plain": [
       "           city_id  device_class  affiliate_id  booker_country  hotel_country  \\\n",
       "utrip_id                                                                        \n",
       "1017326_1     1163           0.5      0.924377            0.50       0.407216   \n",
       "1017326_1     2094           0.5      0.924377            0.50       0.407216   \n",
       "1017326_1    32861           0.5      0.924377            0.50       0.407216   \n",
       "1017326_1     3506           0.5      0.924377            0.50       0.407216   \n",
       "106408_3     38342           0.0      0.924377            0.75       0.268041   \n",
       "...            ...           ...           ...             ...            ...   \n",
       "966493_1     10040           0.0      0.041193            0.50       0.108247   \n",
       "966493_1      8241           0.0      0.785429            0.50       0.108247   \n",
       "966493_1     35611           0.0      0.041193            0.50       0.108247   \n",
       "966493_1      8674           0.0      0.041193            0.50       0.108247   \n",
       "966493_1     10040           0.5      0.038426            0.50       0.108247   \n",
       "\n",
       "           days_in_hotel  checkin_season  month_reservation  \n",
       "utrip_id                                                     \n",
       "1017326_1       0.000000        0.333333           0.272727  \n",
       "1017326_1       0.034483        0.333333           0.363636  \n",
       "1017326_1       0.000000        0.333333           0.363636  \n",
       "1017326_1       0.000000        0.333333           0.363636  \n",
       "106408_3        0.103448        0.666667           0.636364  \n",
       "...                  ...             ...                ...  \n",
       "966493_1        0.172414        0.333333           0.363636  \n",
       "966493_1        0.000000        0.333333           0.363636  \n",
       "966493_1        0.137931        0.333333           0.363636  \n",
       "966493_1        0.034483        0.333333           0.363636  \n",
       "966493_1        0.000000        0.333333           0.363636  \n",
       "\n",
       "[102690 rows x 8 columns]"
      ]
     },
     "execution_count": 10,
     "metadata": {},
     "output_type": "execute_result"
    }
   ],
   "source": [
    "val_set"
   ]
  },
  {
   "cell_type": "code",
   "execution_count": 11,
   "metadata": {},
   "outputs": [],
   "source": [
    "with open(\"normalized_values.pkl\", \"wb\") as f:\n",
    "    pickle.dump(normalized_values, f)"
   ]
  },
  {
   "cell_type": "code",
   "execution_count": 12,
   "metadata": {},
   "outputs": [
    {
     "data": {
      "text/plain": [
       "{'device_class': (0, 2),\n",
       " 'affiliate_id': (0, 3253),\n",
       " 'booker_country': (0, 4),\n",
       " 'hotel_country': (0, 194),\n",
       " 'days_in_hotel': (1, 30),\n",
       " 'checkin_season': (0, 3),\n",
       " 'month_reservation': (1, 12)}"
      ]
     },
     "execution_count": 12,
     "metadata": {},
     "output_type": "execute_result"
    }
   ],
   "source": [
    "normalized_values"
   ]
  },
  {
   "cell_type": "markdown",
   "metadata": {},
   "source": [
    "For train set: we create additionnal trips"
   ]
  },
  {
   "cell_type": "code",
   "execution_count": 13,
   "metadata": {},
   "outputs": [],
   "source": [
    "#Retrieve trips info\n",
    "trips = df.groupby(\"utrip_id\").apply(np.array)"
   ]
  },
  {
   "cell_type": "code",
   "execution_count": 14,
   "metadata": {},
   "outputs": [],
   "source": [
    "lens = [len(trip) for trip in trips]"
   ]
  },
  {
   "cell_type": "code",
   "execution_count": 15,
   "metadata": {},
   "outputs": [
    {
     "data": {
      "text/plain": [
       "(1, 40)"
      ]
     },
     "execution_count": 15,
     "metadata": {},
     "output_type": "execute_result"
    }
   ],
   "source": [
    "np.min(lens), np.max(lens)"
   ]
  },
  {
   "cell_type": "code",
   "execution_count": 16,
   "metadata": {},
   "outputs": [
    {
     "name": "stdout",
     "output_type": "stream",
     "text": [
      "We have currently 186122 trips in our train set\n"
     ]
    }
   ],
   "source": [
    "print(f\"We have currently {len(lens)} trips in our train set\")"
   ]
  },
  {
   "cell_type": "code",
   "execution_count": 17,
   "metadata": {},
   "outputs": [
    {
     "name": "stdout",
     "output_type": "stream",
     "text": [
      "We will keep all those greater than size 3: 161488 trips\n"
     ]
    }
   ],
   "source": [
    "print(f\"We will keep all those greater than size 3: {(np.array(lens) > 3).sum()} trips\")"
   ]
  },
  {
   "cell_type": "markdown",
   "metadata": {},
   "source": [
    "But we will create additionnal sub_trips, based on longer trips"
   ]
  },
  {
   "cell_type": "code",
   "execution_count": 18,
   "metadata": {},
   "outputs": [
    {
     "data": {
      "text/html": [
       "<div>\n",
       "<style scoped>\n",
       "    .dataframe tbody tr th:only-of-type {\n",
       "        vertical-align: middle;\n",
       "    }\n",
       "\n",
       "    .dataframe tbody tr th {\n",
       "        vertical-align: top;\n",
       "    }\n",
       "\n",
       "    .dataframe thead th {\n",
       "        text-align: right;\n",
       "    }\n",
       "</style>\n",
       "<table border=\"1\" class=\"dataframe\">\n",
       "  <thead>\n",
       "    <tr style=\"text-align: right;\">\n",
       "      <th></th>\n",
       "      <th>city_id</th>\n",
       "      <th>device_class</th>\n",
       "      <th>affiliate_id</th>\n",
       "      <th>booker_country</th>\n",
       "      <th>hotel_country</th>\n",
       "      <th>days_in_hotel</th>\n",
       "      <th>checkin_season</th>\n",
       "      <th>month_reservation</th>\n",
       "    </tr>\n",
       "    <tr>\n",
       "      <th>utrip_id</th>\n",
       "      <th></th>\n",
       "      <th></th>\n",
       "      <th></th>\n",
       "      <th></th>\n",
       "      <th></th>\n",
       "      <th></th>\n",
       "      <th></th>\n",
       "      <th></th>\n",
       "    </tr>\n",
       "  </thead>\n",
       "  <tbody>\n",
       "    <tr>\n",
       "      <th>1006220_1</th>\n",
       "      <td>18386</td>\n",
       "      <td>0.0</td>\n",
       "      <td>0.041193</td>\n",
       "      <td>0.5</td>\n",
       "      <td>0.309278</td>\n",
       "      <td>0.034483</td>\n",
       "      <td>0.333333</td>\n",
       "      <td>0.272727</td>\n",
       "    </tr>\n",
       "    <tr>\n",
       "      <th>1006220_1</th>\n",
       "      <td>23415</td>\n",
       "      <td>0.0</td>\n",
       "      <td>0.041193</td>\n",
       "      <td>0.5</td>\n",
       "      <td>0.309278</td>\n",
       "      <td>0.000000</td>\n",
       "      <td>0.333333</td>\n",
       "      <td>0.272727</td>\n",
       "    </tr>\n",
       "    <tr>\n",
       "      <th>1006220_1</th>\n",
       "      <td>11933</td>\n",
       "      <td>0.0</td>\n",
       "      <td>0.041193</td>\n",
       "      <td>0.5</td>\n",
       "      <td>0.304124</td>\n",
       "      <td>0.103448</td>\n",
       "      <td>0.333333</td>\n",
       "      <td>0.272727</td>\n",
       "    </tr>\n",
       "    <tr>\n",
       "      <th>1006220_1</th>\n",
       "      <td>14304</td>\n",
       "      <td>0.0</td>\n",
       "      <td>0.041193</td>\n",
       "      <td>0.5</td>\n",
       "      <td>0.309278</td>\n",
       "      <td>0.000000</td>\n",
       "      <td>0.333333</td>\n",
       "      <td>0.272727</td>\n",
       "    </tr>\n",
       "    <tr>\n",
       "      <th>1010293_1</th>\n",
       "      <td>3164</td>\n",
       "      <td>0.5</td>\n",
       "      <td>0.038426</td>\n",
       "      <td>1.0</td>\n",
       "      <td>0.185567</td>\n",
       "      <td>0.000000</td>\n",
       "      <td>0.666667</td>\n",
       "      <td>0.545455</td>\n",
       "    </tr>\n",
       "    <tr>\n",
       "      <th>...</th>\n",
       "      <td>...</td>\n",
       "      <td>...</td>\n",
       "      <td>...</td>\n",
       "      <td>...</td>\n",
       "      <td>...</td>\n",
       "      <td>...</td>\n",
       "      <td>...</td>\n",
       "      <td>...</td>\n",
       "    </tr>\n",
       "    <tr>\n",
       "      <th>999261_1</th>\n",
       "      <td>8407</td>\n",
       "      <td>1.0</td>\n",
       "      <td>0.964955</td>\n",
       "      <td>0.5</td>\n",
       "      <td>0.268041</td>\n",
       "      <td>0.034483</td>\n",
       "      <td>0.666667</td>\n",
       "      <td>0.727273</td>\n",
       "    </tr>\n",
       "    <tr>\n",
       "      <th>999755_1</th>\n",
       "      <td>2656</td>\n",
       "      <td>0.0</td>\n",
       "      <td>0.249308</td>\n",
       "      <td>1.0</td>\n",
       "      <td>0.309278</td>\n",
       "      <td>0.068966</td>\n",
       "      <td>1.000000</td>\n",
       "      <td>1.000000</td>\n",
       "    </tr>\n",
       "    <tr>\n",
       "      <th>999755_1</th>\n",
       "      <td>601</td>\n",
       "      <td>0.0</td>\n",
       "      <td>0.743314</td>\n",
       "      <td>1.0</td>\n",
       "      <td>0.309278</td>\n",
       "      <td>0.000000</td>\n",
       "      <td>1.000000</td>\n",
       "      <td>1.000000</td>\n",
       "    </tr>\n",
       "    <tr>\n",
       "      <th>999755_1</th>\n",
       "      <td>38342</td>\n",
       "      <td>0.0</td>\n",
       "      <td>0.743314</td>\n",
       "      <td>1.0</td>\n",
       "      <td>0.268041</td>\n",
       "      <td>0.068966</td>\n",
       "      <td>0.000000</td>\n",
       "      <td>1.000000</td>\n",
       "    </tr>\n",
       "    <tr>\n",
       "      <th>999755_1</th>\n",
       "      <td>5715</td>\n",
       "      <td>0.0</td>\n",
       "      <td>0.924377</td>\n",
       "      <td>1.0</td>\n",
       "      <td>0.268041</td>\n",
       "      <td>0.068966</td>\n",
       "      <td>0.000000</td>\n",
       "      <td>1.000000</td>\n",
       "    </tr>\n",
       "  </tbody>\n",
       "</table>\n",
       "<p>924489 rows × 8 columns</p>\n",
       "</div>"
      ],
      "text/plain": [
       "           city_id  device_class  affiliate_id  booker_country  hotel_country  \\\n",
       "utrip_id                                                                        \n",
       "1006220_1    18386           0.0      0.041193             0.5       0.309278   \n",
       "1006220_1    23415           0.0      0.041193             0.5       0.309278   \n",
       "1006220_1    11933           0.0      0.041193             0.5       0.304124   \n",
       "1006220_1    14304           0.0      0.041193             0.5       0.309278   \n",
       "1010293_1     3164           0.5      0.038426             1.0       0.185567   \n",
       "...            ...           ...           ...             ...            ...   \n",
       "999261_1      8407           1.0      0.964955             0.5       0.268041   \n",
       "999755_1      2656           0.0      0.249308             1.0       0.309278   \n",
       "999755_1       601           0.0      0.743314             1.0       0.309278   \n",
       "999755_1     38342           0.0      0.743314             1.0       0.268041   \n",
       "999755_1      5715           0.0      0.924377             1.0       0.268041   \n",
       "\n",
       "           days_in_hotel  checkin_season  month_reservation  \n",
       "utrip_id                                                     \n",
       "1006220_1       0.034483        0.333333           0.272727  \n",
       "1006220_1       0.000000        0.333333           0.272727  \n",
       "1006220_1       0.103448        0.333333           0.272727  \n",
       "1006220_1       0.000000        0.333333           0.272727  \n",
       "1010293_1       0.000000        0.666667           0.545455  \n",
       "...                  ...             ...                ...  \n",
       "999261_1        0.034483        0.666667           0.727273  \n",
       "999755_1        0.068966        1.000000           1.000000  \n",
       "999755_1        0.000000        1.000000           1.000000  \n",
       "999755_1        0.068966        0.000000           1.000000  \n",
       "999755_1        0.068966        0.000000           1.000000  \n",
       "\n",
       "[924489 rows x 8 columns]"
      ]
     },
     "execution_count": 18,
     "metadata": {},
     "output_type": "execute_result"
    }
   ],
   "source": [
    "df"
   ]
  },
  {
   "cell_type": "markdown",
   "metadata": {},
   "source": [
    "For each trip, we decide to keep info on: last device class, last month of reservation, last booker country, num of days in last hotel\n"
   ]
  },
  {
   "cell_type": "code",
   "execution_count": 20,
   "metadata": {},
   "outputs": [],
   "source": [
    "from tensorflow.keras.preprocessing.sequence import TimeseriesGenerator\n",
    "cities_sequences = []\n",
    "trips_info = []\n",
    "y = []\n",
    "for trip in trips:\n",
    "    #discard trip smaller than 4\n",
    "    if len(trip) < 4:\n",
    "        continue\n",
    "    #We start at 3\n",
    "    for i in range(3, len(trip)):\n",
    "        for elements in TimeseriesGenerator(trip, trip, i):\n",
    "            #elements contain the list of i sequences and list of i targets in a tuple\n",
    "            tpls = elements[0]\n",
    "            targets = elements[1]\n",
    "            n = len(tpls)\n",
    "            for j in range(n):\n",
    "                #cities within trip\n",
    "                cities_sequence = tpls[j][:,0]\n",
    "                #info within trip. because it is the info of the last reservation, it is contained in \"targets\"\n",
    "                last_device = targets[j][1]\n",
    "                last_booker = targets[j][3]\n",
    "                last_num_days = targets[j][5]\n",
    "                month_res = targets[j][7]\n",
    "                \n",
    "                trip_information = [last_device, last_booker, last_num_days, month_res]\n",
    "                \n",
    "                #target city\n",
    "                target = targets[j][0]\n",
    "                \n",
    "                #Save all\n",
    "                cities_sequences.append(cities_sequence)\n",
    "                trips_info.append(trip_information)\n",
    "                y.append(target)"
   ]
  },
  {
   "cell_type": "code",
   "execution_count": 21,
   "metadata": {},
   "outputs": [
    {
     "name": "stdout",
     "output_type": "stream",
     "text": [
      "We now have a new train set of 943932 trips with at least 3 destinations\n"
     ]
    }
   ],
   "source": [
    "print(f'We now have a new train set of {len(y)} trips with at least 3 destinations')"
   ]
  },
  {
   "cell_type": "markdown",
   "metadata": {},
   "source": [
    "for val_set, we simply retrieve the information"
   ]
  },
  {
   "cell_type": "code",
   "execution_count": 22,
   "metadata": {},
   "outputs": [],
   "source": [
    "#Retrieve trips info\n",
    "val_trips = val_set.groupby(\"utrip_id\").apply(np.array)"
   ]
  },
  {
   "cell_type": "code",
   "execution_count": 25,
   "metadata": {},
   "outputs": [
    {
     "data": {
      "text/plain": [
       "(4, 8)"
      ]
     },
     "execution_count": 25,
     "metadata": {},
     "output_type": "execute_result"
    }
   ],
   "source": [
    "val_trips[0].shape"
   ]
  },
  {
   "cell_type": "code",
   "execution_count": 26,
   "metadata": {},
   "outputs": [],
   "source": [
    "cities_sequences_val = []\n",
    "trips_info_val = []\n",
    "y_val = []\n",
    "for trip in val_trips:\n",
    "    #discard trip smaller than 4\n",
    "    if len(trip) < 4:\n",
    "        continue\n",
    "    #We start at 3\n",
    "    cities_sequence_val = trip[:-1,0]\n",
    "    target = trip[-1,0]\n",
    "    \n",
    "    #info within trip\n",
    "    last_device = trip[-1,1]\n",
    "    last_booker = trip[-1,3]\n",
    "    last_num_days = trip[-1, 5]\n",
    "    month_res = trip[-1,7]\n",
    "    \n",
    "    trip_information = [last_device, last_booker, last_num_days, month_res]\n",
    "\n",
    "    #Save all\n",
    "    cities_sequences_val.append(cities_sequence_val)\n",
    "    trips_info_val.append(trip_information)\n",
    "    y_val.append(target)"
   ]
  },
  {
   "cell_type": "markdown",
   "metadata": {},
   "source": [
    "We then use those trips, without the final destination, to add to our training data"
   ]
  },
  {
   "cell_type": "code",
   "execution_count": 27,
   "metadata": {},
   "outputs": [],
   "source": [
    "for trip in val_trips:\n",
    "    #We do not consider the last destination of the trip\n",
    "    trip = trip[:-1]\n",
    "    #discard trip smaller than 4\n",
    "    if len(trip) < 4:\n",
    "        continue\n",
    "    #We start at 3\n",
    "    for i in range(3, len(trip)):\n",
    "        for elements in TimeseriesGenerator(trip, trip, i):\n",
    "            #elements contain the list of i sequences and list of i targets in a tuple\n",
    "            tpls = elements[0]\n",
    "            targets = elements[1]\n",
    "            n = len(tpls)\n",
    "            for j in range(n):\n",
    "                #cities within trip\n",
    "                cities_sequence = tpls[j][:,0]\n",
    "                #info within trip. because it is the info of the last reservation, it is contained in \"targets\"\n",
    "                last_device = targets[j][1]\n",
    "                last_booker = targets[j][3]\n",
    "                last_num_days = targets[j][5]\n",
    "                month_res = targets[j][7]\n",
    "                \n",
    "                trip_information = [last_device, last_booker, last_num_days, month_res]\n",
    "                \n",
    "                #target city\n",
    "                target = targets[j][0]\n",
    "                \n",
    "                #Save all\n",
    "                cities_sequences.append(cities_sequence)\n",
    "                trips_info.append(trip_information)\n",
    "                y.append(target)"
   ]
  },
  {
   "cell_type": "code",
   "execution_count": 28,
   "metadata": {},
   "outputs": [
    {
     "name": "stdout",
     "output_type": "stream",
     "text": [
      "Max len of trip in train seq: 39\n",
      "Max len of trip in val seq: 26\n"
     ]
    }
   ],
   "source": [
    "lens_trips = [len(trip) for trip in cities_sequences]\n",
    "print(f\"Max len of trip in train seq: {np.max(lens_trips)}\")\n",
    "\n",
    "lens_trips_val = [len(trip) for trip in cities_sequences_val]\n",
    "print(f\"Max len of trip in val seq: {np.max(lens_trips_val)}\")"
   ]
  },
  {
   "cell_type": "code",
   "execution_count": 29,
   "metadata": {},
   "outputs": [
    {
     "name": "stdout",
     "output_type": "stream",
     "text": [
      "We now have a new train set of 1006777 trips with at least 3 destinations\n"
     ]
    }
   ],
   "source": [
    "print(f'We now have a new train set of {len(y)} trips with at least 3 destinations')"
   ]
  },
  {
   "cell_type": "markdown",
   "metadata": {},
   "source": [
    "No padding. We will fit our model with data of various input shape in each batch"
   ]
  },
  {
   "cell_type": "code",
   "execution_count": 30,
   "metadata": {},
   "outputs": [],
   "source": [
    "# Finalization\n",
    "X_train_cities = cities_sequences\n",
    "X_train_info = trips_info\n",
    "y_train = np.array(y)\n",
    "\n",
    "\n",
    "X_val_cities = cities_sequences_val\n",
    "X_val_info = trips_info_val\n",
    "y_val = np.array(y_val)"
   ]
  },
  {
   "cell_type": "code",
   "execution_count": 31,
   "metadata": {},
   "outputs": [
    {
     "data": {
      "text/plain": [
       "(1006777, 17913)"
      ]
     },
     "execution_count": 31,
     "metadata": {},
     "output_type": "execute_result"
    }
   ],
   "source": [
    "len(y_train), len(y_val)"
   ]
  },
  {
   "cell_type": "markdown",
   "metadata": {},
   "source": [
    "## For each trip_id, we have a variable lenght sequence of cities, a size 4 vector of info, and the city target"
   ]
  },
  {
   "cell_type": "code",
   "execution_count": 32,
   "metadata": {},
   "outputs": [],
   "source": [
    "from numpy import savez_compressed, load"
   ]
  },
  {
   "cell_type": "code",
   "execution_count": 33,
   "metadata": {},
   "outputs": [],
   "source": [
    "#Save data to compressed files\n",
    "#train data\n",
    "savez_compressed(\"X_train_cities.npz\", X_train_cities)\n",
    "savez_compressed(\"X_train_info.npz\", X_train_info)\n",
    "savez_compressed(\"y_train.npz\", y_train)\n",
    "\n",
    "#val data\n",
    "savez_compressed(\"X_val_cities.npz\", X_val_cities)\n",
    "savez_compressed(\"X_val_info.npz\", X_val_info)\n",
    "savez_compressed(\"y_val.npz\", y_val)"
   ]
  },
  {
   "cell_type": "markdown",
   "metadata": {},
   "source": [
    "______"
   ]
  }
 ],
 "metadata": {
  "kernelspec": {
   "display_name": "Python 3",
   "language": "python",
   "name": "python3"
  },
  "language_info": {
   "codemirror_mode": {
    "name": "ipython",
    "version": 3
   },
   "file_extension": ".py",
   "mimetype": "text/x-python",
   "name": "python",
   "nbconvert_exporter": "python",
   "pygments_lexer": "ipython3",
   "version": "3.8.5"
  }
 },
 "nbformat": 4,
 "nbformat_minor": 4
}
