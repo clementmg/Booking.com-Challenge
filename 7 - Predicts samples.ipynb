{
 "cells": [
  {
   "cell_type": "markdown",
   "metadata": {},
   "source": [
    "# Booking.com WSDM WebTour 2021 Challenge demo"
   ]
  },
  {
   "cell_type": "code",
   "execution_count": 1,
   "metadata": {},
   "outputs": [],
   "source": [
    "#imports\n",
    "import pandas as pd\n",
    "import numpy as np\n",
    "from datetime import datetime\n",
    "from statistics import mode\n",
    "import matplotlib.pyplot as plt\n",
    "import pickle\n",
    "from collections import Counter\n",
    "from tensorflow.keras.preprocessing import sequence\n",
    "from scipy import stats"
   ]
  },
  {
   "cell_type": "markdown",
   "metadata": {},
   "source": [
    "### Load testset"
   ]
  },
  {
   "cell_type": "code",
   "execution_count": 2,
   "metadata": {},
   "outputs": [],
   "source": [
    "test_set = pd.read_csv('sample_test_set.csv')"
   ]
  },
  {
   "cell_type": "code",
   "execution_count": 3,
   "metadata": {},
   "outputs": [],
   "source": [
    "t = test_set.groupby(\"utrip_id\").apply(np.array)"
   ]
  },
  {
   "cell_type": "code",
   "execution_count": 4,
   "metadata": {},
   "outputs": [],
   "source": [
    "lens = [len(i) for i in t]"
   ]
  },
  {
   "cell_type": "code",
   "execution_count": 5,
   "metadata": {},
   "outputs": [
    {
     "data": {
      "text/plain": [
       "(4, 5)"
      ]
     },
     "execution_count": 5,
     "metadata": {},
     "output_type": "execute_result"
    }
   ],
   "source": [
    "np.min(lens), np.max(lens)"
   ]
  },
  {
   "cell_type": "code",
   "execution_count": 6,
   "metadata": {},
   "outputs": [],
   "source": [
    "with open(\"Preprocessing_encoders.pkl\", \"rb\") as f:\n",
    "    encode_cities, encode_devices, encode_affiliate_id, encode_hotel_country, encode_booker_country = pickle.load(f)"
   ]
  },
  {
   "cell_type": "code",
   "execution_count": 7,
   "metadata": {},
   "outputs": [],
   "source": [
    "with open(\"normalized_values.pkl\", \"rb\") as f:\n",
    "    normalized_values = pickle.load(f)"
   ]
  },
  {
   "cell_type": "code",
   "execution_count": 8,
   "metadata": {},
   "outputs": [],
   "source": [
    "def get_season(date):\n",
    "    if date < spring_start:\n",
    "        # 0 for winter\n",
    "        return 0\n",
    "    if date < summer_start:\n",
    "        # 1 for spring\n",
    "        return 1\n",
    "    if date < autumn_start:\n",
    "        # 2 for summer\n",
    "        return 2\n",
    "    if date < winter_start2:\n",
    "        # 3 for autumn\n",
    "        return 3\n",
    "    #else: it is the start of 2017, hence winter\n",
    "    return 0\n",
    "\n",
    "#define seasons key dates\n",
    "winter_start = datetime.strptime(\"2015-12-21\", \"%Y-%m-%d\")\n",
    "spring_start = datetime.strptime(\"2016-03-20\", \"%Y-%m-%d\")\n",
    "summer_start = datetime.strptime(\"2016-06-20\", \"%Y-%m-%d\")\n",
    "autumn_start = datetime.strptime(\"2016-09-22\", \"%Y-%m-%d\")\n",
    "winter_start2 = datetime.strptime(\"2016-12-21\", \"%Y-%m-%d\")"
   ]
  },
  {
   "cell_type": "code",
   "execution_count": 9,
   "metadata": {},
   "outputs": [],
   "source": [
    "def apply_preprocessing(test_set, datetime_format=\"%Y-%m-%d\", target=\"?\", n_values=normalized_values,\n",
    "                       skip_duplicates=True):\n",
    "    \n",
    "    df = test_set.copy()\n",
    "    \n",
    "    #Transform dates into datetime format\n",
    "    df.checkin = df.checkin.apply(lambda x: datetime.strptime(x, datetime_format))\n",
    "    df.checkout = df.checkout.apply(lambda x: datetime.strptime(x, datetime_format))\n",
    "    \n",
    "    #sort\n",
    "    df.sort_values([\"utrip_id\", \"checkin\"], inplace=True)\n",
    "    \n",
    "    \n",
    "    #New column: how much days spent in the hotel\n",
    "    df[\"days_in_hotel\"] = df[[\"checkin\", \"checkout\"]].apply(lambda x: (x[1] - x[0]).days, axis=1)\n",
    "    \n",
    "    #get current season when checking in or checking out\n",
    "    df[\"checkin_season\"] = df.checkin.apply(get_season)\n",
    "    df[\"checkout_season\"] = df.checkout.apply(get_season)\n",
    "    \n",
    "    df[\"month_reservation\"] = df.checkin.apply(lambda x: x.month)\n",
    "    \n",
    "    #Let's deal with trip with consecutive cities\n",
    "    df[\"is_new_trip\"] = df[[\"utrip_id\"]].shift() != df[[\"utrip_id\"]]\n",
    "    df[\"is_new_city\"] = df[[\"city_id\"]].shift() != df[[\"city_id\"]]\n",
    "    #When it is both not a new trip, and not a new city, it means it is a consecutive city reservation within a trip\n",
    "    df[\"is_consecutive_res\"] = (df.is_new_city == False) & (df.is_new_trip == False)\n",
    "    \n",
    "    #remove consecutive reservations\n",
    "    if skip_duplicates:\n",
    "        df = df.loc[np.invert(df.is_consecutive_res)]\n",
    "    \n",
    "    col_to_drop = [\"checkin\",\"checkout\", \"checkout_season\", \"is_consecutive_res\", \n",
    "               \"is_new_city\", \"is_new_trip\", \"row_num\", \"total_rows\", \"user_id\"]\n",
    "    \n",
    "    df.drop(col_to_drop, axis=1, inplace=True)\n",
    "    \n",
    "    \n",
    "    \n",
    "    #Retrieve trips info\n",
    "    df.set_index(\"utrip_id\", inplace=True)\n",
    "    \n",
    "    #encode city_id and hotel country\n",
    "    mask = df['city_id'] != target\n",
    "    df.loc[mask, 'city_id'] = encode_cities.transform(df.loc[mask, 'city_id'])\n",
    "    df.loc[mask, 'hotel_country'] = encode_hotel_country.transform(df.loc[mask, \"hotel_country\"])\n",
    "    \n",
    "    #encode the rest of data\n",
    "    df.device_class = encode_devices.transform(df.device_class)\n",
    "    #df.affiliate_id = encode_affiliate_id.transform(df.affiliate_id)\n",
    "    df.booker_country = encode_booker_country.transform(df.booker_country)\n",
    "    \n",
    "    ordered_col = ['city_id','device_class','affiliate_id',\n",
    "                   'booker_country','hotel_country', \"days_in_hotel\",\n",
    "                   'checkin_season','month_reservation']\n",
    "    df = df[ordered_col]\n",
    "    #Scale\n",
    "    for col in df.columns[1:]:\n",
    "        # not hotel country\n",
    "        if col == \"hotel_country\":\n",
    "            continue\n",
    "        min_value, max_value = normalized_values[col]\n",
    "        df[col] = (df[col]  - min_value) / (max_value - min_value)\n",
    "    \n",
    "    #Normalize hotel country col\n",
    "    min_value, max_value = normalized_values[\"hotel_country\"]\n",
    "    df.loc[mask, \"hotel_country\"] = (df.loc[mask, \"hotel_country\"] - min_value) / (max_value - min_value)\n",
    "    \n",
    "\n",
    "    #Retrieve trips info\n",
    "    trips = df.groupby(\"utrip_id\").apply(np.array)\n",
    "    index = trips.groupby(\"utrip_id\").apply(np.array).index\n",
    "    \n",
    "    cities_sequences = []\n",
    "    trip_info = []\n",
    "    lst_indexes = []\n",
    "    for i, trip in enumerate(trips):\n",
    "        if len(trip) == 1:\n",
    "            print(\"Not a trip\")\n",
    "            continue\n",
    "        #save index\n",
    "        lst_indexes.append((index[i]))\n",
    "        cities_sequence = np.array(trip[:-1,0], dtype=\"int32\")\n",
    "        last_device = trip[-1,1]\n",
    "        last_booker = trip[-1,3]\n",
    "        last_num_days = trip[-1, 5]\n",
    "        month_res = trip[-1,7]\n",
    "        \n",
    "        trip_information = [last_device, last_booker, last_num_days, month_res]\n",
    "        \n",
    "        #Save all\n",
    "        cities_sequences.append(cities_sequence)\n",
    "        trip_info.append(trip_information)\n",
    "    \n",
    "    \n",
    "    return cities_sequences, trip_info, lst_indexes"
   ]
  },
  {
   "cell_type": "code",
   "execution_count": 12,
   "metadata": {},
   "outputs": [],
   "source": [
    "X_trip, X_info, index = apply_preprocessing(test_set, datetime_format=\"%d/%m/%Y\", target=0, skip_duplicates=False)"
   ]
  },
  {
   "cell_type": "code",
   "execution_count": 13,
   "metadata": {},
   "outputs": [
    {
     "data": {
      "text/plain": [
       "[array([33371,  6873,  3469], dtype=int32),\n",
       " array([29631, 26533, 17285], dtype=int32),\n",
       " array([28294, 27497, 31337, 20790], dtype=int32),\n",
       " array([33842, 33842,  2925], dtype=int32)]"
      ]
     },
     "execution_count": 13,
     "metadata": {},
     "output_type": "execute_result"
    }
   ],
   "source": [
    "X_trip"
   ]
  },
  {
   "cell_type": "markdown",
   "metadata": {},
   "source": [
    "Save it"
   ]
  },
  {
   "cell_type": "code",
   "execution_count": 15,
   "metadata": {},
   "outputs": [
    {
     "name": "stderr",
     "output_type": "stream",
     "text": [
      "/home/clementmg/.local/lib/python3.8/site-packages/numpy/core/_asarray.py:136: VisibleDeprecationWarning: Creating an ndarray from ragged nested sequences (which is a list-or-tuple of lists-or-tuples-or ndarrays with different lengths or shapes) is deprecated. If you meant to do this, you must specify 'dtype=object' when creating the ndarray\n",
      "  return array(a, dtype, copy=False, order=order, subok=True)\n"
     ]
    }
   ],
   "source": [
    "from numpy import savez_compressed, load\n",
    "savez_compressed(\"sample_trip.npz\", X_trip)\n",
    "savez_compressed(\"sample_info.npz\", X_info)\n",
    "savez_compressed(\"sample_index.npz\", index)"
   ]
  },
  {
   "cell_type": "code",
   "execution_count": 31,
   "metadata": {},
   "outputs": [],
   "source": [
    "from tensorflow.keras.models import load_model\n",
    "import tensorflow.keras.backend as K\n",
    "model = load_model(\"best_model.hdf5\")"
   ]
  },
  {
   "cell_type": "code",
   "execution_count": 17,
   "metadata": {},
   "outputs": [],
   "source": [
    "import random\n",
    "from numpy import savez_compressed, load\n",
    "\n",
    "def predictions_generator(filename1, filename2, batch_size=512):\n",
    "    #initiate a batch count for each size of trips\n",
    "    batch_count = {k: 0 for k in range(50)}\n",
    "    inputs = {k: [] for k in range(50)}\n",
    "    while True:\n",
    "        #load files\n",
    "        trip_sequences = load(filename1, allow_pickle=True)[\"arr_0\"]\n",
    "        trip_infos = load(filename2, allow_pickle=True)[\"arr_0\"]\n",
    "        \n",
    "        for i in range(len(trip_sequences)):\n",
    "        \n",
    "            #consider trip i\n",
    "            trip_sequence = trip_sequences[i]\n",
    "            trip_info = trip_infos[i]\n",
    "            len_trip = len(trip_sequence)\n",
    "            \n",
    "            #add info to corresponding  size\n",
    "            inputs[len_trip].append([trip_sequence, trip_info])\n",
    "            batch_count[len_trip] += 1\n",
    "            \n",
    "            if batch_count[len_trip] == batch_size:\n",
    "                X_trip = np.array([t[0] for t in inputs[len_trip]], dtype=\"int32\")\n",
    "                X_info = np.array([t[1] for t in inputs[len_trip]], dtype=\"float32\")\n",
    "                #yield the data to feed the \n",
    "                yield [X_trip, X_info]\n",
    "                inputs[len_trip] = []\n",
    "                batch_count[len_trip] = 0\n",
    "               \n",
    "            \n",
    "\n",
    "index = load(\"sample_index.npz\", allow_pickle=True)[\"arr_0\"]"
   ]
  },
  {
   "cell_type": "code",
   "execution_count": 32,
   "metadata": {},
   "outputs": [],
   "source": [
    "batch_size = 1\n",
    "pred_generator = predictions_generator(\"sample_trip.npz\", \"sample_info.npz\",\n",
    "                                        batch_size=batch_size)\n"
   ]
  },
  {
   "cell_type": "code",
   "execution_count": 33,
   "metadata": {},
   "outputs": [],
   "source": [
    "with open(\"consecutive_cities.pkl\", \"rb\") as f:\n",
    "    consec = pickle.load(f)"
   ]
  },
  {
   "cell_type": "code",
   "execution_count": 34,
   "metadata": {},
   "outputs": [],
   "source": [
    "def select_highly_consecutive_cities(threshold=0.06):\n",
    "    selected_cities = [city for city in consec.keys() if consec[city] > threshold]\n",
    "    s = encode_cities.transform(selected_cities) #encoded\n",
    "    return s"
   ]
  },
  {
   "cell_type": "code",
   "execution_count": 35,
   "metadata": {},
   "outputs": [],
   "source": [
    "#modify column 0\n",
    "def adapt_4th_pred(p, s):\n",
    "    last_pred = p[4]\n",
    "    #if not frequently followed by duplicate, do not consider it\n",
    "    if last_pred not in s:\n",
    "        #return 4th choice of model\n",
    "        return p[0]\n",
    "    #else\n",
    "    #if last pred already predicted\n",
    "    if last_pred in p[:4].values:\n",
    "        return p[0]\n",
    "    #else\n",
    "    return p[4]"
   ]
  },
  {
   "cell_type": "code",
   "execution_count": 36,
   "metadata": {},
   "outputs": [],
   "source": [
    "def predict_from_generator(generator, topn=4, to_pred=4000, use_last=False):\n",
    "    \n",
    "    preds = model.predict(generator, steps=to_pred, batch_size=1)\n",
    "    sorted_preds = np.array(preds).argsort(axis=1) #sort them along axis\n",
    "    res_df = pd.DataFrame(sorted_preds[:,-topn:]) #select topn\n",
    "    \n",
    "    if use_last:\n",
    "        s = select_highly_consecutive_cities()\n",
    "        last_cities = [trip[-1] for trip in X_info[:to_pred]]\n",
    "        #we use the last city as a prediction\n",
    "        res_df[topn] = last_cities\n",
    "        res_df[0] = res_df.apply(lambda x: int(adapt_4th_pred(x, s)), axis=1)\n",
    "        res_df.drop(topn, inplace=True, axis=1)\n",
    "\n",
    "    #inverse transform\n",
    "    for i in range(topn):\n",
    "        res_df.iloc[:,i] = encode_cities.inverse_transform(res_df.iloc[:,i])\n",
    "    \n",
    "    if topn == 4:\n",
    "        res_df.columns=[\"city_id_1\",\"city_id_2\",\"city_id_3\",\"city_id_4\"]\n",
    "    return res_df"
   ]
  },
  {
   "cell_type": "code",
   "execution_count": 37,
   "metadata": {},
   "outputs": [],
   "source": [
    "res_df = predict_from_generator(pred_generator, use_last=True, to_pred=4)\n",
    "submission = pd.concat([pd.Series(index, name=\"utrip_id\"), res_df], axis=1)\n",
    "submission.to_csv('submission_sample.csv',index=False)"
   ]
  },
  {
   "cell_type": "code",
   "execution_count": 29,
   "metadata": {},
   "outputs": [],
   "source": [
    "res_df = predict_from_generator(pred_generator, use_last=True, to_pred=4, topn=10)"
   ]
  },
  {
   "cell_type": "code",
   "execution_count": 38,
   "metadata": {},
   "outputs": [
    {
     "data": {
      "text/html": [
       "<div>\n",
       "<style scoped>\n",
       "    .dataframe tbody tr th:only-of-type {\n",
       "        vertical-align: middle;\n",
       "    }\n",
       "\n",
       "    .dataframe tbody tr th {\n",
       "        vertical-align: top;\n",
       "    }\n",
       "\n",
       "    .dataframe thead th {\n",
       "        text-align: right;\n",
       "    }\n",
       "</style>\n",
       "<table border=\"1\" class=\"dataframe\">\n",
       "  <thead>\n",
       "    <tr style=\"text-align: right;\">\n",
       "      <th></th>\n",
       "      <th>city_id_1</th>\n",
       "      <th>city_id_2</th>\n",
       "      <th>city_id_3</th>\n",
       "      <th>city_id_4</th>\n",
       "    </tr>\n",
       "  </thead>\n",
       "  <tbody>\n",
       "    <tr>\n",
       "      <th>0</th>\n",
       "      <td>3809</td>\n",
       "      <td>30018</td>\n",
       "      <td>5797</td>\n",
       "      <td>13471</td>\n",
       "    </tr>\n",
       "    <tr>\n",
       "      <th>1</th>\n",
       "      <td>52570</td>\n",
       "      <td>15343</td>\n",
       "      <td>4932</td>\n",
       "      <td>60222</td>\n",
       "    </tr>\n",
       "    <tr>\n",
       "      <th>2</th>\n",
       "      <td>45188</td>\n",
       "      <td>35160</td>\n",
       "      <td>47759</td>\n",
       "      <td>17775</td>\n",
       "    </tr>\n",
       "    <tr>\n",
       "      <th>3</th>\n",
       "      <td>38912</td>\n",
       "      <td>4932</td>\n",
       "      <td>60222</td>\n",
       "      <td>17013</td>\n",
       "    </tr>\n",
       "  </tbody>\n",
       "</table>\n",
       "</div>"
      ],
      "text/plain": [
       "   city_id_1  city_id_2  city_id_3  city_id_4\n",
       "0       3809      30018       5797      13471\n",
       "1      52570      15343       4932      60222\n",
       "2      45188      35160      47759      17775\n",
       "3      38912       4932      60222      17013"
      ]
     },
     "execution_count": 38,
     "metadata": {},
     "output_type": "execute_result"
    }
   ],
   "source": [
    "res_df"
   ]
  },
  {
   "cell_type": "markdown",
   "metadata": {},
   "source": [
    "## Read submission file and ground truth"
   ]
  },
  {
   "cell_type": "code",
   "execution_count": 39,
   "metadata": {},
   "outputs": [],
   "source": [
    "ground_truth = pd.read_csv('sample_truth.csv', index_col =[0])\n",
    "submission = pd.read_csv('submission_sample.csv', index_col =[0])"
   ]
  },
  {
   "cell_type": "code",
   "execution_count": 40,
   "metadata": {
    "scrolled": true
   },
   "outputs": [
    {
     "data": {
      "text/html": [
       "<div>\n",
       "<style scoped>\n",
       "    .dataframe tbody tr th:only-of-type {\n",
       "        vertical-align: middle;\n",
       "    }\n",
       "\n",
       "    .dataframe tbody tr th {\n",
       "        vertical-align: top;\n",
       "    }\n",
       "\n",
       "    .dataframe thead th {\n",
       "        text-align: right;\n",
       "    }\n",
       "</style>\n",
       "<table border=\"1\" class=\"dataframe\">\n",
       "  <thead>\n",
       "    <tr style=\"text-align: right;\">\n",
       "      <th></th>\n",
       "      <th>city_id_1</th>\n",
       "      <th>city_id_2</th>\n",
       "      <th>city_id_3</th>\n",
       "      <th>city_id_4</th>\n",
       "    </tr>\n",
       "    <tr>\n",
       "      <th>utrip_id</th>\n",
       "      <th></th>\n",
       "      <th></th>\n",
       "      <th></th>\n",
       "      <th></th>\n",
       "    </tr>\n",
       "  </thead>\n",
       "  <tbody>\n",
       "    <tr>\n",
       "      <th>1000066_5</th>\n",
       "      <td>3809</td>\n",
       "      <td>30018</td>\n",
       "      <td>5797</td>\n",
       "      <td>13471</td>\n",
       "    </tr>\n",
       "    <tr>\n",
       "      <th>1000270_5</th>\n",
       "      <td>52570</td>\n",
       "      <td>15343</td>\n",
       "      <td>4932</td>\n",
       "      <td>60222</td>\n",
       "    </tr>\n",
       "    <tr>\n",
       "      <th>1000441_5</th>\n",
       "      <td>45188</td>\n",
       "      <td>35160</td>\n",
       "      <td>47759</td>\n",
       "      <td>17775</td>\n",
       "    </tr>\n",
       "    <tr>\n",
       "      <th>100048_5</th>\n",
       "      <td>38912</td>\n",
       "      <td>4932</td>\n",
       "      <td>60222</td>\n",
       "      <td>17013</td>\n",
       "    </tr>\n",
       "  </tbody>\n",
       "</table>\n",
       "</div>"
      ],
      "text/plain": [
       "           city_id_1  city_id_2  city_id_3  city_id_4\n",
       "utrip_id                                             \n",
       "1000066_5       3809      30018       5797      13471\n",
       "1000270_5      52570      15343       4932      60222\n",
       "1000441_5      45188      35160      47759      17775\n",
       "100048_5       38912       4932      60222      17013"
      ]
     },
     "execution_count": 40,
     "metadata": {},
     "output_type": "execute_result"
    }
   ],
   "source": [
    "submission"
   ]
  },
  {
   "cell_type": "markdown",
   "metadata": {},
   "source": [
    "## Evaluate - use accuracy at 4 to evaluate the prediction"
   ]
  },
  {
   "cell_type": "code",
   "execution_count": 41,
   "metadata": {},
   "outputs": [],
   "source": [
    "def evaluate_accuracy_at_4(submission,ground_truth):\n",
    "    '''checks if the true city is within the four recommended cities'''\n",
    "    data_to_eval = submission.join(ground_truth,on='utrip_id')\n",
    "    hits = data_to_eval.apply(\n",
    "        lambda row: row['city_id'] in (row[['city_id_1', 'city_id_2', 'city_id_3', 'city_id_4']].values),\n",
    "            axis = 1)\n",
    "    return hits.mean()"
   ]
  },
  {
   "cell_type": "code",
   "execution_count": 42,
   "metadata": {},
   "outputs": [
    {
     "data": {
      "text/plain": [
       "0.25"
      ]
     },
     "execution_count": 42,
     "metadata": {},
     "output_type": "execute_result"
    }
   ],
   "source": [
    "evaluate_accuracy_at_4(submission,ground_truth)"
   ]
  },
  {
   "cell_type": "code",
   "execution_count": 51,
   "metadata": {},
   "outputs": [
    {
     "data": {
      "text/html": [
       "<div>\n",
       "<style scoped>\n",
       "    .dataframe tbody tr th:only-of-type {\n",
       "        vertical-align: middle;\n",
       "    }\n",
       "\n",
       "    .dataframe tbody tr th {\n",
       "        vertical-align: top;\n",
       "    }\n",
       "\n",
       "    .dataframe thead th {\n",
       "        text-align: right;\n",
       "    }\n",
       "</style>\n",
       "<table border=\"1\" class=\"dataframe\">\n",
       "  <thead>\n",
       "    <tr style=\"text-align: right;\">\n",
       "      <th></th>\n",
       "      <th>city_id</th>\n",
       "      <th>hotel_country</th>\n",
       "    </tr>\n",
       "    <tr>\n",
       "      <th>utrip_id</th>\n",
       "      <th></th>\n",
       "      <th></th>\n",
       "    </tr>\n",
       "  </thead>\n",
       "  <tbody>\n",
       "    <tr>\n",
       "      <th>1000066_5</th>\n",
       "      <td>41971</td>\n",
       "      <td>Urkesh</td>\n",
       "    </tr>\n",
       "    <tr>\n",
       "      <th>1000270_5</th>\n",
       "      <td>23921</td>\n",
       "      <td>Cobra Island</td>\n",
       "    </tr>\n",
       "    <tr>\n",
       "      <th>1000441_5</th>\n",
       "      <td>50457</td>\n",
       "      <td>Osterlich</td>\n",
       "    </tr>\n",
       "    <tr>\n",
       "      <th>100048_5</th>\n",
       "      <td>17013</td>\n",
       "      <td>Borginia</td>\n",
       "    </tr>\n",
       "  </tbody>\n",
       "</table>\n",
       "</div>"
      ],
      "text/plain": [
       "           city_id hotel_country\n",
       "utrip_id                        \n",
       "1000066_5    41971        Urkesh\n",
       "1000270_5    23921  Cobra Island\n",
       "1000441_5    50457     Osterlich\n",
       "100048_5     17013      Borginia"
      ]
     },
     "execution_count": 51,
     "metadata": {},
     "output_type": "execute_result"
    }
   ],
   "source": [
    "ground_truth"
   ]
  },
  {
   "cell_type": "code",
   "execution_count": null,
   "metadata": {},
   "outputs": [],
   "source": []
  }
 ],
 "metadata": {
  "kernelspec": {
   "display_name": "Python 3",
   "language": "python",
   "name": "python3"
  },
  "language_info": {
   "codemirror_mode": {
    "name": "ipython",
    "version": 3
   },
   "file_extension": ".py",
   "mimetype": "text/x-python",
   "name": "python",
   "nbconvert_exporter": "python",
   "pygments_lexer": "ipython3",
   "version": "3.8.5"
  }
 },
 "nbformat": 4,
 "nbformat_minor": 4
}
