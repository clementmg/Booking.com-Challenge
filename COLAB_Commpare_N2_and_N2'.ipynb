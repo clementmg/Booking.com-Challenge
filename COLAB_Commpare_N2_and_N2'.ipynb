{
 "cells": [
  {
   "cell_type": "code",
   "execution_count": 2,
   "metadata": {
    "id": "Xy94jpM4wLeW"
   },
   "outputs": [],
   "source": [
    "#imports\n",
    "import pandas as pd\n",
    "import numpy as np\n",
    "from datetime import datetime\n",
    "from statistics import mode\n",
    "import matplotlib.pyplot as plt\n",
    "import pickle\n",
    "from collections import Counter"
   ]
  },
  {
   "cell_type": "code",
   "execution_count": 3,
   "metadata": {
    "colab": {
     "base_uri": "https://localhost:8080/"
    },
    "id": "z0Kfrag8xbgT",
    "outputId": "e4a71ba7-255d-4153-8f07-da2e565b8da3"
   },
   "outputs": [
    {
     "name": "stdout",
     "output_type": "stream",
     "text": [
      "Mounted at /content/drive\n"
     ]
    }
   ],
   "source": [
    "from google.colab import drive\n",
    "drive.mount('/content/drive', force_remount=True)"
   ]
  },
  {
   "cell_type": "code",
   "execution_count": 5,
   "metadata": {
    "id": "05t5JGOlwLec"
   },
   "outputs": [],
   "source": [
    "import time\n",
    "import warnings\n",
    "warnings.filterwarnings(\"ignore\")\n",
    "path = \"drive/MyDrive/Booking challenge/\""
   ]
  },
  {
   "cell_type": "code",
   "execution_count": 7,
   "metadata": {
    "id": "Q3rtmBzVwLec"
   },
   "outputs": [],
   "source": [
    "from numpy import savez_compressed, load\n",
    "import random\n",
    "def getData(filename1, filename3, batch_size=512, skip=0.2, train=True):\n",
    "    #initiate a batch count for each size of trips\n",
    "    batch_count = {k: 0 for k in range(50)}\n",
    "    inputs = {k: [] for k in range(50)}\n",
    "    targets = {k: [] for k in range(50)}\n",
    "    while True:\n",
    "        #load files\n",
    "        trip_sequences = load(filename1, allow_pickle=True)[\"arr_0\"]\n",
    "        predictions = load(filename3, allow_pickle=True)[\"arr_0\"]\n",
    "\n",
    "        predictions = np.array(predictions, dtype=\"int32\")\n",
    "        \n",
    "        for i in range(len(trip_sequences)):\n",
    "          \n",
    "            #consider trip i\n",
    "            trip_sequence = trip_sequences[i]\n",
    "            prediction = predictions[i]\n",
    "            len_trip = len(trip_sequence)\n",
    "            \n",
    "            \n",
    "            #add info to corresponding  size\n",
    "            inputs[len_trip].append([trip_sequence])\n",
    "            targets[len_trip].append(prediction)\n",
    "            batch_count[len_trip] += 1\n",
    "            \n",
    "            if batch_count[len_trip] == batch_size:\n",
    "                X_trip = np.array([t[0] for t in inputs[len_trip]], dtype='float32')\n",
    "                y = np.array(targets[len_trip]).reshape(batch_size,)\n",
    "                #yield the data to feed the \n",
    "                yield X_trip, y\n",
    "                inputs[len_trip] = []\n",
    "                targets[len_trip] = []\n",
    "                batch_count[len_trip] = 0\n",
    "               \n",
    "               "
   ]
  },
  {
   "cell_type": "code",
   "execution_count": 8,
   "metadata": {
    "id": "NwKQcslfZgAv"
   },
   "outputs": [],
   "source": [
    "from numpy import savez_compressed, load\n",
    "import random\n",
    "def getData_2(filename1, filename2, filename3, batch_size=512, skip=0.2, train=True):\n",
    "    #initiate a batch count for each size of trips\n",
    "    batch_count = {k: 0 for k in range(50)}\n",
    "    inputs = {k: [] for k in range(50)}\n",
    "    targets = {k: [] for k in range(50)}\n",
    "    while True:\n",
    "        #load files\n",
    "        trip_sequences = load(filename1, allow_pickle=True)[\"arr_0\"]\n",
    "        trip_infos = load(filename2, allow_pickle=True)[\"arr_0\"]\n",
    "        predictions = load(filename3, allow_pickle=True)[\"arr_0\"]\n",
    "        predictions = np.array(predictions, dtype=\"int32\")\n",
    "        \n",
    "        for i in range(len(trip_sequences)):\n",
    "          \n",
    "            #consider trip i\n",
    "            trip_sequence = trip_sequences[i]\n",
    "            trip_info = trip_infos[i]\n",
    "            prediction = predictions[i]\n",
    "            len_trip = len(trip_sequence)\n",
    "            \n",
    "            \n",
    "            #add info to corresponding  size\n",
    "            inputs[len_trip].append([trip_sequence, trip_info])\n",
    "            targets[len_trip].append(prediction)\n",
    "            batch_count[len_trip] += 1\n",
    "            \n",
    "            if batch_count[len_trip] == batch_size:\n",
    "                X_trip = np.array([t[0] for t in inputs[len_trip]], dtype='float32')\n",
    "                X_info = np.array([t[1] for t in inputs[len_trip]], dtype='float32')\n",
    "                y = np.array(targets[len_trip]).reshape(batch_size,)\n",
    "                #yield the data to feed the \n",
    "                yield [X_trip, X_info], y\n",
    "                inputs[len_trip] = []\n",
    "                targets[len_trip] = []\n",
    "                batch_count[len_trip] = 0\n",
    "               \n",
    "               "
   ]
  },
  {
   "cell_type": "code",
   "execution_count": 9,
   "metadata": {
    "id": "FySk0P5WwLed"
   },
   "outputs": [],
   "source": [
    "from tensorflow.keras.models import Sequential, Model\n",
    "from tensorflow.keras.layers import Dense, Embedding, LSTM, Dropout, concatenate, Input, TimeDistributed, Layer, Bidirectional, Softmax, Multiply, Lambda, GRU, BatchNormalization, SimpleRNN\n",
    "from tensorflow.keras.regularizers import L2\n",
    "from tensorflow.keras import activations\n",
    "import tensorflow.keras.backend as K\n",
    "from tensorflow.keras.metrics import sparse_top_k_categorical_accuracy\n",
    "import tensorflow as tf"
   ]
  },
  {
   "cell_type": "code",
   "execution_count": 10,
   "metadata": {
    "id": "tnudDFO0wLed"
   },
   "outputs": [],
   "source": [
    "def create_model(l2=0.0001, embedding_size=100, num_cities=39901, dropout=0.5, recurrent_layer=SimpleRNN, rnn_units=100):\n",
    "  trips_sequences_input = Input(shape=(None,)) \n",
    "  reg=L2(l2=l2)\n",
    "\n",
    "  #First RNN on cities with Embeddings\n",
    "  emb_layer = Embedding(output_dim=embedding_size, input_dim=num_cities, input_length=None,\n",
    "                      mask_zero=False, name=\"city_embeddings\")\n",
    "\n",
    "  emb_cities = emb_layer(trips_sequences_input) \n",
    "  lstm_cities_1 = recurrent_layer(rnn_units, dropout=dropout, return_sequences=True,\n",
    "                    kernel_regularizer=reg)(emb_cities)\n",
    "  \n",
    "\n",
    "  lstm_cities_2 = recurrent_layer(rnn_units, dropout=dropout, return_sequences=False,\n",
    "                  kernel_regularizer=reg)(lstm_cities_1)\n",
    "\n",
    "\n",
    "  \n",
    "  norm = BatchNormalization()(lstm_cities_2)\n",
    "  output = Dense(num_cities, activation='softmax')(norm) \n",
    "  model = Model(inputs=[trips_sequences_input], outputs=[output])\n",
    "\n",
    "\n",
    "  \n",
    "  return model\n"
   ]
  },
  {
   "cell_type": "code",
   "execution_count": 11,
   "metadata": {
    "id": "Ze60DKdjPwky"
   },
   "outputs": [],
   "source": [
    "def create_model_v2(l2=0.0001, embedding_size=300, num_cities=39901, dropout=0.5, recurrent_layer=SimpleRNN, rnn_units=100, info_features_length=4):\n",
    "  trips_sequences_input = Input(shape=(None,))\n",
    "  info_input = Input(shape=(info_features_length)) \n",
    "  reg=L2(l2=l2)\n",
    "\n",
    "  #First RNN on cities with Embeddings\n",
    "  emb_layer = Embedding(output_dim=embedding_size, input_dim=num_cities, input_length=None,\n",
    "                      mask_zero=False, name=\"city_embeddings\")\n",
    "\n",
    "  emb_cities = emb_layer(trips_sequences_input) \n",
    "  lstm_cities_1 = recurrent_layer(100, dropout=dropout, return_sequences=True,\n",
    "                    kernel_regularizer=reg)(emb_cities)\n",
    "  \n",
    "\n",
    "  lstm_cities_2 = recurrent_layer(100, dropout=dropout, return_sequences=False,\n",
    "                  kernel_regularizer=reg)(lstm_cities_1)\n",
    "\n",
    "\n",
    "  \n",
    "  norm = BatchNormalization()(lstm_cities_2)\n",
    "  concat = concatenate([norm, info_input]) \n",
    "  output = Dense(num_cities, activation='softmax')(concat) \n",
    "  model = Model(inputs=[trips_sequences_input, info_input], outputs=[output])\n",
    "\n",
    "\n",
    "  \n",
    "  return model\n"
   ]
  },
  {
   "cell_type": "code",
   "execution_count": 16,
   "metadata": {
    "id": "UEXQprYipNyG"
   },
   "outputs": [],
   "source": [
    "baseline_model = create_model(recurrent_layer=GRU, rnn_units=100, embedding_size=300)\n",
    "complete_model = create_model_v2(recurrent_layer=GRU, embedding_size=300)\n",
    "\n",
    "all_models = [baseline_model, complete_model]"
   ]
  },
  {
   "cell_type": "code",
   "execution_count": 17,
   "metadata": {
    "id": "1T9wLhHDwLef"
   },
   "outputs": [],
   "source": [
    "def compile_model(model, learning_rate=0.00003, batch_size=256):\n",
    "\n",
    "  optimizer = tf.keras.optimizers.Adam(learning_rate=learning_rate, clipvalue=.25)\n",
    "  model.compile(optimizer=optimizer,\n",
    "              loss=\"sparse_categorical_crossentropy\",        \n",
    "              metrics=['sparse_top_k_categorical_accuracy'])\n",
    "\n",
    "  "
   ]
  },
  {
   "cell_type": "code",
   "execution_count": 18,
   "metadata": {
    "id": "eaBGcZvTqRqB"
   },
   "outputs": [],
   "source": [
    "for model in all_models:\n",
    "  compile_model(model)"
   ]
  },
  {
   "cell_type": "code",
   "execution_count": 19,
   "metadata": {
    "colab": {
     "base_uri": "https://localhost:8080/"
    },
    "id": "0nBBvPJ-wLef",
    "outputId": "2634df9e-31f8-4149-af9e-6b86aa5f35cf"
   },
   "outputs": [
    {
     "name": "stdout",
     "output_type": "stream",
     "text": [
      "\n",
      "Beginning Training model 1\n",
      "---------------\n",
      "\n",
      "Epoch 1/30\n",
      "4912/4912 [==============================] - 380s 77ms/step - loss: 9.7308 - sparse_top_k_categorical_accuracy: 0.0789 - val_loss: 7.1709 - val_sparse_top_k_categorical_accuracy: 0.2405\n",
      "Epoch 2/30\n",
      "4912/4912 [==============================] - 380s 77ms/step - loss: 6.7967 - sparse_top_k_categorical_accuracy: 0.1917 - val_loss: 6.1288 - val_sparse_top_k_categorical_accuracy: 0.3328\n",
      "Epoch 3/30\n",
      "4912/4912 [==============================] - 378s 77ms/step - loss: 6.0220 - sparse_top_k_categorical_accuracy: 0.2565 - val_loss: 5.6870 - val_sparse_top_k_categorical_accuracy: 0.3843\n",
      "Epoch 4/30\n",
      "4912/4912 [==============================] - 376s 77ms/step - loss: 5.6040 - sparse_top_k_categorical_accuracy: 0.2980 - val_loss: 5.4331 - val_sparse_top_k_categorical_accuracy: 0.4028\n",
      "Epoch 5/30\n",
      "4912/4912 [==============================] - 376s 77ms/step - loss: 5.2965 - sparse_top_k_categorical_accuracy: 0.3280 - val_loss: 5.2425 - val_sparse_top_k_categorical_accuracy: 0.4158\n",
      "Epoch 6/30\n",
      "4912/4912 [==============================] - 377s 77ms/step - loss: 5.0556 - sparse_top_k_categorical_accuracy: 0.3529 - val_loss: 5.0904 - val_sparse_top_k_categorical_accuracy: 0.4305\n",
      "Epoch 7/30\n",
      "4912/4912 [==============================] - 376s 77ms/step - loss: 4.8636 - sparse_top_k_categorical_accuracy: 0.3737 - val_loss: 4.9736 - val_sparse_top_k_categorical_accuracy: 0.4413\n",
      "Epoch 8/30\n",
      "4912/4912 [==============================] - 377s 77ms/step - loss: 4.7026 - sparse_top_k_categorical_accuracy: 0.3911 - val_loss: 4.8792 - val_sparse_top_k_categorical_accuracy: 0.4504\n",
      "Epoch 9/30\n",
      "4912/4912 [==============================] - 377s 77ms/step - loss: 4.5721 - sparse_top_k_categorical_accuracy: 0.4054 - val_loss: 4.8269 - val_sparse_top_k_categorical_accuracy: 0.4561\n",
      "Epoch 10/30\n",
      "4912/4912 [==============================] - 375s 76ms/step - loss: 4.4505 - sparse_top_k_categorical_accuracy: 0.4197 - val_loss: 4.7846 - val_sparse_top_k_categorical_accuracy: 0.4597\n",
      "Epoch 11/30\n",
      "4912/4912 [==============================] - 376s 77ms/step - loss: 4.3589 - sparse_top_k_categorical_accuracy: 0.4296 - val_loss: 4.7382 - val_sparse_top_k_categorical_accuracy: 0.4638\n",
      "Epoch 12/30\n",
      "4912/4912 [==============================] - 375s 76ms/step - loss: 4.2691 - sparse_top_k_categorical_accuracy: 0.4403 - val_loss: 4.7250 - val_sparse_top_k_categorical_accuracy: 0.4639\n",
      "Epoch 13/30\n",
      "4912/4912 [==============================] - 375s 76ms/step - loss: 4.1947 - sparse_top_k_categorical_accuracy: 0.4497 - val_loss: 4.6854 - val_sparse_top_k_categorical_accuracy: 0.4671\n",
      "Epoch 14/30\n",
      "4912/4912 [==============================] - 376s 76ms/step - loss: 4.1247 - sparse_top_k_categorical_accuracy: 0.4588 - val_loss: 4.6857 - val_sparse_top_k_categorical_accuracy: 0.4647\n",
      "Epoch 15/30\n",
      "4912/4912 [==============================] - 377s 77ms/step - loss: 4.0625 - sparse_top_k_categorical_accuracy: 0.4661 - val_loss: 4.6819 - val_sparse_top_k_categorical_accuracy: 0.4642\n",
      "Epoch 16/30\n",
      "4912/4912 [==============================] - 377s 77ms/step - loss: 4.0056 - sparse_top_k_categorical_accuracy: 0.4738 - val_loss: 4.6614 - val_sparse_top_k_categorical_accuracy: 0.4688\n",
      "Epoch 17/30\n",
      "4912/4912 [==============================] - 376s 76ms/step - loss: 3.9552 - sparse_top_k_categorical_accuracy: 0.4810 - val_loss: 4.6663 - val_sparse_top_k_categorical_accuracy: 0.4659\n",
      "Epoch 18/30\n",
      "4912/4912 [==============================] - 377s 77ms/step - loss: 3.9049 - sparse_top_k_categorical_accuracy: 0.4871 - val_loss: 4.6705 - val_sparse_top_k_categorical_accuracy: 0.4671\n",
      "Epoch 19/30\n",
      "4912/4912 [==============================] - 376s 77ms/step - loss: 3.8592 - sparse_top_k_categorical_accuracy: 0.4941 - val_loss: 4.6854 - val_sparse_top_k_categorical_accuracy: 0.4659\n",
      "Epoch 20/30\n",
      "4912/4912 [==============================] - 377s 77ms/step - loss: 3.8158 - sparse_top_k_categorical_accuracy: 0.5009 - val_loss: 4.6729 - val_sparse_top_k_categorical_accuracy: 0.4674\n",
      "Epoch 21/30\n",
      "4912/4912 [==============================] - 377s 77ms/step - loss: 3.7793 - sparse_top_k_categorical_accuracy: 0.5055 - val_loss: 4.6676 - val_sparse_top_k_categorical_accuracy: 0.4711\n",
      "Epoch 22/30\n",
      "4912/4912 [==============================] - 376s 77ms/step - loss: 3.7362 - sparse_top_k_categorical_accuracy: 0.5125 - val_loss: 4.6759 - val_sparse_top_k_categorical_accuracy: 0.4690\n",
      "Epoch 23/30\n",
      "4912/4912 [==============================] - 377s 77ms/step - loss: 3.7032 - sparse_top_k_categorical_accuracy: 0.5170 - val_loss: 4.6818 - val_sparse_top_k_categorical_accuracy: 0.4720\n",
      "Epoch 24/30\n",
      "4912/4912 [==============================] - 378s 77ms/step - loss: 3.6638 - sparse_top_k_categorical_accuracy: 0.5238 - val_loss: 4.6781 - val_sparse_top_k_categorical_accuracy: 0.4699\n",
      "Epoch 25/30\n",
      "4912/4912 [==============================] - 378s 77ms/step - loss: 3.6388 - sparse_top_k_categorical_accuracy: 0.5272 - val_loss: 4.6875 - val_sparse_top_k_categorical_accuracy: 0.4728\n",
      "Epoch 26/30\n",
      "4912/4912 [==============================] - 379s 77ms/step - loss: 3.6053 - sparse_top_k_categorical_accuracy: 0.5326 - val_loss: 4.6882 - val_sparse_top_k_categorical_accuracy: 0.4743\n",
      "Epoch 27/30\n",
      "4912/4912 [==============================] - 377s 77ms/step - loss: 3.5710 - sparse_top_k_categorical_accuracy: 0.5375 - val_loss: 4.7181 - val_sparse_top_k_categorical_accuracy: 0.4698\n",
      "Epoch 28/30\n",
      "4912/4912 [==============================] - 377s 77ms/step - loss: 3.5455 - sparse_top_k_categorical_accuracy: 0.5429 - val_loss: 4.7218 - val_sparse_top_k_categorical_accuracy: 0.4689\n",
      "Epoch 29/30\n",
      "4912/4912 [==============================] - 377s 77ms/step - loss: 3.5168 - sparse_top_k_categorical_accuracy: 0.5466 - val_loss: 4.7316 - val_sparse_top_k_categorical_accuracy: 0.4722\n",
      "Epoch 30/30\n",
      "4912/4912 [==============================] - 378s 77ms/step - loss: 3.4880 - sparse_top_k_categorical_accuracy: 0.5512 - val_loss: 4.7297 - val_sparse_top_k_categorical_accuracy: 0.4707\n",
      "\n",
      "Beginning Training model 2\n",
      "---------------\n",
      "\n",
      "Epoch 1/30\n",
      "4912/4912 [==============================] - 385s 78ms/step - loss: 9.6771 - sparse_top_k_categorical_accuracy: 0.0817 - val_loss: 7.1196 - val_sparse_top_k_categorical_accuracy: 0.2275\n",
      "Epoch 2/30\n",
      "4912/4912 [==============================] - 379s 77ms/step - loss: 6.8323 - sparse_top_k_categorical_accuracy: 0.1754 - val_loss: 6.2682 - val_sparse_top_k_categorical_accuracy: 0.3082\n",
      "Epoch 3/30\n",
      "4912/4912 [==============================] - 380s 77ms/step - loss: 6.1643 - sparse_top_k_categorical_accuracy: 0.2320 - val_loss: 5.8316 - val_sparse_top_k_categorical_accuracy: 0.3609\n",
      "Epoch 4/30\n",
      "4912/4912 [==============================] - 380s 77ms/step - loss: 5.7424 - sparse_top_k_categorical_accuracy: 0.2771 - val_loss: 5.5555 - val_sparse_top_k_categorical_accuracy: 0.3852\n",
      "Epoch 5/30\n",
      "4912/4912 [==============================] - 380s 77ms/step - loss: 5.4188 - sparse_top_k_categorical_accuracy: 0.3118 - val_loss: 5.3546 - val_sparse_top_k_categorical_accuracy: 0.4047\n",
      "Epoch 6/30\n",
      "4912/4912 [==============================] - 384s 78ms/step - loss: 5.1612 - sparse_top_k_categorical_accuracy: 0.3397 - val_loss: 5.1940 - val_sparse_top_k_categorical_accuracy: 0.4213\n",
      "Epoch 7/30\n",
      "4912/4912 [==============================] - 383s 78ms/step - loss: 4.9496 - sparse_top_k_categorical_accuracy: 0.3624 - val_loss: 5.0728 - val_sparse_top_k_categorical_accuracy: 0.4333\n",
      "Epoch 8/30\n",
      "4912/4912 [==============================] - 381s 78ms/step - loss: 4.7885 - sparse_top_k_categorical_accuracy: 0.3780 - val_loss: 4.9699 - val_sparse_top_k_categorical_accuracy: 0.4425\n",
      "Epoch 9/30\n",
      "4912/4912 [==============================] - 380s 77ms/step - loss: 4.6477 - sparse_top_k_categorical_accuracy: 0.3926 - val_loss: 4.9075 - val_sparse_top_k_categorical_accuracy: 0.4444\n",
      "Epoch 10/30\n",
      "4912/4912 [==============================] - 381s 78ms/step - loss: 4.5302 - sparse_top_k_categorical_accuracy: 0.4052 - val_loss: 4.8488 - val_sparse_top_k_categorical_accuracy: 0.4492\n",
      "Epoch 11/30\n",
      "4912/4912 [==============================] - 382s 78ms/step - loss: 4.4296 - sparse_top_k_categorical_accuracy: 0.4162 - val_loss: 4.8021 - val_sparse_top_k_categorical_accuracy: 0.4530\n",
      "Epoch 12/30\n",
      "4912/4912 [==============================] - 381s 77ms/step - loss: 4.3358 - sparse_top_k_categorical_accuracy: 0.4279 - val_loss: 4.7732 - val_sparse_top_k_categorical_accuracy: 0.4557\n",
      "Epoch 13/30\n",
      "4912/4912 [==============================] - 382s 78ms/step - loss: 4.2562 - sparse_top_k_categorical_accuracy: 0.4376 - val_loss: 4.7280 - val_sparse_top_k_categorical_accuracy: 0.4600\n",
      "Epoch 14/30\n",
      "4912/4912 [==============================] - 382s 78ms/step - loss: 4.1905 - sparse_top_k_categorical_accuracy: 0.4461 - val_loss: 4.7264 - val_sparse_top_k_categorical_accuracy: 0.4592\n",
      "Epoch 15/30\n",
      "4912/4912 [==============================] - 382s 78ms/step - loss: 4.1244 - sparse_top_k_categorical_accuracy: 0.4550 - val_loss: 4.7112 - val_sparse_top_k_categorical_accuracy: 0.4607\n",
      "Epoch 16/30\n",
      "4912/4912 [==============================] - 383s 78ms/step - loss: 4.0626 - sparse_top_k_categorical_accuracy: 0.4626 - val_loss: 4.6891 - val_sparse_top_k_categorical_accuracy: 0.4644\n",
      "Epoch 17/30\n",
      "4912/4912 [==============================] - 382s 78ms/step - loss: 4.0099 - sparse_top_k_categorical_accuracy: 0.4701 - val_loss: 4.6895 - val_sparse_top_k_categorical_accuracy: 0.4596\n",
      "Epoch 18/30\n",
      "4912/4912 [==============================] - 381s 78ms/step - loss: 3.9595 - sparse_top_k_categorical_accuracy: 0.4768 - val_loss: 4.6835 - val_sparse_top_k_categorical_accuracy: 0.4648\n",
      "Epoch 19/30\n",
      "4912/4912 [==============================] - 381s 78ms/step - loss: 3.9120 - sparse_top_k_categorical_accuracy: 0.4836 - val_loss: 4.7049 - val_sparse_top_k_categorical_accuracy: 0.4648\n",
      "Epoch 20/30\n",
      "4912/4912 [==============================] - 383s 78ms/step - loss: 3.8671 - sparse_top_k_categorical_accuracy: 0.4901 - val_loss: 4.6782 - val_sparse_top_k_categorical_accuracy: 0.4670\n",
      "Epoch 21/30\n",
      "4912/4912 [==============================] - 383s 78ms/step - loss: 3.8258 - sparse_top_k_categorical_accuracy: 0.4960 - val_loss: 4.6725 - val_sparse_top_k_categorical_accuracy: 0.4689\n",
      "Epoch 22/30\n",
      "4912/4912 [==============================] - 382s 78ms/step - loss: 3.7856 - sparse_top_k_categorical_accuracy: 0.5020 - val_loss: 4.6783 - val_sparse_top_k_categorical_accuracy: 0.4672\n",
      "Epoch 23/30\n",
      "4912/4912 [==============================] - 384s 78ms/step - loss: 3.7512 - sparse_top_k_categorical_accuracy: 0.5069 - val_loss: 4.6743 - val_sparse_top_k_categorical_accuracy: 0.4706\n",
      "Epoch 24/30\n",
      "4912/4912 [==============================] - 385s 78ms/step - loss: 3.7092 - sparse_top_k_categorical_accuracy: 0.5132 - val_loss: 4.6624 - val_sparse_top_k_categorical_accuracy: 0.4681\n",
      "Epoch 25/30\n",
      "4912/4912 [==============================] - 383s 78ms/step - loss: 3.6818 - sparse_top_k_categorical_accuracy: 0.5175 - val_loss: 4.6830 - val_sparse_top_k_categorical_accuracy: 0.4693\n",
      "Epoch 26/30\n",
      "4912/4912 [==============================] - 383s 78ms/step - loss: 3.6492 - sparse_top_k_categorical_accuracy: 0.5225 - val_loss: 4.6796 - val_sparse_top_k_categorical_accuracy: 0.4752\n",
      "Epoch 27/30\n",
      "4912/4912 [==============================] - 387s 79ms/step - loss: 3.6203 - sparse_top_k_categorical_accuracy: 0.5275 - val_loss: 4.7091 - val_sparse_top_k_categorical_accuracy: 0.4715\n",
      "Epoch 28/30\n",
      "4912/4912 [==============================] - 385s 78ms/step - loss: 3.5841 - sparse_top_k_categorical_accuracy: 0.5332 - val_loss: 4.7054 - val_sparse_top_k_categorical_accuracy: 0.4679\n",
      "Epoch 29/30\n",
      "4912/4912 [==============================] - 384s 78ms/step - loss: 3.5615 - sparse_top_k_categorical_accuracy: 0.5369 - val_loss: 4.7134 - val_sparse_top_k_categorical_accuracy: 0.4707\n",
      "Epoch 30/30\n",
      "4912/4912 [==============================] - 385s 78ms/step - loss: 3.5265 - sparse_top_k_categorical_accuracy: 0.5423 - val_loss: 4.7161 - val_sparse_top_k_categorical_accuracy: 0.4691\n"
     ]
    }
   ],
   "source": [
    "num_train_samples = 1257599\n",
    "num_val_samples = 17913\n",
    "batch_size = 256\n",
    "n_epochs = 30\n",
    "training_performance = []\n",
    "for i, model in enumerate(all_models):\n",
    "  print(f\"\\nBeginning Training model {i+1}\\n---------------\\n\")\n",
    "\n",
    "  if i == 0:\n",
    "    train_generator = getData(path+\"X_trip_new.npz\",\n",
    "                          path+\"y_new.npz\", batch_size=batch_size) \n",
    "\n",
    "\n",
    "    val_generator = getData(path+\"X_val_cities.npz\",\n",
    "                          path+\"y_val.npz\", batch_size=batch_size, train=False)\n",
    "  \n",
    "  else:\n",
    "    train_generator = getData_2(path+\"X_trip_new.npz\", path+\"X_info_new.npz\",\n",
    "                          path+\"y_new.npz\", batch_size=batch_size) \n",
    "\n",
    "    val_generator = getData_2(path+\"X_val_cities.npz\", path+\"X_val_info.npz\",\n",
    "                          path+\"y_val.npz\", batch_size=batch_size, train=False)\n",
    "\n",
    "  history = model.fit(train_generator,\n",
    "        steps_per_epoch=num_train_samples // batch_size,\n",
    "        epochs=n_epochs,\n",
    "        validation_data=val_generator,\n",
    "        validation_steps=num_val_samples // batch_size,\n",
    "                    batch_size=batch_size)\n",
    "\n",
    "  training_performance.append(history)\n",
    "            "
   ]
  },
  {
   "cell_type": "code",
   "execution_count": 20,
   "metadata": {
    "colab": {
     "base_uri": "https://localhost:8080/",
     "height": 1000
    },
    "id": "7OqAi7f9xzT4",
    "outputId": "bfe755ba-128c-4441-d45e-63b7c44a75b1"
   },
   "outputs": [
    {
     "data": {
      "image/png": "[encoded data removed]",
      "text/plain": [
       "<Figure size 864x576 with 1 Axes>"
      ]
     },
     "metadata": {
      "needs_background": "light",
      "tags": []
     },
     "output_type": "display_data"
    },
    {
     "data": {
      "image/png": "[encoded data removed]",
      "text/plain": [
       "<Figure size 864x576 with 1 Axes>"
      ]
     },
     "metadata": {
      "needs_background": "light",
      "tags": []
     },
     "output_type": "display_data"
    }
   ],
   "source": [
    "import matplotlib.pyplot as plt\n",
    "# summarize history for accuracy\n",
    "plt.figure(figsize=(12,8))\n",
    "for i, history in enumerate(training_performance):\n",
    "  #plt.plot(history.history['sparse_top_k_categorical_accuracy'])\n",
    "  plt.plot(history.history['val_sparse_top_k_categorical_accuracy'])\n",
    "plt.title('models accuracy')\n",
    "plt.ylabel('top4 accuracy')\n",
    "plt.xlabel('epoch')\n",
    "plt.legend(['N2', 'improved_model'], loc='upper left')\n",
    "plt.show()\n",
    "\n",
    "plt.figure(figsize=(12,8))\n",
    "for i, history in enumerate(training_performance):\n",
    "  #plt.plot(history.history['loss'])\n",
    "  plt.plot(history.history['val_loss'])\n",
    "plt.title('models loss')\n",
    "plt.ylabel('loss')\n",
    "plt.xlabel('epoch')\n",
    "plt.legend(['N2', 'improved_model'], loc='upper left')\n",
    "plt.show()\n"
   ]
  },
  {
   "cell_type": "code",
   "execution_count": null,
   "metadata": {
    "id": "b0_lOYg3Jxnr"
   },
   "outputs": [],
   "source": []
  }
 ],
 "metadata": {
  "accelerator": "GPU",
  "colab": {
   "collapsed_sections": [],
   "machine_shape": "hm",
   "name": "Compare N2' and F.ipynb",
   "provenance": []
  },
  "kernelspec": {
   "display_name": "Python 3",
   "language": "python",
   "name": "python3"
  },
  "language_info": {
   "codemirror_mode": {
    "name": "ipython",
    "version": 3
   },
   "file_extension": ".py",
   "mimetype": "text/x-python",
   "name": "python",
   "nbconvert_exporter": "python",
   "pygments_lexer": "ipython3",
   "version": "3.8.5"
  }
 },
 "nbformat": 4,
 "nbformat_minor": 1
}
