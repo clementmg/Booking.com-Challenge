{
 "cells": [
  {
   "cell_type": "code",
   "execution_count": 26,
   "metadata": {
    "id": "Xy94jpM4wLeW"
   },
   "outputs": [],
   "source": [
    "#imports\n",
    "import pandas as pd\n",
    "import numpy as np\n",
    "from datetime import datetime\n",
    "from statistics import mode\n",
    "import matplotlib.pyplot as plt\n",
    "import pickle\n",
    "from collections import Counter"
   ]
  },
  {
   "cell_type": "code",
   "execution_count": 28,
   "metadata": {
    "colab": {
     "base_uri": "https://localhost:8080/"
    },
    "id": "z0Kfrag8xbgT",
    "outputId": "dbe5e9b2-047f-462b-ebd6-dff74416cfba"
   },
   "outputs": [
    {
     "name": "stdout",
     "output_type": "stream",
     "text": [
      "Mounted at /content/drive\n"
     ]
    }
   ],
   "source": [
    "from google.colab import drive\n",
    "drive.mount('/content/drive', force_remount=True)"
   ]
  },
  {
   "cell_type": "code",
   "execution_count": 29,
   "metadata": {
    "id": "05t5JGOlwLec"
   },
   "outputs": [],
   "source": [
    "import time\n",
    "import warnings\n",
    "warnings.filterwarnings(\"ignore\")\n",
    "path = \"drive/MyDrive/Booking challenge/\""
   ]
  },
  {
   "cell_type": "code",
   "execution_count": 30,
   "metadata": {
    "id": "EcfN9LKtuK8X"
   },
   "outputs": [],
   "source": [
    "def drop_timesteps(t, len_trip, proportion=4):\n",
    "    max_id_to_drop = len(t) // proportion\n",
    "    n = int(max_id_to_drop * pow(np.random.rand(), 0.3)) + 1 #random number of indexes to drop\n",
    "    for i in range(n):\n",
    "        to_skip = int(len_trip * pow(np.random.rand(), 0.3)) #more likely to skip a step towrds the end to add confusion\n",
    "        t = np.delete(t, to_skip, axis=0)\n",
    "        len_trip -= 1 #one time step was removed, so the trip is 1 time step smaller\n",
    "        \n",
    "    return t, len_trip"
   ]
  },
  {
   "cell_type": "code",
   "execution_count": 31,
   "metadata": {
    "id": "Q3rtmBzVwLec"
   },
   "outputs": [],
   "source": [
    "from numpy import savez_compressed, load\n",
    "import random\n",
    "def getData(filename1, filename2, filename3, batch_size=512, skip=0.2, train=True):\n",
    "    #initiate a batch count for each size of trips\n",
    "    batch_count = {k: 0 for k in range(50)}\n",
    "    inputs = {k: [] for k in range(50)}\n",
    "    targets = {k: [] for k in range(50)}\n",
    "    while True:\n",
    "        #load files\n",
    "        trip_sequences = load(filename1, allow_pickle=True)[\"arr_0\"]\n",
    "        trip_infos = load(filename2, allow_pickle=True)[\"arr_0\"]\n",
    "        predictions = load(filename3, allow_pickle=True)[\"arr_0\"]\n",
    "        \n",
    "        if train:\n",
    "          random.seed()\n",
    "          #Shuffle\n",
    "          to_shuffle = list(zip(trip_sequences, trip_infos, predictions))\n",
    "          random.shuffle(to_shuffle)\n",
    "          trip_sequences, trip_infos, predictions = zip(*to_shuffle)\n",
    "\n",
    "        #trip_sequences = np.array(trip_sequences)\n",
    "        #trip_infos = np.array(trip_infos) \n",
    "        predictions = np.array(predictions, dtype=\"int32\")\n",
    "        \n",
    "        for i in range(len(trip_sequences)):\n",
    "          \n",
    "            #consider trip i\n",
    "            trip_sequence = trip_sequences[i]\n",
    "            trip_info = trip_infos[i]\n",
    "            prediction = predictions[i]\n",
    "            len_trip = len(trip_sequence)\n",
    "            \n",
    "            if (train) & (len_trip > 3):\n",
    "              #randomly skip one time step:\n",
    "              random.seed()\n",
    "              n = np.random.randint(100)\n",
    "              if n / 100 < skip:\n",
    "                #random step to skip:\n",
    "                trip_sequence, len_trip = drop_timesteps(trip_sequence, len_trip)\n",
    "            \n",
    "            #add info to corresponding  size\n",
    "            inputs[len_trip].append([trip_sequence, trip_info])\n",
    "            targets[len_trip].append(prediction)\n",
    "            batch_count[len_trip] += 1\n",
    "            \n",
    "            if batch_count[len_trip] == batch_size:\n",
    "                X_trip = np.array([t[0] for t in inputs[len_trip]], dtype='float32')\n",
    "                X_info = np.array([t[1] for t in inputs[len_trip]], dtype='float32')\n",
    "                y = np.array(targets[len_trip]).reshape(batch_size,)\n",
    "                #yield the data to feed the \n",
    "                yield [X_trip, X_info], y\n",
    "                inputs[len_trip] = []\n",
    "                targets[len_trip] = []\n",
    "                batch_count[len_trip] = 0\n",
    "               \n",
    "               "
   ]
  },
  {
   "cell_type": "code",
   "execution_count": 32,
   "metadata": {
    "id": "FySk0P5WwLed"
   },
   "outputs": [],
   "source": [
    "from tensorflow.keras.models import Sequential, Model\n",
    "from tensorflow.keras.layers import Dense, Embedding, LSTM, Dropout, concatenate, Input, TimeDistributed, Layer, Bidirectional, Softmax, Multiply, Lambda, GRU\n",
    "from tensorflow.keras.regularizers import L2\n",
    "from tensorflow.keras import activations\n",
    "import tensorflow.keras.backend as K"
   ]
  },
  {
   "cell_type": "code",
   "execution_count": 33,
   "metadata": {
    "id": "tnudDFO0wLed"
   },
   "outputs": [],
   "source": [
    "#Parameters\n",
    "reg = L2(l2=0.0001)\n",
    "embedding_size = 300\n",
    "num_cities = 39901\n",
    "info_features_length = 4\n",
    "dropout = 0.5\n",
    "\n",
    "trips_sequences_input = Input(shape=(None,)) \n",
    "info_input = Input(shape=(info_features_length))\n",
    "\n",
    "\n",
    "\n",
    "\n",
    "#First RNN on cities with Embeddings\n",
    "emb_layer = Embedding(output_dim=embedding_size, input_dim=num_cities, input_length=None,\n",
    "                      mask_zero=False, name=\"city_embeddings\")\n",
    "\n",
    "emb_cities = emb_layer(trips_sequences_input) \n",
    "lstm_cities_1 = GRU(100, dropout=dropout, return_sequences=True,\n",
    "                    kernel_regularizer=reg)(emb_cities)\n",
    "  \n",
    "\n",
    "lstm_cities_2 = GRU(100, dropout=dropout, return_sequences=True,\n",
    "                  kernel_regularizer=reg)(lstm_cities_1)\n",
    "\n",
    "\n",
    "#Add attention layer\n",
    "attention=TimeDistributed(Dense(1))(lstm_cities_2)\n",
    "attention=Softmax(axis=1)(attention)\n",
    "context=Multiply()([attention,lstm_cities_2])\n",
    "out=Lambda(lambda x: K.sum(x,axis=1))(context)    \n",
    "\n",
    "\n",
    "\n",
    "concat = concatenate([out, info_input]) \n",
    "\n",
    "\n",
    "#Combine two RNN with features\n",
    "#pre_output = Dense()\n",
    "output = Dense(num_cities, activation='softmax')(concat) \n",
    "\n",
    "\n",
    " \n",
    "model = Model(inputs=[trips_sequences_input, info_input], outputs=[output])\n"
   ]
  },
  {
   "cell_type": "code",
   "execution_count": 34,
   "metadata": {
    "colab": {
     "base_uri": "https://localhost:8080/"
    },
    "id": "Kfa3T9X-yteV",
    "outputId": "52b928fd-6ddf-4dbc-af33-d83204a9bb66"
   },
   "outputs": [
    {
     "name": "stdout",
     "output_type": "stream",
     "text": [
      "Model: \"model_2\"\n",
      "__________________________________________________________________________________________________\n",
      "Layer (type)                    Output Shape         Param #     Connected to                     \n",
      "==================================================================================================\n",
      "input_5 (InputLayer)            [(None, None)]       0                                            \n",
      "__________________________________________________________________________________________________\n",
      "city_embeddings (Embedding)     (None, None, 300)    11970300    input_5[0][0]                    \n",
      "__________________________________________________________________________________________________\n",
      "gru_4 (GRU)                     (None, None, 100)    120600      city_embeddings[0][0]            \n",
      "__________________________________________________________________________________________________\n",
      "gru_5 (GRU)                     (None, None, 100)    60600       gru_4[0][0]                      \n",
      "__________________________________________________________________________________________________\n",
      "time_distributed_2 (TimeDistrib (None, None, 1)      101         gru_5[0][0]                      \n",
      "__________________________________________________________________________________________________\n",
      "softmax_2 (Softmax)             (None, None, 1)      0           time_distributed_2[0][0]         \n",
      "__________________________________________________________________________________________________\n",
      "multiply_2 (Multiply)           (None, None, 100)    0           softmax_2[0][0]                  \n",
      "                                                                 gru_5[0][0]                      \n",
      "__________________________________________________________________________________________________\n",
      "lambda_2 (Lambda)               (None, 100)          0           multiply_2[0][0]                 \n",
      "__________________________________________________________________________________________________\n",
      "input_6 (InputLayer)            [(None, 4)]          0                                            \n",
      "__________________________________________________________________________________________________\n",
      "concatenate_2 (Concatenate)     (None, 104)          0           lambda_2[0][0]                   \n",
      "                                                                 input_6[0][0]                    \n",
      "__________________________________________________________________________________________________\n",
      "dense_5 (Dense)                 (None, 39901)        4189605     concatenate_2[0][0]              \n",
      "==================================================================================================\n",
      "Total params: 16,341,206\n",
      "Trainable params: 16,341,206\n",
      "Non-trainable params: 0\n",
      "__________________________________________________________________________________________________\n"
     ]
    }
   ],
   "source": [
    "model.summary()"
   ]
  },
  {
   "cell_type": "code",
   "execution_count": 35,
   "metadata": {
    "id": "GwvML5oFwLef"
   },
   "outputs": [],
   "source": [
    "import tensorflow.keras.backend as K\n",
    "import tensorflow as tf\n",
    "def custom_loss(model=model, embed_dim=embedding_size, alpha=3, batch_size=512):\n",
    "\n",
    "    def loss(y_true, y_pred, alpha=alpha):\n",
    "        \"\"\"\n",
    "        This custom loss has an objective of tying embeddings weights to the usual sparse loss.\n",
    "        \"\"\"\n",
    "        #Normal pred error, shape (batch,)\n",
    "        pred_error = K.sparse_categorical_crossentropy(y_true, y_pred)\n",
    "\n",
    "        #retrieve learned embeddings, shape (Vocab, embed_size)\n",
    "        embed_matrix = model.get_layer(\"city_embeddings\").weights[0]\n",
    "\n",
    "        #calculate the predicted embedding, (batch,Vocab) x (Vocab, embed size) \n",
    "        predicted_embedding = tf.matmul(y_pred, embed_matrix, transpose_a=False, transpose_b=False)        \n",
    "        #predicted embedding is a vector (batch, embeddsize)\n",
    "        \n",
    "        #retrieve embedding vector of pred, shape (batch_size, 1, embed_size)\n",
    "        actual_embedding = tf.gather(embed_matrix, y_true)\n",
    "        actual_embedding = K.reshape(actual_embedding, (batch_size,embed_dim))\n",
    "        \n",
    "        #calculate divergence or cosine?\n",
    "        kull_divergence = tf.keras.losses.kullback_leibler_divergence(predicted_embedding, actual_embedding)\n",
    "        #cosine_error = tf.keras.losses.cosine_similarity(predicted_embedding, actual_embedding)\n",
    "\n",
    "        return pred_error + (alpha * kull_divergence)\n",
    "    \n",
    "    return loss"
   ]
  },
  {
   "cell_type": "code",
   "execution_count": 36,
   "metadata": {
    "id": "1T9wLhHDwLef"
   },
   "outputs": [],
   "source": [
    "from tensorflow.keras.metrics import sparse_top_k_categorical_accuracy\n",
    "learning_rate = 0.0003\n",
    "batch_size = 512\n",
    "optimizer = tf.keras.optimizers.Adam(learning_rate=learning_rate, clipvalue=.25)\n",
    "model.compile(optimizer=optimizer,\n",
    "              loss=\"sparse_categorical_crossentropy\",        #custom_loss(model, embedding_size, 1, batch_size), # Call the loss function with the model\n",
    "              metrics=['sparse_top_k_categorical_accuracy'])\n",
    "\n",
    "\n",
    "\n",
    "from tensorflow.keras.callbacks import ModelCheckpoint\n",
    "filepath=path+\"improvement-{epoch:02d}-{val_sparse_top_k_categorical_accuracy:.2f}.hdf5\"\n",
    "checkpoint = ModelCheckpoint(filepath, monitor='val_sparse_top_k_categorical_accuracy', verbose=1, save_best_only=True, mode='max')\n",
    "callbacks_list = [checkpoint]"
   ]
  },
  {
   "cell_type": "code",
   "execution_count": 37,
   "metadata": {
    "id": "0nBBvPJ-wLef"
   },
   "outputs": [],
   "source": [
    "num_train_samples = 1257599\n",
    "num_val_samples = 17913\n",
    "\n",
    "\n",
    "\n",
    "train_generator = getData(path+\"X_trip_new.npz\", path+\"X_info_new.npz\",\n",
    "                          path+\"y_new.npz\", batch_size=batch_size, skip=0.3) #30% to mask some timesteps if the trip longer than 3 destinations\n",
    "\n",
    "\n",
    "val_generator = getData(path+\"X_val_cities.npz\", path+\"X_val_info.npz\",\n",
    "                          path+\"y_val.npz\", batch_size=batch_size, train=False)"
   ]
  },
  {
   "cell_type": "code",
   "execution_count": 38,
   "metadata": {
    "colab": {
     "base_uri": "https://localhost:8080/"
    },
    "id": "UNn21cesdPJ4",
    "outputId": "e39a27a7-6418-4473-be34-ec696021dfaa"
   },
   "outputs": [
    {
     "name": "stdout",
     "output_type": "stream",
     "text": [
      "Epoch 1/30\n",
      "2456/2456 [==============================] - 247s 99ms/step - loss: 8.3077 - sparse_top_k_categorical_accuracy: 0.0528 - val_loss: 7.0118 - val_sparse_top_k_categorical_accuracy: 0.1870\n",
      "\n",
      "Epoch 00001: val_sparse_top_k_categorical_accuracy improved from -inf to 0.18704, saving model to drive/MyDrive/Booking challenge/improvement-01-0.19.hdf5\n",
      "Epoch 2/30\n",
      "2456/2456 [==============================] - 263s 107ms/step - loss: 6.6872 - sparse_top_k_categorical_accuracy: 0.1519 - val_loss: 6.0048 - val_sparse_top_k_categorical_accuracy: 0.3231\n",
      "\n",
      "Epoch 00002: val_sparse_top_k_categorical_accuracy improved from 0.18704 to 0.32307, saving model to drive/MyDrive/Booking challenge/improvement-02-0.32.hdf5\n",
      "Epoch 3/30\n",
      "2456/2456 [==============================] - 258s 105ms/step - loss: 5.7880 - sparse_top_k_categorical_accuracy: 0.2470 - val_loss: 5.5270 - val_sparse_top_k_categorical_accuracy: 0.3736\n",
      "\n",
      "Epoch 00003: val_sparse_top_k_categorical_accuracy improved from 0.32307 to 0.37362, saving model to drive/MyDrive/Booking challenge/improvement-03-0.37.hdf5\n",
      "Epoch 4/30\n",
      "2456/2456 [==============================] - 241s 98ms/step - loss: 5.2659 - sparse_top_k_categorical_accuracy: 0.3042 - val_loss: 5.1945 - val_sparse_top_k_categorical_accuracy: 0.4157\n",
      "\n",
      "Epoch 00004: val_sparse_top_k_categorical_accuracy improved from 0.37362 to 0.41567, saving model to drive/MyDrive/Booking challenge/improvement-04-0.42.hdf5\n",
      "Epoch 5/30\n",
      "2456/2456 [==============================] - 228s 93ms/step - loss: 4.8862 - sparse_top_k_categorical_accuracy: 0.3473 - val_loss: 5.0241 - val_sparse_top_k_categorical_accuracy: 0.4337\n",
      "\n",
      "Epoch 00005: val_sparse_top_k_categorical_accuracy improved from 0.41567 to 0.43365, saving model to drive/MyDrive/Booking challenge/improvement-05-0.43.hdf5\n",
      "Epoch 6/30\n",
      "2456/2456 [==============================] - 224s 91ms/step - loss: 4.6450 - sparse_top_k_categorical_accuracy: 0.3753 - val_loss: 4.9001 - val_sparse_top_k_categorical_accuracy: 0.4458\n",
      "\n",
      "Epoch 00006: val_sparse_top_k_categorical_accuracy improved from 0.43365 to 0.44577, saving model to drive/MyDrive/Booking challenge/improvement-06-0.45.hdf5\n",
      "Epoch 7/30\n",
      "2456/2456 [==============================] - 227s 92ms/step - loss: 4.4653 - sparse_top_k_categorical_accuracy: 0.3978 - val_loss: 4.8338 - val_sparse_top_k_categorical_accuracy: 0.4534\n",
      "\n",
      "Epoch 00007: val_sparse_top_k_categorical_accuracy improved from 0.44577 to 0.45335, saving model to drive/MyDrive/Booking challenge/improvement-07-0.45.hdf5\n",
      "Epoch 8/30\n",
      "2456/2456 [==============================] - 224s 91ms/step - loss: 4.3264 - sparse_top_k_categorical_accuracy: 0.4158 - val_loss: 4.7817 - val_sparse_top_k_categorical_accuracy: 0.4594\n",
      "\n",
      "Epoch 00008: val_sparse_top_k_categorical_accuracy improved from 0.45335 to 0.45944, saving model to drive/MyDrive/Booking challenge/improvement-08-0.46.hdf5\n",
      "Epoch 9/30\n",
      "2456/2456 [==============================] - 222s 90ms/step - loss: 4.2147 - sparse_top_k_categorical_accuracy: 0.4311 - val_loss: 4.7647 - val_sparse_top_k_categorical_accuracy: 0.4574\n",
      "\n",
      "Epoch 00009: val_sparse_top_k_categorical_accuracy did not improve from 0.45944\n",
      "Epoch 10/30\n",
      "2456/2456 [==============================] - 222s 90ms/step - loss: 4.1224 - sparse_top_k_categorical_accuracy: 0.4439 - val_loss: 4.7178 - val_sparse_top_k_categorical_accuracy: 0.4653\n",
      "\n",
      "Epoch 00010: val_sparse_top_k_categorical_accuracy improved from 0.45944 to 0.46530, saving model to drive/MyDrive/Booking challenge/improvement-10-0.47.hdf5\n",
      "Epoch 11/30\n",
      "2456/2456 [==============================] - 227s 92ms/step - loss: 4.0351 - sparse_top_k_categorical_accuracy: 0.4563 - val_loss: 4.6955 - val_sparse_top_k_categorical_accuracy: 0.4717\n",
      "\n",
      "Epoch 00011: val_sparse_top_k_categorical_accuracy improved from 0.46530 to 0.47168, saving model to drive/MyDrive/Booking challenge/improvement-11-0.47.hdf5\n",
      "Epoch 12/30\n",
      "2456/2456 [==============================] - 235s 96ms/step - loss: 3.9592 - sparse_top_k_categorical_accuracy: 0.4679 - val_loss: 4.6926 - val_sparse_top_k_categorical_accuracy: 0.4681\n",
      "\n",
      "Epoch 00012: val_sparse_top_k_categorical_accuracy did not improve from 0.47168\n",
      "Epoch 13/30\n",
      "2456/2456 [==============================] - 230s 94ms/step - loss: 3.8971 - sparse_top_k_categorical_accuracy: 0.4779 - val_loss: 4.6424 - val_sparse_top_k_categorical_accuracy: 0.4755\n",
      "\n",
      "Epoch 00013: val_sparse_top_k_categorical_accuracy improved from 0.47168 to 0.47547, saving model to drive/MyDrive/Booking challenge/improvement-13-0.48.hdf5\n",
      "Epoch 14/30\n",
      "2456/2456 [==============================] - 227s 92ms/step - loss: 3.8393 - sparse_top_k_categorical_accuracy: 0.4868 - val_loss: 4.6751 - val_sparse_top_k_categorical_accuracy: 0.4698\n",
      "\n",
      "Epoch 00014: val_sparse_top_k_categorical_accuracy did not improve from 0.47547\n",
      "Epoch 15/30\n",
      "2456/2456 [==============================] - 231s 94ms/step - loss: 3.7836 - sparse_top_k_categorical_accuracy: 0.4951 - val_loss: 4.6292 - val_sparse_top_k_categorical_accuracy: 0.4785\n",
      "\n",
      "Epoch 00015: val_sparse_top_k_categorical_accuracy improved from 0.47547 to 0.47852, saving model to drive/MyDrive/Booking challenge/improvement-15-0.48.hdf5\n",
      "Epoch 16/30\n",
      "2456/2456 [==============================] - 230s 94ms/step - loss: 3.7378 - sparse_top_k_categorical_accuracy: 0.5035 - val_loss: 4.6537 - val_sparse_top_k_categorical_accuracy: 0.4757\n",
      "\n",
      "Epoch 00016: val_sparse_top_k_categorical_accuracy did not improve from 0.47852\n",
      "Epoch 17/30\n",
      "2456/2456 [==============================] - 228s 93ms/step - loss: 3.6939 - sparse_top_k_categorical_accuracy: 0.5100 - val_loss: 4.6448 - val_sparse_top_k_categorical_accuracy: 0.4813\n",
      "\n",
      "Epoch 00017: val_sparse_top_k_categorical_accuracy improved from 0.47852 to 0.48133, saving model to drive/MyDrive/Booking challenge/improvement-17-0.48.hdf5\n",
      "Epoch 18/30\n",
      "2456/2456 [==============================] - 221s 90ms/step - loss: 3.6516 - sparse_top_k_categorical_accuracy: 0.5166 - val_loss: 4.6579 - val_sparse_top_k_categorical_accuracy: 0.4781\n",
      "\n",
      "Epoch 00018: val_sparse_top_k_categorical_accuracy did not improve from 0.48133\n",
      "Epoch 19/30\n",
      "2456/2456 [==============================] - 239s 97ms/step - loss: 3.6100 - sparse_top_k_categorical_accuracy: 0.5240 - val_loss: 4.6444 - val_sparse_top_k_categorical_accuracy: 0.4805\n",
      "\n",
      "Epoch 00019: val_sparse_top_k_categorical_accuracy did not improve from 0.48133\n",
      "Epoch 20/30\n",
      "2456/2456 [==============================] - 232s 95ms/step - loss: 3.5764 - sparse_top_k_categorical_accuracy: 0.5294 - val_loss: 4.6645 - val_sparse_top_k_categorical_accuracy: 0.4828\n",
      "\n",
      "Epoch 00020: val_sparse_top_k_categorical_accuracy improved from 0.48133 to 0.48277, saving model to drive/MyDrive/Booking challenge/improvement-20-0.48.hdf5\n",
      "Epoch 21/30\n",
      "2456/2456 [==============================] - 229s 93ms/step - loss: 3.5379 - sparse_top_k_categorical_accuracy: 0.5366 - val_loss: 4.6694 - val_sparse_top_k_categorical_accuracy: 0.4783\n",
      "\n",
      "Epoch 00021: val_sparse_top_k_categorical_accuracy did not improve from 0.48277\n",
      "Epoch 22/30\n",
      "2456/2456 [==============================] - 237s 97ms/step - loss: 3.5118 - sparse_top_k_categorical_accuracy: 0.5401 - val_loss: 4.6505 - val_sparse_top_k_categorical_accuracy: 0.4868\n",
      "\n",
      "Epoch 00022: val_sparse_top_k_categorical_accuracy improved from 0.48277 to 0.48685, saving model to drive/MyDrive/Booking challenge/improvement-22-0.49.hdf5\n",
      "Epoch 23/30\n",
      "2456/2456 [==============================] - 242s 99ms/step - loss: 3.4814 - sparse_top_k_categorical_accuracy: 0.5451 - val_loss: 4.6592 - val_sparse_top_k_categorical_accuracy: 0.4847\n",
      "\n",
      "Epoch 00023: val_sparse_top_k_categorical_accuracy did not improve from 0.48685\n",
      "Epoch 24/30\n",
      "2456/2456 [==============================] - 243s 99ms/step - loss: 3.4495 - sparse_top_k_categorical_accuracy: 0.5510 - val_loss: 4.6650 - val_sparse_top_k_categorical_accuracy: 0.4805\n",
      "\n",
      "Epoch 00024: val_sparse_top_k_categorical_accuracy did not improve from 0.48685\n",
      "Epoch 25/30\n",
      "2456/2456 [==============================] - 235s 96ms/step - loss: 3.4224 - sparse_top_k_categorical_accuracy: 0.5557 - val_loss: 4.6487 - val_sparse_top_k_categorical_accuracy: 0.4835\n",
      "\n",
      "Epoch 00025: val_sparse_top_k_categorical_accuracy did not improve from 0.48685\n",
      "Epoch 26/30\n",
      "2456/2456 [==============================] - 241s 98ms/step - loss: 3.3955 - sparse_top_k_categorical_accuracy: 0.5605 - val_loss: 4.6800 - val_sparse_top_k_categorical_accuracy: 0.4832\n",
      "\n",
      "Epoch 00026: val_sparse_top_k_categorical_accuracy did not improve from 0.48685\n",
      "Epoch 27/30\n",
      "2456/2456 [==============================] - 253s 103ms/step - loss: 3.3749 - sparse_top_k_categorical_accuracy: 0.5643 - val_loss: 4.6894 - val_sparse_top_k_categorical_accuracy: 0.4819\n",
      "\n",
      "Epoch 00027: val_sparse_top_k_categorical_accuracy did not improve from 0.48685\n",
      "Epoch 28/30\n",
      "2456/2456 [==============================] - 255s 104ms/step - loss: 3.3478 - sparse_top_k_categorical_accuracy: 0.5688 - val_loss: 4.6938 - val_sparse_top_k_categorical_accuracy: 0.4819\n",
      "\n",
      "Epoch 00028: val_sparse_top_k_categorical_accuracy did not improve from 0.48685\n",
      "Epoch 29/30\n",
      "2456/2456 [==============================] - 252s 103ms/step - loss: 3.3288 - sparse_top_k_categorical_accuracy: 0.5722 - val_loss: 4.7061 - val_sparse_top_k_categorical_accuracy: 0.4793\n",
      "\n",
      "Epoch 00029: val_sparse_top_k_categorical_accuracy did not improve from 0.48685\n",
      "Epoch 30/30\n",
      "2456/2456 [==============================] - 254s 103ms/step - loss: 3.3031 - sparse_top_k_categorical_accuracy: 0.5768 - val_loss: 4.7023 - val_sparse_top_k_categorical_accuracy: 0.4821\n",
      "\n",
      "Epoch 00030: val_sparse_top_k_categorical_accuracy did not improve from 0.48685\n"
     ]
    }
   ],
   "source": [
    "history = model.fit(train_generator,\n",
    "        steps_per_epoch=num_train_samples // batch_size,\n",
    "        epochs=30,\n",
    "        validation_data=val_generator,\n",
    "        validation_steps=num_val_samples // batch_size,\n",
    "                    batch_size=batch_size, \n",
    "                    callbacks=callbacks_list,                \n",
    ")"
   ]
  },
  {
   "cell_type": "code",
   "execution_count": 39,
   "metadata": {
    "colab": {
     "base_uri": "https://localhost:8080/",
     "height": 573
    },
    "id": "YPBB1p3EwLeh",
    "outputId": "f292a123-3d90-4632-9f48-659acd75006c"
   },
   "outputs": [
    {
     "data": {
      "image/png": "[encoded data removed]",
      "text/plain": [
       "<Figure size 432x288 with 1 Axes>"
      ]
     },
     "metadata": {
      "needs_background": "light",
      "tags": []
     },
     "output_type": "display_data"
    },
    {
     "data": {
      "image/png": "[encoded data removed]",
      "text/plain": [
       "<Figure size 432x288 with 1 Axes>"
      ]
     },
     "metadata": {
      "needs_background": "light",
      "tags": []
     },
     "output_type": "display_data"
    }
   ],
   "source": [
    "import matplotlib.pyplot as plt\n",
    "# summarize history for accuracy\n",
    "plt.plot(history.history['sparse_top_k_categorical_accuracy'])\n",
    "plt.plot(history.history['val_sparse_top_k_categorical_accuracy'])\n",
    "plt.title('model accuracy')\n",
    "plt.ylabel('accuracy')\n",
    "plt.xlabel('epoch')\n",
    "plt.legend(['train', 'test'], loc='upper left')\n",
    "plt.show()\n",
    "# summarize history for loss\n",
    "plt.plot(history.history['loss'])\n",
    "plt.plot(history.history['val_loss'])\n",
    "plt.title('model loss')\n",
    "plt.ylabel('loss')\n",
    "plt.xlabel('epoch')\n",
    "plt.legend(['train', 'test'], loc='upper left')\n",
    "plt.show()"
   ]
  },
  {
   "cell_type": "code",
   "execution_count": null,
   "metadata": {
    "id": "7BXldLUGwLeh"
   },
   "outputs": [],
   "source": []
  }
 ],
 "metadata": {
  "accelerator": "GPU",
  "colab": {
   "collapsed_sections": [],
   "machine_shape": "hm",
   "name": "3 - Train model on generators.ipynb",
   "provenance": []
  },
  "kernelspec": {
   "display_name": "Python 3",
   "language": "python",
   "name": "python3"
  },
  "language_info": {
   "codemirror_mode": {
    "name": "ipython",
    "version": 3
   },
   "file_extension": ".py",
   "mimetype": "text/x-python",
   "name": "python",
   "nbconvert_exporter": "python",
   "pygments_lexer": "ipython3",
   "version": "3.8.5"
  }
 },
 "nbformat": 4,
 "nbformat_minor": 1
}
